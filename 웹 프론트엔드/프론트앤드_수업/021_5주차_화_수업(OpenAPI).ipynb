{
 "cells": [
  {
   "cell_type": "markdown",
   "metadata": {},
   "source": [
    "# 네이버 API\n",
    "\n",
    "Client ID : lwVJz19LK3hh35FwFEQk\n",
    "Client Secret : 메모장\n",
    "\n",
    "## Postman\n",
    "\n",
    "앞서 생성한 OpenAPI 애플리케이션이 잘 생성되었는지 Postman을 이용해서 확인해봅시다. Postman은 API를 테스트하기 위한 도구로 사용되며, 링크에서 다운로드를 받을 수 있으며 크롬 확장 프로그램으로 설치하여 이용할 수도 있습니다. Postman 설치 후 아래 과정에 따라 API 테스트를 진행해봅시다.\n",
    "\n",
    "1. Collections를 선택한 후 + 버튼을 눌러 새로운 Collection을 만드세요.\n",
    "2. Collection의 이름을 자유롭게 설정한 후 Add a request를 클릭하여 새로운 request를 만드세요.\n",
    "3. HTTP 요청 상태를 GET으로 설정하고 API 주소 https://openapi.naver.com/v1/search/shop를 입력하세요. 그리고 ?query=컴퓨터와 같은 형태로 검색하고 싶은 단어를 넘겨주시면 됩니다. Params에 KEY와 VALUE 값을 직접 입력해도 괜찮습니다! 즉, query에 입력된 것이 검색어입니다. 다른 요청 변수에 대한 설명은 링크를 참조하시면 됩니다.\n",
    "4. 다음으로 Headers에서 OpenAPI를 생성했을 때 받은 키를 넘겨줍니다. KEY X-Naver-Client-Id에 VALUE는 생성한 애플리케이션에서 얻은 Client ID를 넘겨주고, KEY X-Naver-Client-Secret에 VALUE는 생성한 애플리케이션에서 얻은 Client Secret을 넘겨줍니다.\n",
    "5. 마지막으로 Send 버튼을 클릭하고 요청 결과를 확인하세요!\n",
    "\n",
    "## 참고 블로그\n",
    "\n",
    "[참고 블로그](https://developers.naver.com/docs/serviceapi/search/blog/blog.md#%EB%B8%94%EB%A1%9C%EA%B7%B8)\n",
    "\n",
    "```js\n",
    "  axios.get( 요청할 url,\n",
    "    { params: { query: 검색어 }, \n",
    "    headers: {'X-Naver-Client-Id': Client ID, 'X-Naver-Client-Secret': Client Secret}\n",
    "    })\n",
    "```\n",
    "### 프록시\n",
    "\n",
    "https://cors-anywhere.herokuapp.com/\n",
    "\n",
    "- 프록시를 사용해도 해결되지 않는 경우 프록시 주소로 들어가 Request temporary access to the demo server 버튼을 눌러주세요!\n",
    "\n",
    "### dangerouslySetInnerHTML\n",
    "\n",
    "html 태그가 있는 문자열 제거\n",
    "\n",
    "```js\n",
    "    <div dangerouslySetInnerHTML={{__html: 'HTML 태그가 포함된 문자열'}} />\n",
    "```"
   ]
  }
 ],
 "metadata": {
  "language_info": {
   "name": "python"
  },
  "orig_nbformat": 4
 },
 "nbformat": 4,
 "nbformat_minor": 2
}
