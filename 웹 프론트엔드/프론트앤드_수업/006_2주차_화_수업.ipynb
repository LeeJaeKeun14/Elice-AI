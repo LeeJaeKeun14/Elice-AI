{
 "cells": [
  {
   "cell_type": "markdown",
   "source": [
    "# 수업\r\n",
    "\r\n",
    "## git 구경하기\r\n",
    "\r\n",
    "### git lap 사용\r\n",
    "\r\n",
    "### (자바 스크립트 이벤트)[https://www.w3schools.com/tags/ref_eventattributes.asp]\r\n",
    "\r\n",
    "\r\n",
    "\r\n"
   ],
   "metadata": {}
  },
  {
   "cell_type": "markdown",
   "source": [],
   "metadata": {}
  }
 ],
 "metadata": {
  "orig_nbformat": 4,
  "language_info": {
   "name": "python"
  }
 },
 "nbformat": 4,
 "nbformat_minor": 2
}