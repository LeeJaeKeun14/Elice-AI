{
 "cells": [
  {
   "cell_type": "markdown",
   "source": [
    "# 자료구조와 알고리즘\r\n",
    "\r\n",
    "## 알고리즘\r\n",
    "\r\n",
    "- 문제를 해결하는 방법\r\n",
    "  - 효율적 : 속도 빠르게, 메모리 적게\r\n",
    "    - 시간 복잡도 : 특정 크기의 입력에 대해 알고리즘 수행 시간 분석\r\n",
    "    - 공간 복잡도 : 특정 크기의 입력에 대해 알고리즘의 메모리 사용량 분석\r\n",
    "      - 빅오 표기법 (Big-O Notation)\r\n",
    "      - 최악의 경우일때의 시간 복잡도\r\n",
    "\r\n",
    "### 자료구조\r\n",
    "\r\n",
    "- 파이썬 기본 자료구조\r\n",
    "- 링크드 리스트\r\n",
    "- 스택, 큐\r\n",
    "- 트리\r\n",
    "- 그래프\r\n",
    "\r\n",
    "### 알고리즘\r\n",
    "\r\n",
    "- 재귀호출\r\n",
    "- 정렬\r\n",
    "- 완전탐색\r\n",
    "- 탐욕적 기법 //\r\n",
    "- 분할 정복 //\r\n",
    "- 동적계획법\r\n",
    "- 그래프 알고리즘 //\r\n",
    "\r\n",
    "### 코딩 테스트\r\n",
    "\r\n",
    "- 온/오프라인 알고리즘\r\n",
    "- 2 ~ 5시간\r\n",
    "\r\n",
    "- 유형\r\n",
    "  - 구현 : 33\r\n",
    "  - BFS/DFS : 20.9\r\n",
    "  - 그리디(쉬움) : 19.2\r\n",
    "  - 다이나믹 프로그래임(동적계획법) : 8.2\r\n",
    "  - 정렬 : 8.2\r\n",
    "  - 이진 탐색 : 3.8\r\n",
    "  - 최단 경로 : 3.3\r\n",
    "\r\n",
    "## 시간 복잡도\r\n",
    "\r\n",
    "```python\r\n",
    "    result = 0\r\n",
    "    for i in range(n):\r\n",
    "        result += 1\r\n",
    "    print(result)\r\n",
    "```\r\n",
    "\r\n",
    "- 시간 복잡도 O(n)\r\n",
    "\r\n",
    "```python\r\n",
    "    result = 0\r\n",
    "    for i in range(n):\r\n",
    "        for j in range(n):\r\n",
    "            result += j\r\n",
    "    print(result)\r\n",
    "```\r\n",
    "\r\n",
    "\r\n",
    "```python\r\n",
    "    result = 0\r\n",
    "    for i in range(n):\r\n",
    "        for j in range(n):\r\n",
    "            result += j\r\n",
    "\r\n",
    "    for i in range(n):\r\n",
    "        result += i\r\n",
    "    print(result)\r\n",
    "```\r\n",
    "\r\n",
    "- 두 경우 모두 O($n^2$) \r\n",
    "\r\n",
    "## Complexity\r\n",
    "\r\n",
    "일반적인 채점용 서버에서 파이썬은 1초에 2천만법 ~ 2천 5백만번의 연산 처리 가능\r\n",
    "\r\n",
    "\r\n",
    "## class 선언, 상속\r\n",
    "\r\n",
    "## 링크드 리스트!!! 개어려워!!!\r\n",
    "\r\n",
    "- 머리아파\r\n",
    "  \r\n",
    "## 스택 큐 \r\n",
    "\r\n",
    "- 은근 어려웠다\r\n",
    "\r\n",
    "### 스택(stack)\r\n",
    "\r\n",
    "- Last in First Out\r\n",
    "  - push : 마지막에 추가한다\r\n",
    "  - pop : 마지막 값이 제거된다\r\n",
    "\r\n",
    "### 큐(Queue)\r\n",
    "\r\n",
    "- First in First Out\r\n",
    "  - put : 마지막에 추가한다\r\n",
    "  - get : 처음을 가져온다\r\n",
    "  - qsize : 크기 확인 `len(ls)` 기능\r\n",
    "\r\n",
    "## 재귀호출\r\n",
    "\r\n",
    "- 팩토리얼\r\n",
    "- 피보나치\r\n",
    "  - 메모이재이션(Memoization)\r\n",
    "\r\n",
    "## 퀵 정렬?\r\n",
    "\r\n",
    "## 트리구조\r\n",
    "\r\n",
    "- 전위 순회\r\n",
    "- 중위 순회\r\n",
    "- 후위 순회\r\n",
    "\r\n",
    "\r\n"
   ],
   "metadata": {}
  },
  {
   "cell_type": "code",
   "execution_count": 8,
   "source": [
    "l = 1\r\n",
    "a = 3 if l != 1 else None\r\n",
    "\r\n",
    "print(a)\r\n",
    "\r\n",
    "\r\n",
    "l = 2\r\n",
    "a = 3 if l != 1 else None\r\n",
    "\r\n",
    "print(a)"
   ],
   "outputs": [
    {
     "output_type": "stream",
     "name": "stdout",
     "text": [
      "None\n",
      "3\n"
     ]
    }
   ],
   "metadata": {}
  },
  {
   "cell_type": "code",
   "execution_count": 9,
   "source": [
    "sorted(\"321\")"
   ],
   "outputs": [
    {
     "output_type": "execute_result",
     "data": {
      "text/plain": [
       "['1', '2', '3']"
      ]
     },
     "metadata": {},
     "execution_count": 9
    }
   ],
   "metadata": {}
  },
  {
   "cell_type": "code",
   "execution_count": 19,
   "source": [
    "dic1 = {\"b\" : 1}\r\n",
    "\r\n",
    "print(dic1.get(\"a\", 0) + 1)\r\n",
    "print(dic1.get(\"b\", 0) + 1)"
   ],
   "outputs": [
    {
     "output_type": "stream",
     "name": "stdout",
     "text": [
      "1\n",
      "2\n"
     ]
    }
   ],
   "metadata": {}
  },
  {
   "cell_type": "code",
   "execution_count": 7,
   "source": [
    "from math import sqrt\r\n",
    "\r\n",
    "def eratosthenes(N):\r\n",
    "    arr = [1 for i in range(N + 1)]\r\n",
    "    result = [2]\r\n",
    "\r\n",
    "    size = int(sqrt(N)) + 1\r\n",
    "\r\n",
    "    for i in range(4, N + 1, 2):\r\n",
    "        arr[i] = 0\r\n",
    "\r\n",
    "    for i in range(3, size, 2):\r\n",
    "        if not arr[i]: continue\r\n",
    "        result.append(i)\r\n",
    "        for j in range(i * i, N + 1, i):\r\n",
    "            arr[j] = 0\r\n",
    "\r\n",
    "    result.extend([idx + size for idx, val in enumerate(arr[size:]) if val])\r\n",
    "    return result\r\n",
    "\r\n",
    "print(eratosthenes(15))"
   ],
   "outputs": [
    {
     "output_type": "stream",
     "name": "stdout",
     "text": [
      "[2, 3, 5, 7, 11, 13]\n"
     ]
    }
   ],
   "metadata": {}
  },
  {
   "cell_type": "code",
   "execution_count": null,
   "source": [],
   "outputs": [],
   "metadata": {}
  }
 ],
 "metadata": {
  "orig_nbformat": 4,
  "language_info": {
   "name": "python",
   "version": "3.7.6",
   "mimetype": "text/x-python",
   "codemirror_mode": {
    "name": "ipython",
    "version": 3
   },
   "pygments_lexer": "ipython3",
   "nbconvert_exporter": "python",
   "file_extension": ".py"
  },
  "kernelspec": {
   "name": "python3",
   "display_name": "Python 3.7.6 64-bit ('base': conda)"
  },
  "interpreter": {
   "hash": "a72db88ba1b83b14b878414906427eaf31b62ee068e6a91eed760b39b4619b71"
  }
 },
 "nbformat": 4,
 "nbformat_minor": 2
}