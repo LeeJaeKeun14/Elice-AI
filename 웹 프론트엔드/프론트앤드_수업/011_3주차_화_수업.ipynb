{
 "cells": [
  {
   "cell_type": "markdown",
   "source": [
    "# react\r\n",
    "\r\n",
    "node js 다운\r\n",
    "\r\n",
    "- 새폴더 만들기\r\n",
    "  - 터미널에서\r\n",
    "    - `npx create-react-app .` 입력\r\n",
    "\r\n",
    "### exclude\r\n",
    " \r\n",
    "설정에서 숨김파일 설정 가능\r\n",
    "\r\n",
    "### 확장기능\r\n",
    "\r\n",
    "컨트롤 알트 l"
   ],
   "metadata": {}
  }
 ],
 "metadata": {
  "orig_nbformat": 4,
  "language_info": {
   "name": "python"
  }
 },
 "nbformat": 4,
 "nbformat_minor": 2
}