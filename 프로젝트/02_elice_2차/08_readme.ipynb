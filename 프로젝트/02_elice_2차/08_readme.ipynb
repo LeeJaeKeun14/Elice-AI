{
 "cells": [
  {
   "cell_type": "markdown",
   "metadata": {},
   "source": [
    "- 데이터분석 :\n",
    "  - 데이터 : total_data.csv\n",
    "    - shape : (19144, 15)\n",
    "    - columns : '제목', '원제', '개봉일', '스트리밍', '대여', '구매', '평점', '평가수', '장르', '종류', '재생 시간', '감독', '출연진', '시놉시스', '이미지'\n",
    "    - 수집방법 : [Just Watch](https://www.justwatch.com/kr)에서 selenium으로 수집"
   ]
  },
  {
   "cell_type": "markdown",
   "metadata": {},
   "source": [
    "## TF - IDF\n",
    "\n",
    "- 단어 빈도-역 문서 빈도 (Term Frequency-Inverse Document Frequency)\n",
    "\n",
    "$ TF-IDF \\; = \\; TF(t, d) \\times IDF(t) $\n",
    "- TF(t, d) : Term Frequency\n",
    "  - 특정 문서 d에서 특정 단어 t 등장 횟수\n",
    "- DF(t) : Document Frequency\n",
    "  - 특정 단어 t가 등장한 문서의 수\n",
    "- IDF(t) : Inverse Document Frequency\n",
    "  - N / DF\n",
    "  - $ \\log \\frac{n}{DF(d, t) + 1}$\n",
    "- t : term(word)\n",
    "- d : document(set of words)\n",
    "- N : 말뭉치의 수"
   ]
  },
  {
   "cell_type": "markdown",
   "metadata": {},
   "source": [
    "하지만, Counter Vectorizer는 단순 빈도만을 계산하기에 조사, 관사처럼 의미는 없지만 문장에 많이 등장하는 단어들도 높게 쳐주는 한계가 있다. 이러한 단어들(I, this, movie 등)에는 페널티를 줘서 적절하게 중요한 단어만을 잡아내는 게 TF-IDF 기법이다."
   ]
  },
  {
   "cell_type": "markdown",
   "metadata": {},
   "source": [
    "[참고](https://vivi-world.tistory.com/136)\n",
    "## 거리 기반 계산식\n",
    "\n",
    "유클리드 거리\n",
    "\n",
    "## 유사도 계산식\n",
    "\n",
    "코사인 유사도"
   ]
  },
  {
   "cell_type": "markdown",
   "metadata": {},
   "source": [
    "Recommendation"
   ]
  },
  {
   "cell_type": "code",
   "execution_count": null,
   "metadata": {},
   "outputs": [],
   "source": []
  }
 ],
 "metadata": {
  "interpreter": {
   "hash": "a72db88ba1b83b14b878414906427eaf31b62ee068e6a91eed760b39b4619b71"
  },
  "kernelspec": {
   "display_name": "Python 3.8.1 64-bit ('base': conda)",
   "language": "python",
   "name": "python3"
  },
  "language_info": {
   "codemirror_mode": {
    "name": "ipython",
    "version": 3
   },
   "file_extension": ".py",
   "mimetype": "text/x-python",
   "name": "python",
   "nbconvert_exporter": "python",
   "pygments_lexer": "ipython3",
   "version": "3.8.1"
  },
  "orig_nbformat": 4
 },
 "nbformat": 4,
 "nbformat_minor": 2
}
