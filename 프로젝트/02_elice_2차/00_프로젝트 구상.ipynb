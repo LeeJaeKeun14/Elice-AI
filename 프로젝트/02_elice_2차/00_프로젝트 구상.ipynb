{
 "cells": [
  {
   "cell_type": "markdown",
   "metadata": {},
   "source": [
    "# 프로젝트 구상\n",
    "\n",
    "[아사나](https://app.asana.com/0/1201537286846401/timeline)\n",
    "\n",
    "결과 tabule 인가 뭔가 하는 시각화 툴 사용\n",
    "\n",
    "[프로젝트 게시판](https://www.notion.so/elice/6954a62f77614e37a1e90b325df09a51)\n",
    "\n",
    "[도메인](https://elice-kdt-3rd-team-01.koreacentral.cloudapp.azure.com)"
   ]
  },
  {
   "cell_type": "markdown",
   "metadata": {},
   "source": [
    "|  이름  |  담당 업무   |\n",
    "| :---:  |   :---:     |\n",
    "| 김현하 | 프론트 앤드 |\n",
    "| 이무원 | 백엔드      |\n",
    "| 장서우 | 배엔드      |\n",
    "| 이재근 | 데이터 분석 |\n",
    "| 전현호 | 데이터 분석 |"
   ]
  },
  {
   "cell_type": "markdown",
   "metadata": {},
   "source": [
    "## OTT 서비스\n",
    "\n",
    "- 주제 선정\n",
    "  - 코로나 : 서비스 유저 유입을 위하여 코로나 확진자 비율을 사용하여 유입할 성별, 연령 분석.\n",
    "\n",
    "- 각 분야별 구현 가능한 기술 스텍\n",
    "\n",
    "- 원하는 서비스\n",
    "\n",
    "- 데이터 선정"
   ]
  },
  {
   "cell_type": "markdown",
   "metadata": {},
   "source": [
    "!!! 데이터 분석 !!!!\n",
    "- 콘텐츠 추천\n",
    "- 설문 조사. MBTI \n",
    "\n",
    "- 이상형 월드컵.(인기, 많이 본 영화)\n",
    "  - 직업심리 영화추천.\n",
    "- 해리포터 아이디어\n",
    "  - 기숙사 모자 서비스.\n",
    "- OTT 간 비교.\n",
    "  - 성적 비교.!!\n",
    "- OTT 서비스 안 컨텐츠 분류\n",
    "  - 서비스 추천\n",
    "\n",
    "- 방구석 영화관\n",
    "  - 입장 수(200명)\n",
    "  - 채팅방(초대형식)\n",
    "  - 코로나?\n",
    "  - 인공지능 가미...\n",
    "    - 영화, 얼굴 (이모티콘)\n",
    "  - 와차피디아 처럼 기능구현해보자."
   ]
  },
  {
   "cell_type": "markdown",
   "metadata": {},
   "source": [
    "1. 데이터 분석. 인사이트 \n",
    "   1. 데이터 분석 \n",
    "2. "
   ]
  },
  {
   "cell_type": "markdown",
   "metadata": {},
   "source": [
    "- 사용자 상호작용이 어떠한 내용들이 있을까?\n",
    "- "
   ]
  },
  {
   "cell_type": "markdown",
   "metadata": {},
   "source": [
    "- 오늘 회의 결정사항\n",
    "  - 1. 아사나 회의 방법\n",
    "  - 규칙 결정\n",
    "  - 프로젝트 주제\n",
    "  - \n",
    "\n",
    "- 규칙\n",
    "1. 각자의 포지션에서 최선을 다하고, 우리는 모두 배우는 입장이므로 서로 모르는것을 질문할때 망설이지 않고 질문하기.\n",
    "2. 그래도 모두 모를경우 오피스아워를 철저하게 준비하기.\n",
    "3. 자신의 포지션에 최선을 다하며, 전체 프로젝트에 적극적으로 참여하기\n",
    "4. 항상 아자! 아자! 화이팅!!!\n",
    "\n",
    "5. 매일 스크럼 회의 오전 10시(10 ~ 15분간)\n",
    "6. 매일 오후 5시 오피스 아워 대비 회의(10 ~ 15분간)\n",
    "7. 매주 토요일 프로젝트 진행 회고 및 개선사항 회의\n",
    "8. GitLab Wiki 페이지 추가시 index 페이지에 [제목](제목) 형식으로 추가하기\n",
    "9. 프로젝트 발표 이후 1/10(월) 뒤풀이\n",
    "\n",
    "- gitlab 구성하기\n",
    "  - 페이지 관리(master - ㅣㅣ - ㅣㅣ)\n",
    "  - 위키 관리\n",
    "  - 보드 관리\n",
    "\n",
    "*** \n",
    "\n",
    "- commit\n",
    "  - feat : 새로운 기능의 추가\n",
    "  - fix: 버그 수정\n",
    "  - docs: 문서 수정\n",
    "  - style: 스타일 관련 기능(코드 포맷팅, 세미콜론 누락, 코드 자체의 변경이 없는 경우)\n",
    "  - refactor: 코드 리펙토링\n",
    "  - test: 테스트 코트, 리펙토링 테스트 코드 추가\n",
    "  - chore: 빌드 업무 수정, 패키지 매니저 수정(ex .gitignore 수정 같은 경우)\n",
    "\n",
    "- branch :\n",
    "  1. Master Branch.\n",
    "  2. Sprint Branch. \n",
    "  3. Feature Branch.\n",
    "\n",
    "- issues :\n",
    "  - 제목 : [포지션] 업무\n",
    "  - 프레임워크 : feature_request\n",
    "  - Labels : Todo(해야할 일), Ongoing(진행중), issues(에러), Closed(완료)"
   ]
  },
  {
   "cell_type": "markdown",
   "metadata": {},
   "source": [
    "# 도커\n",
    "\n"
   ]
  },
  {
   "cell_type": "markdown",
   "metadata": {},
   "source": [
    "# 한국 OTT"
   ]
  },
  {
   "cell_type": "markdown",
   "metadata": {},
   "source": [
    "- 왓챠 (무료중) (의심)\n",
    "- 네플릭스 (1달 ) (완료)\n",
    "- 네이버 맴버십(1달) (완료)\n",
    "  - 가입하고 확인하였으나(무료만 무료)\n",
    "- 웨이브 (1달) (완료)\n",
    "  - 가입하고 확인해보니 개별 구매 필요"
   ]
  },
  {
   "cell_type": "markdown",
   "metadata": {},
   "source": [
    "왓챠, 웨이브, 티빙, 쿠팡플레이, 넷플릭스, 애플TV+, 디즈니+ 외에\n",
    "\n",
    "라프텔, 시즌\n",
    "네이버 카카오 TV"
   ]
  },
  {
   "cell_type": "markdown",
   "metadata": {},
   "source": [
    "1. 왓챠 : Watcha (사진 156.23 * 87.88)\n",
    "   - 제목 : (레드)\n",
    "   - 평균별점 : (3.6)\n",
    "   - 폄점 수 : 285022명\n",
    "   - 연령 제한 : 15세\n",
    "   - 상영 시간 : 1시간 51분\n",
    "   - 분석 : 사청을 시작한 사용자 57%가 줄곧 1시간 이상을 본 작품\n",
    "   - 줄거리 : 은퇴해서 평화로운 ...\n",
    "   - 감독 : 로베르트 슈벤트케\n",
    "   - 출연 : 브루스 윌리스, 모건 프리먼, ...\n",
    "   - 장르 : 액션 코미디\n",
    "   - 특징 : 완성도, 웃긴(없을수도 있음)\n",
    "   - 국가 : 미국\n",
    "   - 상영 시기 : 2010년\n",
    "\n",
    "2. 웨이브 : wavve\n",
    "   - 제목 : 쇼윈도: 여왕의 집\n",
    "   - 화수 : 7화\n",
    "   - 방영일 : 2020-12-20 (월)\n",
    "   - 종류 : 드라마\n",
    "   - 상영시간 : 64분\n",
    "   - 연령 제한 : 15세\n",
    "   - 줄거리 : 생각지도 못한 미라의 ...\n",
    "   - 출연진 : 송윤아, 이성재, 전소민, 황찬성\n",
    "   - 개요 : wavve 오리지널\n",
    "   - 방영연도 : 2021년\n",
    "   - 장르 : #월화드라마, #미스터리\n",
    "   - 감독 : 강솔, 박대희\n",
    "   - 작가 : 한보경, 박혜영\n",
    "\n",
    "   - 웨이브(영화)(사진 240*346)\n",
    "   - 제목 : 해리포터와 마법사의 돌\n",
    "   - 평점 : 9.25\n",
    "   - 장르 : 가족\n",
    "   - 상영시간 : 152분\n",
    "   - 연령 제한 : 전체\n",
    "   - 줄거리 : ... \n",
    "   - 원제 : Harry Potter And The Sorcerer's Stone\n",
    "   - 개요 : 미국, 2001년\n",
    "   - 장르 :\t#가족, #모험, #판타지\n",
    "   - 감독 :\t크리스 콜럼버스\n",
    "   - 출연 :\t다니엘 래드클리프, 엠마 왓슨, 루퍼트 그린트\n",
    "   - 정보 : 주제 : 보통 / 선정성 : 보통 / 폭력성 : 보통 / 공포 : 보통 / 약물 : 보통 / 대사 : 보통 / 모방위험 : 보통\n",
    "\n",
    "3. 티빙(사진 184*263)\n",
    "  - 영화\n",
    "  - 제목 : 모가디슈\n",
    "  - 개봉일 : 2021.07.28\n",
    "  - 연령 제한 : 15세 관람가\n",
    "  - 개요 : 액션/SF \n",
    "  - 상영 시간 : 121분\n",
    "  - 감독 : 류승완\n",
    "  - 출연 : 김윤석, 조인성, 허준호, 구교환, ...\n",
    "  - 줄거리 : 내전으로 고립된 낮선 ...\n",
    "\n",
    "  - TV쇼\n",
    "  - 제목 : 세상에 나쁜 개는 없다\n",
    "  - 개봉일 : 2019.01.04\n",
    "  - 상영 시간 : 45분 \n",
    "  - 줄거리 : 신년을 맞아서 ...\n",
    "  - 개요 : 교양, EBS1 금 오후 11:05\n",
    "\n",
    "4. 쿠팡플레이\n",
    "  - TV예능\n",
    "  - 제목 : SNL 코리아 (읽고 눌러세 세부내용 확인)\n",
    "  - 상영시간 : 1시간\n",
    "  - 연령 제한 : 18+\n",
    "  - 개봉일 : 2021\n",
    "  - 줄거리 : 이번 주 토요일 밤\n",
    "  - 감독 : 안상휘, 유성모, 권성욱, 오원택 (더보기 클릭)\n",
    "  - 출연 : 신동엽, 안영미, 정상훈,\n",
    "  - 장르 : 예능 코미디\n",
    "\n",
    "  - 영화\n",
    "  - 제목 : 해리포터와 마법사의 돌\n",
    "  - 상영시간 : 2시간 32분\n",
    "  - 연령 제한 : ALL\n",
    "  - 개봉일 : 2001\n",
    "  - 줄거리 : 이모네의 벽장에서 ...\n",
    "  - 감독 : 크리스 콜럼버스\n",
    "  - 출연 : 다니엘 레프...\n",
    "  - 장르 : 어드벤쳐, 판타지, 미스터리, 액션, 패밀리, 키즈\n",
    "\n",
    "5. 디즈니 플러스\n",
    "  - 영화\n",
    "  - 제목 : 어벤져스 엔드게임\n",
    "  - 연령 제한 : <img alt=\"rating_kmrb_12+\">\n",
    "  - 개봉일 : 2019\n",
    "  - 상영시간 : 3시간 4분\n",
    "  - 장르 : SF, 판타지, 슈퍼 히어로, 액션 어드벤쳐\n",
    "  - 줄거리 : 인피니티 워 이후 ...\n",
    "  - 연출 : Anthony Russo,  Joe Russo\n",
    "  - 출연 : Robert Downey Jr. Chris Evans, Mark Ruffalo ...\n",
    "\n",
    "6. JustWatch \n",
    "   - 제목 : 모가디슈\n",
    "   - 개봉일 : 2021\n",
    "   - 평점 : 79%, 7.2(1k)\n",
    "   - 장르 : 액션, 드라마, 스릴러\n",
    "   - 재생시간 : 2시간 1분\n",
    "   - 감독 : Ryoo Seung-wan\n",
    "   - 출연진 : Kim Yoon-seok, Jo In-sung, Heo Joon-ho, Kim So-jin\n",
    "   - 시놉시스 : ..."
   ]
  },
  {
   "cell_type": "markdown",
   "metadata": {},
   "source": [
    "# JustWatch  \n",
    "- 사진 (194.59 * 276.64)\n",
    "\n",
    "- 넷플릭스 : 5188\n",
    "- 디즈니 플러스 : 1198\n",
    "- wavve : 13205\n",
    "- 왓챠 : 7399\n",
    "- 애플tv : 83\n",
    "- 네이버 : 12840 개 \n",
    "  - 대부분 대여 혹은 구매, 가끔 맴버십 특별 무료는 오류"
   ]
  },
  {
   "cell_type": "code",
   "execution_count": null,
   "metadata": {},
   "outputs": [],
   "source": [
    "<source data-v-f5c53f52=\"\" type=\"image/webp\" media=\"(max-width: 479px)\" data-srcset=\"https://images.justwatch.com/poster/121494888/s276/eobenjyeoseu-endeugeim.webp, https://images.justwatch.com/poster/121494888/s592/eobenjyeoseu-endeugeim.webp 2x\" sizes=\"350px\" srcset=\"https://images.justwatch.com/poster/121494888/s276/eobenjyeoseu-endeugeim.webp, https://images.justwatch.com/poster/121494888/s592/eobenjyeoseu-endeugeim.webp 2x\">"
   ]
  },
  {
   "cell_type": "markdown",
   "metadata": {},
   "source": [
    "1. 각 사이트별 제공하는 정보 비교\n",
    "2. 하나를 정해 크롤링\n",
    "3. 크롤링 영화 네이버에서 이미지 가져오기"
   ]
  },
  {
   "cell_type": "markdown",
   "metadata": {},
   "source": [
    "- 구체적인 기능\n",
    "\n",
    "- 스택\n",
    "  - 백앤드 입장 : 배포!!\n",
    "    - 도커환경"
   ]
  },
  {
   "cell_type": "markdown",
   "metadata": {},
   "source": [
    "1. 개인 성향에 맞게 추천\n",
    "2. 그에따른 OTT"
   ]
  },
  {
   "cell_type": "markdown",
   "metadata": {},
   "source": [
    "1. 데이터 수집 범위"
   ]
  },
  {
   "cell_type": "markdown",
   "metadata": {},
   "source": [
    "1주일 전체 목표\n",
    "\n",
    "포지션 목표\n"
   ]
  },
  {
   "cell_type": "markdown",
   "metadata": {},
   "source": [
    "# [Home](/Home)\n",
    "\n",
    "***\n",
    "\n",
    "## 기술스택\n",
    "\n",
    "***\n",
    "\n",
    "## 프론트엔드\n",
    "\n",
    "***\n",
    "\n",
    "## 백엔드\n",
    "\n",
    "***\n",
    "\n",
    "## 데이터 분석\n",
    "\n",
    "***\n",
    "\n",
    "## Todo list\n",
    "\n",
    "- [01](01_DB 모델 만들기 및 데이터베이스 구축하기)\n",
    "- [02](02_DB 수정 , 데이터 입력)\n",
    "- [03](03_로그인 기능 만들기)\n",
    "- [04](04_책 대여, 반납, 상세페이지 만들기)\n",
    "- [05](05_책 대여, 반납, 상세페이지 댓글 기능)\n",
    "- [06](06_댓글기능, vm 서버에 올려서 배포 태스트 하기)\n",
    "- [07](07_배포, 서비스 오류 갱신)"
   ]
  }
 ],
 "metadata": {
  "interpreter": {
   "hash": "a72db88ba1b83b14b878414906427eaf31b62ee068e6a91eed760b39b4619b71"
  },
  "kernelspec": {
   "display_name": "Python 3.8.1 64-bit ('base': conda)",
   "language": "python",
   "name": "python3"
  },
  "language_info": {
   "codemirror_mode": {
    "name": "ipython",
    "version": 3
   },
   "file_extension": ".py",
   "mimetype": "text/x-python",
   "name": "python",
   "nbconvert_exporter": "python",
   "pygments_lexer": "ipython3",
   "version": "3.8.1"
  },
  "orig_nbformat": 4
 },
 "nbformat": 4,
 "nbformat_minor": 2
}
