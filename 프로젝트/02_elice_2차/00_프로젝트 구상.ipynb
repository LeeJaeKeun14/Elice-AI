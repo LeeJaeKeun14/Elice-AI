{
 "cells": [
  {
   "cell_type": "markdown",
   "metadata": {},
   "source": [
    "# 프로젝트 구상\n",
    "\n",
    "결과 tabule 인가 뭔가 하는 시각화 툴 사용\n",
    "\n",
    "[프로젝트 게시판](https://www.notion.so/elice/6954a62f77614e37a1e90b325df09a51)"
   ]
  },
  {
   "cell_type": "markdown",
   "metadata": {},
   "source": [
    "|  이름  |  담당 업무   |\n",
    "| :---:  |   :---:     |\n",
    "| 김현하 | 프론트 앤드 |\n",
    "| 이무원 | 백엔드      |\n",
    "| 장서우 | 배엔드      |\n",
    "| 이재근 | 데이터 분석 |\n",
    "| 전현호 | 데이터 분석 |"
   ]
  },
  {
   "cell_type": "markdown",
   "metadata": {},
   "source": [
    "## 주제 선택\n",
    "\n",
    "- 주제\n",
    "  - 목표 : 데이터를 사용해서 정보를 얻기(예측, 통계치, ...)\n",
    "  - 가설검정 : 1. 2. 3. ...\n",
    "\n",
    "- 데이터\n",
    "  - 수집 방법\n",
    "    - api를 제공하는 데이터인가\n",
    "    - 크롤링을 사용해야 하는가\n",
    "  - 데이터 수\n",
    "    - 데이터 변수가 충분한가.\n",
    "    - 데이터 수가 충분한가.\n",
    "\n",
    "- 프로젝트 가치\n",
    "  - 흥미로운가\n",
    "  - 목표가 가치가 있는가(상업성 or 공공성 ...)\n",
    "\n",
    "## OTT 서비스 \n",
    "\n",
    "## 배달 서비스"
   ]
  },
  {
   "cell_type": "markdown",
   "metadata": {},
   "source": [
    "물류 회사\n",
    "\n",
    "쿠팡, 배민 ...\n",
    "\n",
    "- 직영 배달러\n",
    "- 개인 사업 배달서비스원\n",
    "  - 일감... (가게 방울 토마토 이동)\n",
    "\n",
    "- 중개(밴드, 콜센터 등등 아날로그)"
   ]
  }
 ],
 "metadata": {
  "interpreter": {
   "hash": "a72db88ba1b83b14b878414906427eaf31b62ee068e6a91eed760b39b4619b71"
  },
  "kernelspec": {
   "display_name": "Python 3.8.1 64-bit ('base': conda)",
   "language": "python",
   "name": "python3"
  },
  "language_info": {
   "codemirror_mode": {
    "name": "ipython",
    "version": 3
   },
   "file_extension": ".py",
   "mimetype": "text/x-python",
   "name": "python",
   "nbconvert_exporter": "python",
   "pygments_lexer": "ipython3",
   "version": "3.8.1"
  },
  "orig_nbformat": 4
 },
 "nbformat": 4,
 "nbformat_minor": 2
}
