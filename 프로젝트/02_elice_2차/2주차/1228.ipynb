{
 "cells": [
  {
   "cell_type": "markdown",
   "metadata": {},
   "source": [
    "# 데이터\n",
    "\n",
    "전처리"
   ]
  },
  {
   "cell_type": "markdown",
   "metadata": {},
   "source": [
    "# 백엔드\n",
    "\n",
    "## 이무원님\n",
    "\n",
    "포트 문제\n",
    "\n",
    "- 추천 알고리즘 -> csv db\n",
    "\n",
    "***\n",
    "\n",
    "- 유저 로그인 db\n",
    "  - 유저 db, \n",
    "  - 유저 평가 기록\n",
    "- 이를 주고 받는 api\n",
    "- 추가 알고리즘 반영\n",
    "\n",
    "- 추가 방향\n",
    "\n",
    "## 장서우\n",
    "\n",
    "- db 구축\n",
    "- 최신순 추천\n",
    "  - 장르별로 섞어서 뿌리기.\n",
    "\n",
    "- 보고싶은 영화."
   ]
  },
  {
   "cell_type": "markdown",
   "metadata": {},
   "source": [
    "# 프론트 엔드\n",
    "\n",
    "## 김현하\n",
    "\n",
    "- 추가적인 기능\n",
    "\n",
    "- OTT 서비스, 1달 이용권.\n",
    "  - 이용권 공유 게시판."
   ]
  },
  {
   "cell_type": "markdown",
   "metadata": {},
   "source": []
  }
 ],
 "metadata": {
  "language_info": {
   "name": "python"
  },
  "orig_nbformat": 4
 },
 "nbformat": 4,
 "nbformat_minor": 2
}
