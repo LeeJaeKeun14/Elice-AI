{
 "cells": [
  {
   "cell_type": "code",
   "execution_count": null,
   "metadata": {},
   "outputs": [],
   "source": [
    "movie['개봉일'] = movie['개봉일'].str.replace(pat=r'[^\\w\\s]', repl=r'', regex=True) # 괄호 없애기\n",
    "movie['장르'] = movie['장르'].str.replace(pat=r'[\\s]', repl=r'', regex=True) # '코미디 ' 같은 필요없는 공백 제거\n",
    "\n",
    "stream_index = movie[\"스트리밍\"].notna()\n",
    "movie[\"스트리밍\"][stream_index] = movie[\"스트리밍\"][stream_index].apply(lambda x : x.strip(\"[]\")).apply(to_ast_1)\n",
    "stream_index = movie[\"스트리밍\"].notna()\n",
    "movie[\"스트리밍\"][stream_index] = movie[\"스트리밍\"][stream_index].apply(to_dict) \n",
    "\n",
    "stream_index = movie[\"구매\"].notna()\n",
    "movie[\"구매\"][stream_index] = movie[\"구매\"][stream_index].apply(lambda x : x.strip(\"[]\")).apply(to_ast_1)\n",
    "stream_index = movie[\"구매\"].notna()\n",
    "movie[\"구매\"][stream_index] = movie[\"구매\"][stream_index].apply(to_dict)\n",
    "\n",
    "stream_index = movie[\"대여\"].notna()\n",
    "movie[\"대여\"][stream_index] = movie[\"대여\"][stream_index].apply(lambda x : x.strip(\"[]\")).apply(to_ast_1)\n",
    "stream_index = movie[\"대여\"].notna()\n",
    "movie[\"대여\"][stream_index] = movie[\"대여\"][stream_index].apply(to_dict)\n",
    "\n",
    "stream_index = movie[\"감독\"].notna()\n",
    "movie[\"감독\"][stream_index] = movie[\"감독\"][stream_index].apply(lambda x : x.strip(\"[]\")).apply(to_ast_1)\n",
    "stream_index = movie[\"재생 시간\"].notna()\n",
    "movie[\"재생 시간\"][stream_index] = movie[\"재생 시간\"][stream_index].apply(lambda x : x.strip(\"[]\")).apply(to_ast_1)\n",
    "stream_index = movie[\"출연진\"].notna()\n",
    "movie[\"출연진\"][stream_index] = movie[\"출연진\"][stream_index].apply(lambda x : x.strip(\"[]\")).apply(to_ast_1)\n",
    "stream_index = movie[\"장르\"].notna()\n",
    "movie[\"장르\"][stream_index] = movie[\"장르\"][stream_index].apply(lambda x : x.strip(\"[]\")).apply(to_ast_1)\n",
    "stream_index = movie[\"평점\"].notna()\n",
    "movie[\"평점\"][stream_index] = movie[\"평점\"][stream_index].apply(lambda x : x.strip(\"[]\")).apply(to_ast_1)"
   ]
  },
  {
   "cell_type": "code",
   "execution_count": null,
   "metadata": {},
   "outputs": [],
   "source": []
  },
  {
   "cell_type": "markdown",
   "metadata": {},
   "source": [
    "랜덤?\n",
    "\n",
    "OTT 보고싶은걸 평가할 수 있다."
   ]
  },
  {
   "cell_type": "markdown",
   "metadata": {},
   "source": []
  },
  {
   "cell_type": "markdown",
   "metadata": {},
   "source": []
  }
 ],
 "metadata": {
  "language_info": {
   "name": "python"
  },
  "orig_nbformat": 4
 },
 "nbformat": 4,
 "nbformat_minor": 2
}
