{
 "cells": [
  {
   "cell_type": "markdown",
   "metadata": {},
   "source": [
    "# 포트폴리오\n",
    "\n",
    "1. Notion 기반 프로젝트별 분리\n",
    "   1. 기술스택\n",
    "2. github 연동\n",
    "   1. 기술스택 추가\n",
    "\n",
    "## 링크 관리\n",
    "\n",
    "- 너무 깊지 않은 링크\n",
    "- 외부 컴퓨터로 로그인, 권한 확인하기\n",
    "\n",
    "## 스킬셋 리스팅\n",
    "\n",
    "- 잘하는 것, 중요한 것 먼저.\n",
    "  - Python, recomendation, 크롤링, 도커...\n",
    "\n",
    "객체지양 5원칙\n",
    "데이터베이스 지양 5원칙\n",
    "\n",
    "- 김원희님 포트폴리오"
   ]
  }
 ],
 "metadata": {
  "language_info": {
   "name": "python"
  },
  "orig_nbformat": 4
 },
 "nbformat": 4,
 "nbformat_minor": 2
}
