{
 "cells": [
  {
   "cell_type": "markdown",
   "metadata": {},
   "source": [
    "# 웹사이트 단어장\n",
    "\n",
    "1. 웹사이트에서 서비스하기\n",
    "\n",
    "2. flask + React로 구성하기\n",
    "\n",
    "3. 내용은 단어장"
   ]
  },
  {
   "cell_type": "markdown",
   "metadata": {},
   "source": [
    "# 가능하다면...\n",
    "\n",
    "- 로그인 페이지\n",
    "- 회원가입 페이지 \n",
    "\n",
    "- 유져별 데이터 구분하기"
   ]
  },
  {
   "cell_type": "markdown",
   "metadata": {},
   "source": [
    "# 단어장 구성\n",
    "\n",
    "## 단어는 day 구분으로 구성\n",
    "\n",
    "- 원하는 day( 1개, 범위 지정 가능)\n",
    "\n",
    "## 공부모드\n",
    "\n",
    "- 읽기모드\n",
    "- 쓰기모드\n",
    "\n",
    "## 테스트모드\n",
    "\n",
    "- 점수 기록, 틀린단어 기록\n",
    "  - 이호 틀린단어 기록은 읽기모드에서 확인 가능"
   ]
  },
  {
   "cell_type": "markdown",
   "metadata": {},
   "source": []
  }
 ],
 "metadata": {
  "language_info": {
   "name": "python"
  },
  "orig_nbformat": 4
 },
 "nbformat": 4,
 "nbformat_minor": 2
}
