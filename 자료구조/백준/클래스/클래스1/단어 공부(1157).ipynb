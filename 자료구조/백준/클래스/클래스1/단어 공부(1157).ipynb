{
 "cells": [
  {
   "cell_type": "markdown",
   "metadata": {},
   "source": [
    "## 문제\n",
    "알파벳 대소문자로 된 단어가 주어지면, 이 단어에서 가장 많이 사용된 알파벳이 무엇인지 알아내는 프로그램을 작성하시오. 단, 대문자와 소문자를 구분하지 않는다.\n",
    "\n",
    "### 입력\n",
    "첫째 줄에 알파벳 대소문자로 이루어진 단어가 주어진다. 주어지는 단어의 길이는 1,000,000을 넘지 않는다.\n",
    "\n",
    "### 출력\n",
    "첫째 줄에 이 단어에서 가장 많이 사용된 알파벳을 대문자로 출력한다. 단, 가장 많이 사용된 알파벳이 여러 개 존재하는 경우에는 ?를 출력한다.\n",
    "\n",
    "- 예제 입력 1 \n",
    "```\n",
    "    Mississipi\n",
    "```\n",
    "- 예제 출력 1 \n",
    "```\n",
    "    ?\n",
    "```\n",
    "- 예제 입력 2 \n",
    "```\n",
    "    zZa\n",
    "```\n",
    "- 예제 출력 2 \n",
    "```\n",
    "    Z\n",
    "```\n",
    "- 예제 입력 3 \n",
    "```\n",
    "    z\n",
    "```\n",
    "- 예제 출력 3 \n",
    "```\n",
    "    Z\n",
    "```\n",
    "- 예제 입력 4 \n",
    "```\n",
    "    baaa\n",
    "```\n",
    "- 예제 출력 4 \n",
    "```\n",
    "    A\n",
    "```"
   ]
  },
  {
   "cell_type": "code",
   "execution_count": 2,
   "metadata": {},
   "outputs": [
    {
     "name": "stdout",
     "output_type": "stream",
     "text": [
      "A\n"
     ]
    }
   ],
   "source": [
    "words = input().lower()\n",
    "dic = {\n",
    "    'a':0, 'b':0, 'c':0, 'd':0, 'e':0, 'f':0, 'g':0, 'h':0,\n",
    "    'i':0, 'j':0, 'k':0, 'l':0, 'm':0, 'n':0, 'o':0, 'p':0,\n",
    "    'q':0, 'r':0, 's':0, 't':0, 'u':0, 'v':0, 'w':0, 'n':0,\n",
    "    'x':0, 'y':0, 'z':0}\n",
    "for i in words:\n",
    "    dic[i] = dic[i] + 1\n",
    "\n",
    "max_num = 0\n",
    "max_word = \"?\"\n",
    "for key, value in dic.items():\n",
    "    if value > max_num:\n",
    "        max_num = value\n",
    "        max_word = key\n",
    "    elif value == max_num:\n",
    "        max_word = \"?\"\n",
    "\n",
    "print(max_word.upper())"
   ]
  },
  {
   "cell_type": "markdown",
   "metadata": {},
   "source": [
    "## 다른 정답자와 비교\n"
   ]
  },
  {
   "cell_type": "code",
   "execution_count": null,
   "metadata": {},
   "outputs": [],
   "source": [
    "n = input()\n",
    "n = n.upper()\n",
    "alpa='ABCDEFGHIJKLMNOPQRSTUVWXYZ'\n",
    "result = []\n",
    "for i in alpa:\n",
    "  result.append(n.count(i))\n",
    "if result.count(max(result)) > 1:\n",
    "  print(\"?\")\n",
    "else:\n",
    "  print(alpa[result.index(max(result))])"
   ]
  },
  {
   "cell_type": "markdown",
   "metadata": {},
   "source": [
    "## 느낀점\n",
    "\n",
    "1. 문자열 만드는걸 보다 세련되게 할 수 있었다.\n",
    "2. 정답이 대문자이니 처음부터 대문자로 처리하면 코드를 줄일 수 있다.\n",
    "3. 되도않는 과도한 hash사용은로 굳이 코드가 길고 이상하게 되었다.\n",
    "   - 생각보다 count가 무난한것 같다."
   ]
  },
  {
   "cell_type": "markdown",
   "metadata": {},
   "source": []
  }
 ],
 "metadata": {
  "interpreter": {
   "hash": "a72db88ba1b83b14b878414906427eaf31b62ee068e6a91eed760b39b4619b71"
  },
  "kernelspec": {
   "display_name": "Python 3.7.6 64-bit ('base': conda)",
   "name": "python3"
  },
  "language_info": {
   "codemirror_mode": {
    "name": "ipython",
    "version": 3
   },
   "file_extension": ".py",
   "mimetype": "text/x-python",
   "name": "python",
   "nbconvert_exporter": "python",
   "pygments_lexer": "ipython3",
   "version": "3.7.6"
  },
  "orig_nbformat": 4
 },
 "nbformat": 4,
 "nbformat_minor": 2
}
