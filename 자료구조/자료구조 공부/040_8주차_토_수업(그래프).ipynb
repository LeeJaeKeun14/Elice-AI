{
 "cells": [
  {
   "cell_type": "markdown",
   "metadata": {},
   "source": [
    "# 그래프 알고리즘\n",
    "\n",
    "## 그래프의 개념\n",
    "\n",
    "- 그래프란?\n",
    "  - 정점과 간선으로 이루어진 자료구조 정점간의 관계를 조직도로 표현합니다.\n",
    "- 정점이란?\n",
    "  - 정점은 여러가지 특성을 가질 수 있는 객체를 의미합니다.\n",
    "- 간선이란?\n",
    "  - 간건은 정점들 간의 관계를 의미합니다.\n",
    "\n",
    "### 그래프의 종류\n",
    "\n",
    "- 무방향그래프\n",
    "  - 정점간 간선에 방향이 없는 그래프\n",
    "- 방향그래프\n",
    "  - 정점간 간선에 방향이 있는 그래프\n",
    "\n",
    "### 그래프의 특징\n",
    "\n",
    "- 자기 자신을 향하는 간선은 없다.\n",
    "- 중복된 간선을 허용하지 않는다.\n",
    "\n",
    "## 그래프의 표현\n",
    "\n",
    "### 그래프를 표현하는 방식\n",
    "\n",
    "- 인접행렬 - 무방향 그래프\n",
    "> |   | 0 | 1 | 2 | 3 |\n",
    "> |:---:|:---:|:---:|:---:|:---:|\n",
    "> | 0 | 0 | 1 | 1 | 1 |\n",
    "> | 1 | 1 | 0 | 1 | 0 |\n",
    "> | 2 | 1 | 1 | 0 | 0 |\n",
    "> | 3 | 1 | 0 | 0 | 0 |\n",
    "\n",
    "- 인접행렬 - 무방향 그래프 with 가중치\n",
    "> |   | 0 | 1 | 2 | 3 |\n",
    "> |:---:|:---:|:---:|:---:|:---:|\n",
    "> | 0 | 0 | 2 | 3 | 8 |\n",
    "> | 1 | 2 | 0 | 5 | 0 |\n",
    "> | 2 | 3 | 5 | 0 | 0 |\n",
    "> | 3 | 8 | 0 | 0 | 0 |\n",
    "\n",
    "- 인접행렬 - 방향 그래프\n",
    "> |   | 0 | 1 | 2 | 3 |\n",
    "> |:---:|:---:|:---:|:---:|:---:|\n",
    "> | 0 | 0 | 1 | 1 | 1 |\n",
    "> | 1 | 0 | 0 | 0 | 0 |\n",
    "> | 2 | 0 | 1 | 0 | 0 |\n",
    "> | 3 | 1 | 0 | 0 | 0 |\n",
    "\n",
    "- 인접행렬 - 방향 그래프 with 가중치\n",
    "> |   | 0 | 1 | 2 | 3 |\n",
    "> |:---:|:---:|:---:|:---:|:---:|\n",
    "> | 0 | 0 | 5 | 1 | 1 |\n",
    "> | 1 | 0 | 0 | 0 | 0 |\n",
    "> | 2 | 0 | 4 | 0 | 0 |\n",
    "> | 3 | 3 | 0 | 0 | 0 |\n",
    "\n",
    "- 인접행렬\n",
    "\n",
    "```python\n",
    "graph = {0: {1:5, 2:1, 3:1}, 2: {1:4}, 3: {0: 3}}\n",
    "graph = [[0,5,1,1],[0,0,0,0],[0,4,0,0],[3,0,0,0]]\n",
    "```\n",
    "\n",
    "- 인접리스트\n",
    "  - 무방향 그래프\n",
    "\n",
    "- header vertex value\n",
    "- 0 -> 1 2 -> 2 3 -> 3 8\n",
    "- 1 -> 0 2 -> 2 5\n",
    "- 2 -> 0 3 -> 1 5\n",
    "- 3 -> 0 8\n",
    "\n",
    "- 인접리스트\n",
    "  - 방향 그래프\n",
    "\n",
    "- header vertex value\n",
    "- 0 -> 1 2 -> 2 1 -> 3 1\n",
    "- 1 -> \n",
    "- 2 -> 1 5\n",
    "- 3 -> 0 3\n",
    "\n",
    "```python\n",
    "class AdjNode:\n",
    "  def __init__(self, vertex, value):\n",
    "    self.vertex = vertex\n",
    "    self.value = value\n",
    "    self.next = None\n",
    "```\n",
    "\n",
    "```python\n",
    "class Graph:\n",
    "  def __init__(self, num):\n",
    "    self.V = num\n",
    "    self.graph = [None] * self.V\n",
    "\n",
    "  def add_edge(self, s, d, w):\n",
    "    node = AdjNode(d)\n",
    "    node.next = self.graph[s]\n",
    "    node.value = w\n",
    "    self.graph[s] = node\n",
    "```\n",
    "\n",
    "## 너비우선탐색(BFS)\n",
    "\n",
    "### 너비우선탐색(Breadth-First Search)\n",
    "\n",
    "- 그래프를 탐색하는 기법 중 하나로, 부모를 공유하는 입접 노드들을 우선적으로 탐색합니다.\n",
    "\n",
    "```python\n",
    "def BFS(graph, root):\n",
    "  visited = set([root])\n",
    "  search = []\n",
    "  queue = deque([root])\n",
    "\n",
    "  while queue:\n",
    "    cur = queue.popleft()\n",
    "    search.append(cur)\n",
    "    for node in graph[cur]:\n",
    "      if node not in visited:\n",
    "        queue.append(node)\n",
    "        visited.add(node)\n",
    "  return search\n",
    "\n",
    "```\n",
    "\n",
    "## 깊이우선탐색(DFS)\n",
    "\n",
    "### 깊이우선탐색(Depth-Frist Search)\n",
    "\n",
    "- 그래프를 탐색하는 기법 중 하나로, 다음 분기로 넘어가기 전에 해당 분기를 우선적으로 탐색하는 방법\n",
    "\n",
    "```python\n",
    "def DFS(graph, start_node):\n",
    "  visit = [start_node]\n",
    "  stack = []\n",
    "\n",
    "  stack.append(start_node)\n",
    "  cur = start_node\n",
    "\n",
    "  while stack:\n",
    "    for node in graph[cur]:\n",
    "      if node not in visited:\n",
    "        stack.append(node)\n",
    "        visited.append(node)\n",
    "        cur = node\n",
    "        break\n",
    "      else:\n",
    "        stack.pop()\n",
    "        if stack: cur = stack[-1]\n",
    "  return visited\n",
    "```\n",
    "\n",
    "```python\n",
    "visited = []\n",
    "\n",
    "def DFS(graph, cur):\n",
    "  global visited\n",
    "  if cur not in visited:\n",
    "    visited.append(cur)\n",
    "    for node in graph[cur]:\n",
    "      DFS(graph, node)\n",
    "\n",
    "```\n",
    "\n"
   ]
  },
  {
   "cell_type": "code",
   "execution_count": 4,
   "metadata": {},
   "outputs": [],
   "source": [
    "ls = [0, 1]"
   ]
  },
  {
   "cell_type": "code",
   "execution_count": 9,
   "metadata": {},
   "outputs": [],
   "source": [
    "del ls[0]"
   ]
  },
  {
   "cell_type": "code",
   "execution_count": 8,
   "metadata": {},
   "outputs": [
    {
     "data": {
      "text/plain": [
       "1"
      ]
     },
     "execution_count": 8,
     "metadata": {},
     "output_type": "execute_result"
    }
   ],
   "source": [
    "ls[0]"
   ]
  },
  {
   "cell_type": "code",
   "execution_count": 10,
   "metadata": {},
   "outputs": [
    {
     "data": {
      "text/plain": [
       "[]"
      ]
     },
     "execution_count": 10,
     "metadata": {},
     "output_type": "execute_result"
    }
   ],
   "source": [
    "ls"
   ]
  },
  {
   "cell_type": "code",
   "execution_count": null,
   "metadata": {},
   "outputs": [],
   "source": []
  }
 ],
 "metadata": {
  "interpreter": {
   "hash": "a72db88ba1b83b14b878414906427eaf31b62ee068e6a91eed760b39b4619b71"
  },
  "kernelspec": {
   "display_name": "Python 3.8.1 64-bit ('base': conda)",
   "language": "python",
   "name": "python3"
  },
  "language_info": {
   "codemirror_mode": {
    "name": "ipython",
    "version": 3
   },
   "file_extension": ".py",
   "mimetype": "text/x-python",
   "name": "python",
   "nbconvert_exporter": "python",
   "pygments_lexer": "ipython3",
   "version": "3.8.1"
  },
  "orig_nbformat": 4
 },
 "nbformat": 4,
 "nbformat_minor": 2
}
