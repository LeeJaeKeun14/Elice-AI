{
 "cells": [
  {
   "cell_type": "markdown",
   "metadata": {},
   "source": [
    "# 분할 정복법\n",
    "\n",
    "## 재귀호출을 이용한 문제 해결\n",
    "\n",
    "### 재귀함수의 올바른 디자인 및 해석\n",
    "\n",
    "- 재귀함수를 디자인 하기 위한 세 가지 단계\n",
    "  1. 함수의 정의를 명확히 한다.\n",
    "  2. 기저 조건에서 함수가 제대로 동작하게 작성한다.\n",
    "  3. 함수가 제대로 동작한다고 가정하고 함수를 환성한다.\n",
    "\n",
    "## 분할정복법\n",
    "\n",
    "1. 문제를 소문제로 분할\n",
    "2. 각각의 소문제를 해결\n",
    "3. 소문제의 해결 결과를 이용해 전체 문제를 해결\n",
    "\n",
    "분할정복법으로 해결할 수 있는 대표적인 예제\n",
    "\n",
    "- 수학적 문제 해결 능력이 가장 중요\n",
    "- 키보드 대신에 노트와 펜을 들고 생각"
   ]
  },
  {
   "cell_type": "markdown",
   "metadata": {},
   "source": [
    "# 탐욕적 기법\n",
    "\n",
    "## 탐욕적 기법\n",
    "\n",
    "- 순간의 최적의 선택이 긍극적으로 최적의 선택이다\n",
    "- 단순한 방법도 문제 풀이에는 충분하다.\n",
    "\n"
   ]
  },
  {
   "cell_type": "code",
   "execution_count": 58,
   "metadata": {},
   "outputs": [],
   "source": [
    "ls = [10, 4, 1, 2, 3, 4, 1, 2, 1]"
   ]
  },
  {
   "cell_type": "code",
   "execution_count": 88,
   "metadata": {},
   "outputs": [],
   "source": [
    "lls = [5, 4, 3, 2, 1, 1]\n",
    "rls = [4, 1]"
   ]
  },
  {
   "cell_type": "code",
   "execution_count": 89,
   "metadata": {},
   "outputs": [
    {
     "name": "stdout",
     "output_type": "stream",
     "text": [
      "[] 5 4\n",
      "[5] 4 4\n",
      "[5, 4] 4 1\n",
      "[5, 4, 4] 3 1\n",
      "[5, 4, 4, 3] 2 1\n",
      "[5, 4, 4, 3, 2] 1 1\n"
     ]
    }
   ],
   "source": [
    "i, j = 0, 0\n",
    "result = []\n",
    "while True:\n",
    "    print(result, lls[i], rls[j])\n",
    "    if lls[i] <= rls[j]:\n",
    "        result.append(rls[j])\n",
    "        j += 1\n",
    "    else:\n",
    "        result.append(lls[i])\n",
    "        i += 1\n",
    "    if i == len(lls):\n",
    "        result += rls[j:]\n",
    "        break\n",
    "    if j == len(rls):\n",
    "        result += lls[i:]\n",
    "        break"
   ]
  },
  {
   "cell_type": "code",
   "execution_count": 90,
   "metadata": {},
   "outputs": [
    {
     "data": {
      "text/plain": [
       "[5, 4, 4, 3, 2, 1, 1, 1]"
      ]
     },
     "execution_count": 90,
     "metadata": {},
     "output_type": "execute_result"
    }
   ],
   "source": [
    "result"
   ]
  },
  {
   "cell_type": "code",
   "execution_count": 91,
   "metadata": {},
   "outputs": [],
   "source": [
    "def bisearch(ls, n):\n",
    "    l, r = 0, len(ls)\n",
    "    while l != r:\n",
    "        mid = (l + r) // 2\n",
    "        if ls[mid] < n:\n",
    "            l = mid + 1\n",
    "        else:\n",
    "            r = mid\n",
    "    return l"
   ]
  },
  {
   "cell_type": "code",
   "execution_count": 96,
   "metadata": {},
   "outputs": [
    {
     "data": {
      "text/plain": [
       "2"
      ]
     },
     "execution_count": 96,
     "metadata": {},
     "output_type": "execute_result"
    }
   ],
   "source": [
    "bisearch([0, 1, 2, 2, 2, 3, 4], 2)"
   ]
  },
  {
   "cell_type": "code",
   "execution_count": null,
   "metadata": {},
   "outputs": [],
   "source": []
  }
 ],
 "metadata": {
  "interpreter": {
   "hash": "a72db88ba1b83b14b878414906427eaf31b62ee068e6a91eed760b39b4619b71"
  },
  "kernelspec": {
   "display_name": "Python 3.8.1 64-bit ('base': conda)",
   "name": "python3"
  },
  "language_info": {
   "codemirror_mode": {
    "name": "ipython",
    "version": 3
   },
   "file_extension": ".py",
   "mimetype": "text/x-python",
   "name": "python",
   "nbconvert_exporter": "python",
   "pygments_lexer": "ipython3",
   "version": "3.8.1"
  },
  "orig_nbformat": 4
 },
 "nbformat": 4,
 "nbformat_minor": 2
}
