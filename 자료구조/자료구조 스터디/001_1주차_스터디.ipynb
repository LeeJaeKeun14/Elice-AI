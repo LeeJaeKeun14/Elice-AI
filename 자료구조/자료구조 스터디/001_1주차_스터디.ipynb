{
 "cells": [
  {
   "cell_type": "markdown",
   "metadata": {},
   "source": [
    "# 파이썬 프러덕트\n",
    "파이선 컴비네이션\n",
    "\n"
   ]
  },
  {
   "cell_type": "markdown",
   "metadata": {},
   "source": [
    "백준 or 프로그래머스 문제 풀기 건의하기"
   ]
  },
  {
   "cell_type": "markdown",
   "metadata": {},
   "source": [
    "-5-4-3-2-1 0  1  2  3  4  ... N\n",
    "0 0 0 0 0 16 39 05 42 96\n",
    "0 0 0 0 0 86 56 00 48 35\n",
    "0 0 0 0 0 19 80 81 68 05\n",
    "0 0 0 0 0 04 52 08 83 97\n",
    "0 0 0 0 0 88 36 68 87 16"
   ]
  },
  {
   "cell_type": "code",
   "execution_count": null,
   "metadata": {},
   "outputs": [],
   "source": [
    " 0  1  2  3  4 5 6 7 8 9 \n",
    "16 39 05 42 96 0 0 0 0 0 \n",
    "86 56 00 48 35 0 0 0 0 0 \n",
    "19 80 81 68 05 0 0 0 0 0 \n",
    "04 52 08 83 97 0 0 0 0 0 \n",
    "88 36 68 87 16 0 0 0 0 0 "
   ]
  }
 ],
 "metadata": {
  "language_info": {
   "name": "python"
  },
  "orig_nbformat": 4
 },
 "nbformat": 4,
 "nbformat_minor": 2
}
