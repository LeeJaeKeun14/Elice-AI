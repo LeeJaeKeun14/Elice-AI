{
 "cells": [
  {
   "cell_type": "markdown",
   "metadata": {},
   "source": [
    "# 데이터 베이스 & 파이썬\n",
    "\n",
    "## 백엔드 기초다지기\n",
    "\n",
    "- 데이터베이스 이해하고 시작하기\n",
    "  - 데이터베이스란 무엇인가?\n",
    "  - 왜 소프트웨어는 데이터베이스를 필요로 하는가?\n",
    "    - 서비스 소프트웨어 안의 내장변수로 데이터 관리하기\n",
    "    - 내장변수 관리의 불편한점\n",
    "    - 서비스 바깥의 txt파일에 기록하기\n",
    "    - txt 파일 기록의 불편한 점\n",
    "    - 데이터 무결성 문제\n",
    "    - 데이터 Deadlock 문제\n",
    "    - 데이터 일관성, 동시성, 영속성, 유지보수 등의 문제\n",
    "    - 단순 데이터베이스의 등장(DBMS)\n",
    "    - 관계형 데이터베이스의 등장(RDBMS)\n",
    "    - 분산형 데이터베이스의 등장(Hadoop), NoSQL\n",
    "    - 데이터베이스를 위한 SQL 언어의 등장\n",
    "    - NoSQL이란 무엇인가\n",
    "\n",
    "### SQL & NoSQL\n",
    "\n",
    "- SQL : RDBMS\n",
    "  - 오라클, MySQL, MariaDB\n",
    "- NoSQL(Not only SQL) : DBMS\n",
    "  - MongoDB\n",
    "    - 문서 위주\n",
    "\n",
    "### 객체지향 데이터베이스 \n",
    "\n",
    "- 관계형 $\\sim$ 객체지향\n",
    "  - 유사하지만 같지는 않다."
   ]
  },
  {
   "cell_type": "code",
   "execution_count": 2,
   "metadata": {},
   "outputs": [],
   "source": [
    "names = [\"임지현\", \"박서진\", \"강도후\", \"최서후\", \"이지민\", \"윤서아\"]\n",
    "weights = [125, 60, 75, 68, 80, 70]\n",
    "heights = [182, 162, 179, 188, 175, 172]"
   ]
  },
  {
   "cell_type": "code",
   "execution_count": 3,
   "metadata": {},
   "outputs": [
    {
     "name": "stdout",
     "output_type": "stream",
     "text": [
      "임지현 125 182\n",
      "박서진 60 162\n",
      "강도후 75 179\n",
      "최서후 68 188\n",
      "이지민 80 175\n",
      "윤서아 70 172\n"
     ]
    }
   ],
   "source": [
    "for i, name in enumerate(names):\n",
    "    print(name, weights[i], heights[i])"
   ]
  },
  {
   "cell_type": "code",
   "execution_count": 4,
   "metadata": {},
   "outputs": [],
   "source": [
    "Myfrieds2 = {\n",
    "    \"임지연\" : {\"체중\" : 52,\"키\" : 172},\n",
    "    \"박지선\" : {\"체중\" : 60,\"키\" : 162},\n",
    "    \"강도후\" : {\"체중\" : 75,\"키\" : 179},\n",
    "    \"최서후\" : {\"체중\" : 68,\"키\" : 188},\n",
    "    \"이지민\" : {\"체중\" : 80,\"키\" : 175},\n",
    "    \"윤서아\" : {\"체중\" : 70,\"키\" : 172},\n",
    "}"
   ]
  },
  {
   "cell_type": "code",
   "execution_count": 20,
   "metadata": {},
   "outputs": [],
   "source": [
    "# 데이터 저장\n",
    "## json 으로 뻘짓하지 말고 피클로 저장하자\n",
    "\n",
    "# f = open(\"Myfrieds.txt\", \"w\", encoding=\"utf-8\")\n",
    "# f.write(str(Myfrieds2))\n",
    "# f.close()"
   ]
  },
  {
   "cell_type": "code",
   "execution_count": 18,
   "metadata": {},
   "outputs": [],
   "source": [
    "# 뒤에 추가하기\n",
    "# f = open(\"Myfrieds.txt\", \"at\", encoding=\"utf-8\")\n",
    "# f.write(\"\\n공백\")\n",
    "# f.close()"
   ]
  },
  {
   "cell_type": "code",
   "execution_count": 32,
   "metadata": {},
   "outputs": [],
   "source": [
    "import pickle\n",
    "with open('Myfrieds.txt', 'wb') as f:\n",
    "    pickle.dump(Myfrieds2, f)"
   ]
  },
  {
   "cell_type": "code",
   "execution_count": 33,
   "metadata": {},
   "outputs": [],
   "source": [
    "with open('Myfrieds.txt', 'rb') as f:\n",
    "    data = pickle.load(f) # 단 한줄씩 읽어옴"
   ]
  },
  {
   "cell_type": "code",
   "execution_count": 34,
   "metadata": {},
   "outputs": [
    {
     "data": {
      "text/plain": [
       "{'임지연': {'체중': 52, '키': 172},\n",
       " '박지선': {'체중': 60, '키': 162},\n",
       " '강도후': {'체중': 75, '키': 179},\n",
       " '최서후': {'체중': 68, '키': 188},\n",
       " '이지민': {'체중': 80, '키': 175},\n",
       " '윤서아': {'체중': 70, '키': 172}}"
      ]
     },
     "execution_count": 34,
     "metadata": {},
     "output_type": "execute_result"
    }
   ],
   "source": [
    "data"
   ]
  },
  {
   "cell_type": "markdown",
   "metadata": {},
   "source": [
    "![](image/026_001.png)"
   ]
  },
  {
   "cell_type": "markdown",
   "metadata": {},
   "source": [
    "mariadb -u root -p \n",
    "- 비밀번호 입력 : lan7427a"
   ]
  },
  {
   "cell_type": "markdown",
   "metadata": {},
   "source": [
    "[기본설명](https://mariadb.com/kb/ko/basic-sql-statements/)\n",
    "\n",
    "# 치트시트"
   ]
  },
  {
   "cell_type": "markdown",
   "metadata": {},
   "source": [
    "\n",
    "![](image/026_002.png)\n",
    "![](image/026_003.png)"
   ]
  },
  {
   "cell_type": "markdown",
   "metadata": {},
   "source": [
    "데이터베이스\n",
    "> 테이블\n",
    "> \n",
    ">> 로우\n",
    ">>\n",
    ">>> 칼럼\n",
    ">>>\n",
    ">> ``\n",
    ">>\n",
    "> ``"
   ]
  },
  {
   "cell_type": "markdown",
   "metadata": {},
   "source": [
    "## SQL 다루기\n",
    "\n",
    "### 데이터베이스 확인\n",
    "\n",
    "```SQL\n",
    "    MariaDB [health]> SHOW DATABASES;\n",
    "```\n",
    "```SQL\n",
    "    MariaDB [health]> SHOW TABLES;\n",
    "```\n",
    "\n",
    "### 데이터베이스, 테이블 만들기\n",
    "\n",
    "```SQL\n",
    "    MariaDB [health]> CREATE DATABASE healt\n",
    "```\n",
    "\n",
    "```SQL\n",
    "    MariaDB [health]> CREATE TABLE t1 (a INT)\n",
    "```\n",
    "\n",
    "```sql\n",
    "    MariaDB [health]> CREATE TABLE student_tests (\n",
    "        -> name CHAR(10), test CHAR(10),\n",
    "        -> score TINYINT, test_date DATE\n",
    "        -> );\n",
    "```\n",
    "\n",
    "```sql\n",
    "    MariaDB [health]> INSERT INTO t1 VALUES (1);\n",
    "    Query OK, 1 row affected (0.003 sec)\n",
    "\n",
    "    MariaDB [health]> SELECT * FROM t1;\n",
    "    +------+\n",
    "    | a    |\n",
    "    +------+\n",
    "    |    1 |\n",
    "    +------+\n",
    "    1 row in set (0.000 sec)\n",
    "```\n",
    "\n",
    "```sql\n",
    "    MariaDB [health]> INSERT INTO student_tests\n",
    "        -> (name, test, score, test_date) VALUES\n",
    "        -> ('chun', 'SQL', 75, '2012-11-05'),\n",
    "        -> ('Lee', 'python', 27, '1995-02-02');\n",
    "    Query OK, 2 rows affected (0.004 sec)\n",
    "    Records: 2  Duplicates: 0  Warnings: 0\n",
    "\n",
    "    MariaDB [health]> SELECT * FROM student_tests;\n",
    "    +------+--------+-------+------------+\n",
    "    | name | test   | score | test_date  |\n",
    "    +------+--------+-------+------------+\n",
    "    | chun | SQL    |    75 | 2012-11-05 |\n",
    "    | Lee  | python |    27 | 1995-02-02 |\n",
    "    +------+--------+-------+------------+\n",
    "    2 rows in set (0.000 sec)\n",
    "```\n",
    "\n",
    "### DELETE\n",
    "\n",
    "```sql\n",
    "    MariaDB [health]> DELETE FROM student_testS WHERE name='Lee' and test='python';\n",
    "    Query OK, 1 row affected (0.004 sec)\n",
    "\n",
    "    MariaDB [health]> SELECT * FROM student_tests;\n",
    "    +------+------+-------+------------+\n",
    "    | name | test | score | test_date  |\n",
    "    +------+------+-------+------------+\n",
    "    | chun | SQL  |    75 | 2012-11-05 |\n",
    "    +------+------+-------+------------+\n",
    "    1 row in set (0.000 sec)\n",
    "```\n",
    "\n",
    "- 조심 그냥 지운다고하면 걍 지워짐\n",
    "\n",
    "```sql\n",
    "    MariaDB [health]> DELETE FROM student_tests;\n",
    "    Query OK, 1 row affected (0.004 sec)\n",
    "\n",
    "    MariaDB [health]> select * from student_tests;\n",
    "    Empty set (0.000 sec)\n",
    "```\n"
   ]
  },
  {
   "cell_type": "markdown",
   "metadata": {},
   "source": [
    "# "
   ]
  }
 ],
 "metadata": {
  "interpreter": {
   "hash": "a72db88ba1b83b14b878414906427eaf31b62ee068e6a91eed760b39b4619b71"
  },
  "kernelspec": {
   "display_name": "Python 3.7.6 64-bit ('base': conda)",
   "name": "python3"
  },
  "language_info": {
   "codemirror_mode": {
    "name": "ipython",
    "version": 3
   },
   "file_extension": ".py",
   "mimetype": "text/x-python",
   "name": "python",
   "nbconvert_exporter": "python",
   "pygments_lexer": "ipython3",
   "version": "3.8.1"
  },
  "orig_nbformat": 4
 },
 "nbformat": 4,
 "nbformat_minor": 2
}
