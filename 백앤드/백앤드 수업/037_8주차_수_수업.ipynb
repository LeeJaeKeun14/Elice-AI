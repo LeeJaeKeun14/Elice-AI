{
 "cells": [
  {
   "cell_type": "markdown",
   "metadata": {},
   "source": [
    "# 프로젝트 - 자유 게시판\n",
    "\n",
    "- 수강목표\n",
    "  - 로그인 기능을 만들 수 있다.\n",
    "    - 쿠키와 세션을 이해하고, 웹 서비스의 주요 기능 중 하나인 로그인을 만들 수 있다.\n",
    "  - Jinja Template를 활용할 수 있다.\n",
    "    - 기본적인 데이터를 주고받는 것 외에, 세션 및 로그인 여부를 파악하는 Jinja Template를 사용할 수 있다.\n",
    "  - Flask에서 ORM을 활용해 데이터를 다룰 수 있다.\n",
    "    - flask-sqlalchemy를 사용해서 ORM모델을 다루고 데이터의 저장 / 업데이트 / 읽기 및 삭제를 할 수 있다.\n",
    "\n",
    "## bcrypt?\n",
    "\n",
    "[bcrypt](https://www.google.com/search?q=flask_bcrypt+bcrypt&rlz=1C1CHBD_enKR901KR901&sxsrf=AOaemvKJVRljWP6Y8Tnx1AZ7RHpcyyc14w%3A1636537604434&ei=BJWLYazuGaXf2roPzIWe6Ak&oq=flask_bcrypt+bcrypt&gs_lcp=Cgdnd3Mtd2l6EAMyBggAEAcQHjIICAAQBxAFEB4yBggAEAgQHjIGCAAQCBAeOgcIABBHELADOgcIABCwAxBDOhAILhDHARDRAxDIAxCwAxBDOgoILhDIAxCwAxBDOgcIIxCxAhAnOgQIABBDOgQIIxAnOgUIABDLAToICAAQCBAHEB5KBQg4EgExSgQIQRgAUJQKWPKiAWCApQFoBnACeACAAZoBiAHVCZIBAzAuOZgBAKABAaABAsgBC8ABAQ&sclient=gws-wiz&ved=0ahUKEwisgMvUwY30AhWlr1YBHcyCB50Q4dUDCA4&uact=5)\n",
    "\n"
   ]
  }
 ],
 "metadata": {
  "language_info": {
   "name": "python"
  },
  "orig_nbformat": 4
 },
 "nbformat": 4,
 "nbformat_minor": 2
}
