{
 "cells": [
  {
   "cell_type": "markdown",
   "metadata": {},
   "source": [
    "# 리눅스 환경\n",
    "\n",
    "```python\n",
    "import sqlite3\n",
    "import csv\n",
    "\n",
    "con = sqlite3.connect(\"./seoul_food.db\")\n",
    "```\n",
    "\n",
    "## 프론트앤드 스타일 \n",
    "\n",
    "[드리블](https://dribbble.com/)\n",
    "[코드펜](https://codepen.io/)\n",
    "[부트스트랩](http://bootstrapk.com/)\n",
    "\n",
    "## REST API\n",
    "\n",
    "면접 대비 공부하기\n",
    "\n",
    "## 노래검색\n",
    "\n",
    "https://api.manana.kr/karaoke\n",
    "\n",
    "\n",
    "### 프로젝트 순서\n",
    "\n",
    "```\n",
    "pip3 install flask\n",
    "pip3 install requests\n",
    "pip3 install flask_restful\n",
    "pip3 install pymysql\n",
    "```\n",
    "\n"
   ]
  }
 ],
 "metadata": {
  "language_info": {
   "name": "python"
  },
  "orig_nbformat": 4
 },
 "nbformat": 4,
 "nbformat_minor": 2
}
