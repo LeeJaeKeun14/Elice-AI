{
 "cells": [
  {
   "cell_type": "markdown",
   "metadata": {},
   "source": [
    "# 파이썬 가상환경\n",
    "\n",
    "`python3 -m venv .myenv`\n",
    "\n",
    "## 가상환경 사용하기\n",
    "\n",
    "`source .myenv/bin/activate`\n",
    "\n",
    "- vs 코드\n",
    "  - 명령 프롬프트\n",
    "  - `>python: select interpreter`\n",
    "\n",
    "## 가상환경 나가기\n",
    "172.22.13.123\n",
    "`deactivate`\n",
    "\n",
    "## 환경 저장\n",
    "\n",
    "`pip list > requirements.txt`\n",
    "\n",
    "## DB\n",
    "\n",
    "`create database anonyboard;`\n",
    "\n",
    "### 데이터베이스\n",
    "\n",
    "```sql\n",
    "CREATE TABLE if not exists `post` (\n",
    "`id` int NOT NULL AUTO_INCREMENT,\n",
    "`author` varchar(256) NOT NULL,\n",
    "`content` text NOT NULL,\n",
    "`created_at` datetime DEFAULT NULL,\n",
    "PRIMARY KEY (`id`)\n",
    ") ;\n",
    "```\n"
   ]
  }
 ],
 "metadata": {
  "language_info": {
   "name": "python"
  },
  "orig_nbformat": 4
 },
 "nbformat": 4,
 "nbformat_minor": 2
}
