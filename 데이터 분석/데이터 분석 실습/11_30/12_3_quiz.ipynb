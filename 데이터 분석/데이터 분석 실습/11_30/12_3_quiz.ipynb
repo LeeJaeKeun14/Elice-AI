{
  "cells": [
    {
      "cell_type": "markdown",
      "metadata": {
        "id": "gPGXndwzHFHe"
      },
      "source": [
        "### 코드에 정답은 없습니다아ㅏㅏ!"
      ]
    },
    {
      "cell_type": "markdown",
      "metadata": {
        "id": "uaLc6psXIrcN"
      },
      "source": [
        "#### 1. Quiz\n"
      ]
    },
    {
      "cell_type": "code",
      "execution_count": 5,
      "metadata": {
        "id": "vjJgy3UGGrI7"
      },
      "outputs": [],
      "source": [
        "# 주어진 문장(a)에서 맨 앞 뒤의 공백과 ,(콤마)를 없앤 후 공백(띄어쓰기)를 기준으로 문장을 나누어 리스트(a_list)에 보관하세요  \n",
        "# 이렇게 만든 리스트에(a_list)서 문자 'o'를 포함하고 있는 단어를 제외한 단어들만 뽑아 새로운 리스트를 만들세요(not_o_list)\n",
        "\n",
        "a = 'The current fire house installed within the building used by South Korea’s agency for managing the industrial zone will move to the newly built three-story building, the official said. '\n",
        "a_list = [x for x in a.split()]\n",
        "not_o_list = [x for x in a_list if \"o\" not in x]\n",
        "# not_o_list = list(filter(lambda x: 'o' not in x, a_list))"
      ]
    },
    {
      "cell_type": "code",
      "execution_count": 7,
      "metadata": {},
      "outputs": [
        {
          "name": "stdout",
          "output_type": "stream",
          "text": [
            "['The', 'current', 'fire', 'house', 'installed', 'within', 'the', 'building', 'used', 'by', 'South', 'Korea’s', 'agency', 'for', 'managing', 'the', 'industrial', 'zone', 'will', 'move', 'to', 'the', 'newly', 'built', 'three-story', 'building,', 'the', 'official', 'said.']\n",
            "['The', 'current', 'fire', 'installed', 'within', 'the', 'building', 'used', 'by', 'agency', 'managing', 'the', 'industrial', 'will', 'the', 'newly', 'built', 'building,', 'the', 'said.']\n"
          ]
        }
      ],
      "source": [
        "print(a_list)\n",
        "print(not_o_list)"
      ]
    },
    {
      "cell_type": "markdown",
      "metadata": {
        "id": "HC3Cz0xbJQle"
      },
      "source": [
        "#### 2. Quiz"
      ]
    },
    {
      "cell_type": "code",
      "execution_count": 93,
      "metadata": {
        "id": "p3T0R8RUJQxh"
      },
      "outputs": [],
      "source": [
        "# 해당 people 리스트에는 각 사람들의 (이름, 나이, 키, 몸무게)가 들어있다.\n",
        "# people 리스트에는 사람들을 키가 큰 순서로 정렬시키세요(sorted_people)\n",
        "# people 리스트에 있는 사람들의 나이만 뽑아낸 후, 나이들의 평균을 구하세요(mean_age) <- nunmpy 사용버전(mean_age_use_numpy)과 사용 안 하는 버전(mean_age_not_use_numpy) 모두 해보세용 ㅎㅎ\n",
        "import numpy as np\n",
        "\n",
        "people = [\n",
        "        ('홍길동', 19, 168, 54),\n",
        "        ('김철수', 23, 174, 43),\n",
        "        ('최자영', 43, 143, 34),\n",
        "        ('박영자', 35, 156, 58),\n",
        "        ('한가람', 29, 172, 64),\n",
        "]\n",
        "sorted_people = sorted(people, key=lambda x: x[2], reverse=True)\n",
        "mean_age_not_use_numpy = sum([x[1] for x in people]) / len(people)\n",
        "age = np.array(people)[:, 1]\n",
        "mean_age_use_numpy = np.mean(age.astype(int))"
      ]
    },
    {
      "cell_type": "code",
      "execution_count": 94,
      "metadata": {},
      "outputs": [
        {
          "name": "stdout",
          "output_type": "stream",
          "text": [
            "[('김철수', 23, 174, 43), ('한가람', 29, 172, 64), ('홍길동', 19, 168, 54), ('박영자', 35, 156, 58), ('최자영', 43, 143, 34)]\n",
            "29.8\n",
            "29.8\n"
          ]
        }
      ],
      "source": [
        "print(sorted_people)\n",
        "print(mean_age_not_use_numpy)\n",
        "print(mean_age_use_numpy)"
      ]
    },
    {
      "cell_type": "markdown",
      "metadata": {
        "id": "wqA2MHx8KYxU"
      },
      "source": [
        "#### 3. Quiz"
      ]
    },
    {
      "cell_type": "code",
      "execution_count": 103,
      "metadata": {
        "id": "EtxSs83QKSOr"
      },
      "outputs": [],
      "source": [
        "# 14명의 머리길이를 hair라는 리스트에 저장하였습니다. 14명의 머리 중 머리가 긴 top 30퍼센트의 사람들은 파마를 하려고 합니다.\n",
        "# 따라서 머리가 긴 top 30퍼센트의 머리는 perm_hair라는 리스트에 저장해주세요.\n",
        "\n",
        "hair = [13, 5, 23, 33, 9, 16, 25, 5, 3, 19, 20, 14, 14, 8]\n",
        "perm_hair = sorted(hair, reverse=True)[:int(len(hair)*0.3)]"
      ]
    },
    {
      "cell_type": "markdown",
      "metadata": {
        "id": "d39Fv0aALTvS"
      },
      "source": [
        "#### 4. Quiz\n"
      ]
    },
    {
      "cell_type": "code",
      "execution_count": 104,
      "metadata": {},
      "outputs": [
        {
          "name": "stdout",
          "output_type": "stream",
          "text": [
            "[13, 5, 23, 33, 9, 16, 25, 5, 3, 19, 20, 14, 14, 8]\n",
            "[33, 25, 23, 20]\n"
          ]
        }
      ],
      "source": [
        "print(hair)\n",
        "print(perm_hair)"
      ]
    },
    {
      "cell_type": "code",
      "execution_count": 105,
      "metadata": {
        "id": "Ts0R5B0BLUCe"
      },
      "outputs": [
        {
          "name": "stdout",
          "output_type": "stream",
          "text": [
            "[345, 214, 756, 432, 867, 321, 548, 386, 652, 417]\n",
            "[345, 428, 2268, 1728, 4335, 1926, 3836, 3088, 5868, 4170]\n"
          ]
        }
      ],
      "source": [
        "# 10개의 사과농장 각각에서의 수확량을 apple이라는 리스트에 저장하였습니다. : apple = [첫번쨰 사과농장 수확량, 두번쨰 사과농장 수확량, ..., 열번째 사과농장 수확량]\n",
        "# 첫번쨰 사과농장에는 첫번쨰 사과농장 수확량의 1배를, 두번째 사과농장에는 두번쨰 사과농장 수확량의 2배를, 세번쨰 사과농장에는 세번쨰 사과농장 수확량의 3배를, .., 열번쨰 사과농장에는 열번쨰 사과농장 수확량의 10배를 할당하려고 합니다.\n",
        "# 이렇게 할당시킨 결과를 assign_apple 리스트에 저장하세요\n",
        "# 이때 multiply 함수를 반드시 사용하세요!\n",
        "\n",
        "def multiply(x, n):\n",
        "    x *= n\n",
        "    return x\n",
        "\n",
        "apple = [345, 214, 756, 432, 867, 321, 548, 386, 652, 417]\n",
        "assign_apple = list(map(multiply, apple, range(1, 11)))\n",
        "\n",
        "# apple 리스트와 assign_apple 리스트를 모두 출력하여 둘의 결과를 비교하세요\n",
        "print(apple)\n",
        "print(assign_apple)"
      ]
    },
    {
      "cell_type": "markdown",
      "metadata": {
        "id": "0LdLBnT9PzMD"
      },
      "source": [
        "#### 5. Quiz"
      ]
    },
    {
      "cell_type": "code",
      "execution_count": 106,
      "metadata": {
        "id": "wHr0vxDLPyBz"
      },
      "outputs": [],
      "source": [
        "# ls라는 리스트 안에는 총 8개의 리스트가 있습니다\n",
        "# 각 리스트별로 리스트의 첫번째 요소와 세번째 요소의 합을 구한 후, 8개 리스트들의 결과값을 하나의 리스트(ls_final)로 나타내세요.\n",
        "\n",
        "ls = [[1,3,4], [3,6,1], [3,9,5], [2,5,7], [8,3,2], [5,2,0], [4,1,6], [3,5,8]]\n",
        "ls_final = [x[0] + x[2] for x in ls] # [5, 4, 8, 9, 10, 5, 10, 11] : 문제가 이해하시기 어려울 수 있어, 정답을 보여드립니다. 보시고 코드 짜보세요!"
      ]
    },
    {
      "cell_type": "code",
      "execution_count": 107,
      "metadata": {},
      "outputs": [
        {
          "name": "stdout",
          "output_type": "stream",
          "text": [
            "[5, 4, 8, 9, 10, 5, 10, 11]\n"
          ]
        }
      ],
      "source": [
        "print(ls_final)"
      ]
    },
    {
      "cell_type": "markdown",
      "metadata": {
        "id": "SgA765IhUFxU"
      },
      "source": [
        "#### 추가적으로 파이썬으로 파일 복붙할 때 "
      ]
    },
    {
      "cell_type": "code",
      "execution_count": 108,
      "metadata": {
        "id": "FmH0LYhYUGfe"
      },
      "outputs": [
        {
          "ename": "FileNotFoundError",
          "evalue": "[WinError 3] 지정된 경로를 찾을 수 없습니다: './from/path'",
          "output_type": "error",
          "traceback": [
            "\u001b[1;31m---------------------------------------------------------------------------\u001b[0m",
            "\u001b[1;31mFileNotFoundError\u001b[0m                         Traceback (most recent call last)",
            "\u001b[1;32m<ipython-input-108-f61d77d14a27>\u001b[0m in \u001b[0;36m<module>\u001b[1;34m\u001b[0m\n\u001b[0;32m      6\u001b[0m \u001b[1;32mimport\u001b[0m \u001b[0mos\u001b[0m\u001b[1;33m\u001b[0m\u001b[1;33m\u001b[0m\u001b[0m\n\u001b[0;32m      7\u001b[0m \u001b[1;33m\u001b[0m\u001b[0m\n\u001b[1;32m----> 8\u001b[1;33m \u001b[1;33m[\u001b[0m\u001b[0mshutil\u001b[0m\u001b[1;33m.\u001b[0m\u001b[0mcopy\u001b[0m\u001b[1;33m(\u001b[0m\u001b[1;34m'./from/path'\u001b[0m\u001b[1;33m,\u001b[0m\u001b[1;34m'./to/path'\u001b[0m\u001b[1;33m)\u001b[0m \u001b[1;32mfor\u001b[0m \u001b[0mf\u001b[0m \u001b[1;32min\u001b[0m \u001b[0mos\u001b[0m\u001b[1;33m.\u001b[0m\u001b[0mlistdir\u001b[0m\u001b[1;33m(\u001b[0m\u001b[1;34m'./from/path'\u001b[0m\u001b[1;33m)\u001b[0m \u001b[1;32mif\u001b[0m \u001b[0mf\u001b[0m\u001b[1;33m.\u001b[0m\u001b[0mendswith\u001b[0m\u001b[1;33m(\u001b[0m\u001b[1;34m'.png'\u001b[0m\u001b[1;33m)\u001b[0m\u001b[1;33m]\u001b[0m\u001b[1;33m\u001b[0m\u001b[1;33m\u001b[0m\u001b[0m\n\u001b[0m",
            "\u001b[1;31mFileNotFoundError\u001b[0m: [WinError 3] 지정된 경로를 찾을 수 없습니다: './from/path'"
          ]
        }
      ],
      "source": [
        "# 전 파이썬에서 파일같은거 옮길 때, 좀 많이 옮겨야 하는 상황이면 list comprehension을 사용합니다 ㅎㅎㅎ\n",
        "# 그냥 for문을 쓸 때보다 훨씬 빠르게 옮겨집니다\n",
        "# 이때의 list comprehension은 어떠한 리스트를 얻기 위한 목적이 아니라 순전히 빠르게 작동시키기 위한 목적이기 때문에, 해당 list comprehension의 결과 리스트는 없습니다 ^_^\n",
        "\n",
        "import shutil\n",
        "import os\n",
        "\n",
        "[shutil.copy('./from/path','./to/path') for f in os.listdir('./from/path') if f.endswith('.png')]"
      ]
    },
    {
      "cell_type": "code",
      "execution_count": null,
      "metadata": {},
      "outputs": [],
      "source": [
        "import pandas as pd\n",
        "\n",
        "df = pd.DataFrame()\n",
        "df.sort_values(ascending=)"
      ]
    }
  ],
  "metadata": {
    "colab": {
      "collapsed_sections": [],
      "name": "12_3_quiz.ipynb",
      "provenance": []
    },
    "kernelspec": {
      "display_name": "Python 3",
      "name": "python3"
    },
    "language_info": {
      "codemirror_mode": {
        "name": "ipython",
        "version": 3
      },
      "file_extension": ".py",
      "mimetype": "text/x-python",
      "name": "python",
      "nbconvert_exporter": "python",
      "pygments_lexer": "ipython3",
      "version": "3.8.1"
    }
  },
  "nbformat": 4,
  "nbformat_minor": 0
}
