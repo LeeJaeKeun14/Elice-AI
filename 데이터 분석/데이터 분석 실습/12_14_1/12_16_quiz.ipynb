{
  "cells": [
    {
      "cell_type": "code",
      "execution_count": null,
      "metadata": {
        "id": "tYyGsxYSxWsv"
      },
      "outputs": [],
      "source": [
        "import pandas as pd\n",
        "import numpy as np\n",
        "import matplotlib.pyplot as plt\n",
        "import seaborn as sns\n",
        "from sklearn.model_selection import train_test_split\n",
        "from sklearn.linear_model import LinearRegression\n",
        "from sklearn.metrics import mean_squared_error"
      ]
    },
    {
      "cell_type": "code",
      "execution_count": null,
      "metadata": {
        "id": "AOY2tR2hy_e8"
      },
      "outputs": [],
      "source": [
        "df = sns.load_dataset('diamonds')"
      ]
    },
    {
      "cell_type": "code",
      "execution_count": null,
      "metadata": {
        "id": "6_Uvq8bWzm_0"
      },
      "outputs": [],
      "source": [
        "# df의 행과 열 크기 확인\n",
        "\n",
        "# df의 맨 앞 2개의 row만 확인 & ti의 맨 뒤 2개의 row만 확인\n"
      ]
    },
    {
      "cell_type": "code",
      "execution_count": null,
      "metadata": {
        "id": "1Ke9tlpJ1PNl"
      },
      "outputs": [],
      "source": [
        "# df의 각 변수들의 non-null 데이터 개수와 type 파악하기 \n"
      ]
    },
    {
      "cell_type": "markdown",
      "metadata": {
        "id": "qUkmVfgi02X1"
      },
      "source": [
        "- **price:** 가격 (\\$326 - \\$18,823)\n",
        "- **carat:** 무게 (0.2, 5.01)\n",
        "- **cut:** 컷팅의 가치 (Fair, Good, Very Good, Premium, Ideal)\n",
        "- **color:** 다이아몬드 색상(J(가장 나쁜)에서 D(가장 좋은)까지)\n",
        "- **clarity:** 깨끗함 (I1 (가장 나쁜), SI1, SI2, VS1, VS2, VVS1, VVS2, IF (가장 좋은))\n",
        "- **x:** 길이 (0, 10.74mm)\n",
        "- **y:** 너비 (0, 58.9mm)\n",
        "- **z:** 깊이 (0, 31.8mm)\n",
        "- **depth:** 깊이 비율 = z / mean(x, y)\n",
        "- **table:** 가장 넓은 부분의 너비 대비 다이아몬드 꼭대기의 너비(43- 95)\n",
        "- 참고) https://www2.stat.duke.edu/courses/Fall15/sta112.01/post/hw/HW1.html"
      ]
    },
    {
      "cell_type": "code",
      "execution_count": null,
      "metadata": {
        "id": "IUIn0NYN3OHH"
      },
      "outputs": [],
      "source": [
        "# cut 변수의 unique한 값들 확인\n",
        "\n",
        "# color 변수의 unique한 값들 확인\n"
      ]
    },
    {
      "cell_type": "code",
      "execution_count": null,
      "metadata": {
        "id": "RgYZrvvo0H-B"
      },
      "outputs": [],
      "source": [
        "# cut 변수의 Ideal을 5, Preminum은 4, Very Good은 3, Good은 2, Fair은 1로 설정한 새로운 변수 cut_num을 df 데이터에 (열로)추가\n",
        "\n",
        "# color 변수의 D를 7, E를 6, F를 5, G를 4, H를 3, I는 2, J는 1로 설정한 새로운 변수 color_num을 df 데이터에 (열로)추가\n",
        "\n",
        "# 두개의 변수가 제대로 추가됐는지 확인하기 위해 df의 앞의 5개행만 보기\n"
      ]
    },
    {
      "cell_type": "code",
      "execution_count": null,
      "metadata": {
        "id": "PTUk1rEo5Y9e"
      },
      "outputs": [],
      "source": [
        "## carat, cut_num, color_num, x, y, z 데이터를 이용해서 price(가격)을 예측해볼거임\n",
        "# df에서 carat, cut_num, color_num, x, y, z만 뽑은 데이터를 X로 설정, df에서 price만 뽑은 데이터를 y로 설정 \n",
        "X = None\n",
        "y = None"
      ]
    },
    {
      "cell_type": "code",
      "execution_count": null,
      "metadata": {
        "id": "TSGfOWqMy_co"
      },
      "outputs": [],
      "source": [
        "# X와 y를 8:2의 비율로 train data / valid data로 나눠줌 (train_test_split 함수 이용. random_state는 42로 설정)\n",
        "x_train, x_test, y_train, y_test = None"
      ]
    },
    {
      "cell_type": "code",
      "execution_count": null,
      "metadata": {
        "id": "rX_g8wTly_aB"
      },
      "outputs": [],
      "source": [
        "# x_train과 y_train을 이용하여 선형회귀모델 학습\n",
        "learned_model = None"
      ]
    },
    {
      "cell_type": "code",
      "execution_count": null,
      "metadata": {
        "id": "_-Fz5eAZ8rhu"
      },
      "outputs": [],
      "source": [
        "# 학습시킨 learned_model을 이용하여 x_test에 대한 y값 예측(y_pred)\n",
        "y_pred = None"
      ]
    },
    {
      "cell_type": "code",
      "execution_count": null,
      "metadata": {
        "id": "sbPi9gOS-MUF"
      },
      "outputs": [],
      "source": [
        "# 실제 y값인 y_test와 예측한 값인 y_pred를 이용하여 MSE 계산. sklearn에서 제공하는 metrics 이용\n",
        "mse = None\n",
        "print(mse)"
      ]
    },
    {
      "cell_type": "code",
      "execution_count": null,
      "metadata": {
        "id": "ZCkK3xzm_NNH"
      },
      "outputs": [],
      "source": [
        "# y_pred를 print해서 대략 확인 후 df의 price를 boxplot으로 그려보기\n",
        "\n"
      ]
    },
    {
      "cell_type": "code",
      "execution_count": null,
      "metadata": {
        "id": "DP9yPRR4B5xA"
      },
      "outputs": [],
      "source": [
        "# y_pred를 boxplot으로 그려보기\n"
      ]
    }
  ],
  "metadata": {
    "colab": {
      "collapsed_sections": [],
      "name": "12_16_quiz.ipynb",
      "provenance": []
    },
    "kernelspec": {
      "display_name": "Python 3",
      "name": "python3"
    },
    "language_info": {
      "name": "python"
    }
  },
  "nbformat": 4,
  "nbformat_minor": 0
}
