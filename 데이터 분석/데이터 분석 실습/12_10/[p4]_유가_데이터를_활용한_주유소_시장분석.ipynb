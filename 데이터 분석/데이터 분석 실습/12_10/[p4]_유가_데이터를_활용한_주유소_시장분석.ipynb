{
 "cells": [
  {
   "cell_type": "markdown",
   "metadata": {
    "id": "nMZCtV8-wUBi"
   },
   "source": [
    "# [Project 4]_유가_데이터를_활용한_주유소_시장분석"
   ]
  },
  {
   "cell_type": "markdown",
   "metadata": {
    "id": "q4nVw7MrwUBj"
   },
   "source": [
    "---"
   ]
  },
  {
   "cell_type": "markdown",
   "metadata": {
    "id": "30SKtC7RwUBk"
   },
   "source": [
    "## 프로젝트 목표\n",
    "- <한국석유공사 제품별 주유소 판매가격> 데이터의 가격/지역/브랜드/셀프여부를 분석하여 주유소 시장 관련 인사이트 도출\n",
    "- 실제 연구/실무에서 활용되는 필수 분석 과정 및 기법에 대해 학습"
   ]
  },
  {
   "cell_type": "markdown",
   "metadata": {
    "id": "DKqVqsuNwUBk"
   },
   "source": [
    "---"
   ]
  },
  {
   "cell_type": "markdown",
   "metadata": {
    "id": "uHvelOrMwUBk"
   },
   "source": [
    "## 프로젝트 목차\n",
    "1. **데이터 Cleansing 및 Feature Engineering:** 분석을 위한 사전 점검 및 데이터 개괄 이해 <br>\n",
    "    1.1. 2018년 데이터 기준 데이터 Cleansing 및 Feature Engineering<br>\n",
    "    1.2. Cleansing 및 Feature Engineering 함수 생성 및 전체 년도 데이터 적용 <br>\n",
    "    1.3. 연도별 데이터 Outer Join<br>\n",
    "<br> \n",
    "\n",
    "2. **주유소 개폐업 현황 분석:** 연도별 주유소 ID 비교를 통한 개폐업 현황 분석<br>\n",
    "    2.1. 연도별 개폐업 수치 분석<br>\n",
    "<br>\n",
    "\n",
    "3. **브랜드 분석:** 브랜드별 가격경쟁력 및 시장점유율 분석<br>\n",
    "    3.1. 주요 브랜드별 가격 Line Plot 분석<br>\n",
    "    3.2. 주요 브랜드별 지난 4년간 시장 점유율 Stacked Bar Plot 및 Heatmap 분석<br>\n",
    "<br>\n",
    "\n",
    "4. **가격 분석:** 주유소 및 지역 별 가격 편차 분석<br>\n",
    "    4.1. 가격 분포 Boxplot<br>\n",
    "    4.2. 지역별 가격 분포 Boxplot (Multiple Columns)<br>\n",
    "<br>\n"
   ]
  },
  {
   "cell_type": "markdown",
   "metadata": {
    "id": "lUQhF57GwUBl"
   },
   "source": [
    "---"
   ]
  },
  {
   "cell_type": "markdown",
   "metadata": {
    "id": "t006thVWwUBl"
   },
   "source": [
    "## 데이터 출처\n",
    "-  https://www.data.go.kr/data/15044628/fileData.do\n",
    "- Opinet 유가내려받기: 2018 ~ 2021년 4개년에 대해 각각 6월 1일~7일 데이터 추출\n",
    "- 프로젝트에 필요한 컬럼만 추출"
   ]
  },
  {
   "cell_type": "markdown",
   "metadata": {
    "id": "yCBC0cvfwUBl"
   },
   "source": [
    "---"
   ]
  },
  {
   "cell_type": "markdown",
   "metadata": {
    "id": "py5kyk7mwUBl"
   },
   "source": [
    "## 프로젝트 개요\n",
    "\n",
    "행정안전부 공공데이터 포털에 등재되어있는 `한국석유공사 제품별 주유소 판매가격`은 전국 10000개 이상의 주유소에 대해 가격/지역/브랜드/셀프여부 등 방대한 데이터를 제공하고 있습니다. 이 데이터를 정유업체 전략기획팀 실무자의 입장에서 분석하여 주유소 시장에 대한 인사이트를 도출해봅시다. \n",
    "\n",
    "먼저, 주유소별로 7일치씩 쌓여있는 데이터를 요약하여 주유소별로 1개의 행이 되도록 각 년도 데이터를 가공 해봅시다. 그리고 이 데이터를 통해 지난 4년동안 몇개의 주유소가 개업 및 폐업 했는지 분석해 봅시다. 다음, 브랜드별 가격경쟁력 및 지난 4년간 시장 점유율 변화를 분석해 봅시다. 마지막으로 주유소별 가격 편차가 어느정도 되는지 알아보고, 지역별로도 유의미한 차이가 있는지 분석해 봅시다. "
   ]
  },
  {
   "cell_type": "markdown",
   "metadata": {
    "id": "r077bdYzwUBm"
   },
   "source": [
    "## 1. 데이터 Cleansing 및 Feature Engineering"
   ]
  },
  {
   "cell_type": "markdown",
   "metadata": {},
   "source": [
    "필요한 패키지를 `import`한 후 분석을 위한 사전 점검과 함께 데이터 개괄을 이해합니다."
   ]
  },
  {
   "cell_type": "markdown",
   "metadata": {},
   "source": [
    "### 1.1. 18년 데이터 기준 데이터 점검 및 Cleansing"
   ]
  },
  {
   "cell_type": "code",
   "execution_count": 168,
   "metadata": {},
   "outputs": [],
   "source": [
    "import numpy as np \n",
    "import pandas as pd \n",
    "import seaborn as sns\n",
    "sns.set_style('darkgrid')\n",
    "import matplotlib.pyplot as plt\n",
    "import matplotlib.font_manager as fm\n",
    "\n",
    "font_dirs = ['/usr/share/fonts/truetype/nanum', ]\n",
    "font_files = fm.findSystemFonts(fontpaths=font_dirs)\n",
    "for font_file in font_files:\n",
    "    fm.fontManager.addfont(font_file)\n",
    "\n",
    "plt.rcParams['font.family'] = 'NanumBarunGothic'\n",
    "plt.rcParams['axes.unicode_minus']=False"
   ]
  },
  {
   "cell_type": "code",
   "execution_count": 169,
   "metadata": {},
   "outputs": [],
   "source": [
    "f18 = pd.read_csv(f'./data/과거_판매가격(주유소)_2018.csv')"
   ]
  },
  {
   "cell_type": "code",
   "execution_count": 170,
   "metadata": {},
   "outputs": [
    {
     "data": {
      "text/html": [
       "<div>\n",
       "<style scoped>\n",
       "    .dataframe tbody tr th:only-of-type {\n",
       "        vertical-align: middle;\n",
       "    }\n",
       "\n",
       "    .dataframe tbody tr th {\n",
       "        vertical-align: top;\n",
       "    }\n",
       "\n",
       "    .dataframe thead th {\n",
       "        text-align: right;\n",
       "    }\n",
       "</style>\n",
       "<table border=\"1\" class=\"dataframe\">\n",
       "  <thead>\n",
       "    <tr style=\"text-align: right;\">\n",
       "      <th></th>\n",
       "      <th>번호</th>\n",
       "      <th>기간</th>\n",
       "      <th>지역</th>\n",
       "      <th>상표</th>\n",
       "      <th>셀프여부</th>\n",
       "      <th>휘발유</th>\n",
       "    </tr>\n",
       "  </thead>\n",
       "  <tbody>\n",
       "    <tr>\n",
       "      <th>0</th>\n",
       "      <td>기준 : 일간(20180601~20180607)</td>\n",
       "      <td>NaN</td>\n",
       "      <td>NaN</td>\n",
       "      <td>NaN</td>\n",
       "      <td>NaN</td>\n",
       "      <td>NaN</td>\n",
       "    </tr>\n",
       "    <tr>\n",
       "      <th>1</th>\n",
       "      <td>A0011536</td>\n",
       "      <td>20180601.0</td>\n",
       "      <td>강원 강릉시</td>\n",
       "      <td>SK에너지</td>\n",
       "      <td>셀프</td>\n",
       "      <td>1579.0</td>\n",
       "    </tr>\n",
       "    <tr>\n",
       "      <th>2</th>\n",
       "      <td>A0011536</td>\n",
       "      <td>20180602.0</td>\n",
       "      <td>강원 강릉시</td>\n",
       "      <td>SK에너지</td>\n",
       "      <td>셀프</td>\n",
       "      <td>1579.0</td>\n",
       "    </tr>\n",
       "    <tr>\n",
       "      <th>3</th>\n",
       "      <td>A0011536</td>\n",
       "      <td>20180603.0</td>\n",
       "      <td>강원 강릉시</td>\n",
       "      <td>SK에너지</td>\n",
       "      <td>셀프</td>\n",
       "      <td>1579.0</td>\n",
       "    </tr>\n",
       "    <tr>\n",
       "      <th>4</th>\n",
       "      <td>A0011536</td>\n",
       "      <td>20180604.0</td>\n",
       "      <td>강원 강릉시</td>\n",
       "      <td>SK에너지</td>\n",
       "      <td>셀프</td>\n",
       "      <td>1579.0</td>\n",
       "    </tr>\n",
       "  </tbody>\n",
       "</table>\n",
       "</div>"
      ],
      "text/plain": [
       "                           번호          기간      지역     상표 셀프여부     휘발유\n",
       "0  기준 : 일간(20180601~20180607)         NaN     NaN    NaN  NaN     NaN\n",
       "1                    A0011536  20180601.0  강원 강릉시  SK에너지   셀프  1579.0\n",
       "2                    A0011536  20180602.0  강원 강릉시  SK에너지   셀프  1579.0\n",
       "3                    A0011536  20180603.0  강원 강릉시  SK에너지   셀프  1579.0\n",
       "4                    A0011536  20180604.0  강원 강릉시  SK에너지   셀프  1579.0"
      ]
     },
     "execution_count": 170,
     "metadata": {},
     "output_type": "execute_result"
    }
   ],
   "source": [
    "f18.head()"
   ]
  },
  {
   "cell_type": "code",
   "execution_count": 171,
   "metadata": {},
   "outputs": [],
   "source": [
    "# 0번 row 제거\n",
    "f18 = f18.drop(0) "
   ]
  },
  {
   "cell_type": "code",
   "execution_count": 172,
   "metadata": {},
   "outputs": [
    {
     "data": {
      "text/plain": [
       "번호      0\n",
       "기간      0\n",
       "지역      0\n",
       "상표      0\n",
       "셀프여부    0\n",
       "휘발유     0\n",
       "dtype: int64"
      ]
     },
     "execution_count": 172,
     "metadata": {},
     "output_type": "execute_result"
    }
   ],
   "source": [
    "# 변수별 null값 확인 결과 null 없음\n",
    "f18.isna().sum() "
   ]
  },
  {
   "cell_type": "code",
   "execution_count": 173,
   "metadata": {},
   "outputs": [
    {
     "data": {
      "text/html": [
       "<div>\n",
       "<style scoped>\n",
       "    .dataframe tbody tr th:only-of-type {\n",
       "        vertical-align: middle;\n",
       "    }\n",
       "\n",
       "    .dataframe tbody tr th {\n",
       "        vertical-align: top;\n",
       "    }\n",
       "\n",
       "    .dataframe thead th {\n",
       "        text-align: right;\n",
       "    }\n",
       "</style>\n",
       "<table border=\"1\" class=\"dataframe\">\n",
       "  <thead>\n",
       "    <tr style=\"text-align: right;\">\n",
       "      <th></th>\n",
       "      <th>번호</th>\n",
       "      <th>기간</th>\n",
       "      <th>지역</th>\n",
       "      <th>상표</th>\n",
       "      <th>셀프여부</th>\n",
       "      <th>휘발유</th>\n",
       "    </tr>\n",
       "  </thead>\n",
       "  <tbody>\n",
       "    <tr>\n",
       "      <th>count</th>\n",
       "      <td>81466</td>\n",
       "      <td>8.146600e+04</td>\n",
       "      <td>81466</td>\n",
       "      <td>81466</td>\n",
       "      <td>81466</td>\n",
       "      <td>81466.000000</td>\n",
       "    </tr>\n",
       "    <tr>\n",
       "      <th>unique</th>\n",
       "      <td>11673</td>\n",
       "      <td>NaN</td>\n",
       "      <td>229</td>\n",
       "      <td>9</td>\n",
       "      <td>2</td>\n",
       "      <td>NaN</td>\n",
       "    </tr>\n",
       "    <tr>\n",
       "      <th>top</th>\n",
       "      <td>A0017671</td>\n",
       "      <td>NaN</td>\n",
       "      <td>충북 청주시</td>\n",
       "      <td>SK에너지</td>\n",
       "      <td>일반</td>\n",
       "      <td>NaN</td>\n",
       "    </tr>\n",
       "    <tr>\n",
       "      <th>freq</th>\n",
       "      <td>7</td>\n",
       "      <td>NaN</td>\n",
       "      <td>1574</td>\n",
       "      <td>24531</td>\n",
       "      <td>49850</td>\n",
       "      <td>NaN</td>\n",
       "    </tr>\n",
       "    <tr>\n",
       "      <th>mean</th>\n",
       "      <td>NaN</td>\n",
       "      <td>2.018060e+07</td>\n",
       "      <td>NaN</td>\n",
       "      <td>NaN</td>\n",
       "      <td>NaN</td>\n",
       "      <td>1603.579714</td>\n",
       "    </tr>\n",
       "    <tr>\n",
       "      <th>std</th>\n",
       "      <td>NaN</td>\n",
       "      <td>2.000113e+00</td>\n",
       "      <td>NaN</td>\n",
       "      <td>NaN</td>\n",
       "      <td>NaN</td>\n",
       "      <td>112.806463</td>\n",
       "    </tr>\n",
       "    <tr>\n",
       "      <th>min</th>\n",
       "      <td>NaN</td>\n",
       "      <td>2.018060e+07</td>\n",
       "      <td>NaN</td>\n",
       "      <td>NaN</td>\n",
       "      <td>NaN</td>\n",
       "      <td>0.000000</td>\n",
       "    </tr>\n",
       "    <tr>\n",
       "      <th>25%</th>\n",
       "      <td>NaN</td>\n",
       "      <td>2.018060e+07</td>\n",
       "      <td>NaN</td>\n",
       "      <td>NaN</td>\n",
       "      <td>NaN</td>\n",
       "      <td>1579.000000</td>\n",
       "    </tr>\n",
       "    <tr>\n",
       "      <th>50%</th>\n",
       "      <td>NaN</td>\n",
       "      <td>2.018060e+07</td>\n",
       "      <td>NaN</td>\n",
       "      <td>NaN</td>\n",
       "      <td>NaN</td>\n",
       "      <td>1598.000000</td>\n",
       "    </tr>\n",
       "    <tr>\n",
       "      <th>75%</th>\n",
       "      <td>NaN</td>\n",
       "      <td>2.018061e+07</td>\n",
       "      <td>NaN</td>\n",
       "      <td>NaN</td>\n",
       "      <td>NaN</td>\n",
       "      <td>1625.000000</td>\n",
       "    </tr>\n",
       "    <tr>\n",
       "      <th>max</th>\n",
       "      <td>NaN</td>\n",
       "      <td>2.018061e+07</td>\n",
       "      <td>NaN</td>\n",
       "      <td>NaN</td>\n",
       "      <td>NaN</td>\n",
       "      <td>2282.000000</td>\n",
       "    </tr>\n",
       "  </tbody>\n",
       "</table>\n",
       "</div>"
      ],
      "text/plain": [
       "              번호            기간      지역     상표   셀프여부           휘발유\n",
       "count      81466  8.146600e+04   81466  81466  81466  81466.000000\n",
       "unique     11673           NaN     229      9      2           NaN\n",
       "top     A0017671           NaN  충북 청주시  SK에너지     일반           NaN\n",
       "freq           7           NaN    1574  24531  49850           NaN\n",
       "mean         NaN  2.018060e+07     NaN    NaN    NaN   1603.579714\n",
       "std          NaN  2.000113e+00     NaN    NaN    NaN    112.806463\n",
       "min          NaN  2.018060e+07     NaN    NaN    NaN      0.000000\n",
       "25%          NaN  2.018060e+07     NaN    NaN    NaN   1579.000000\n",
       "50%          NaN  2.018060e+07     NaN    NaN    NaN   1598.000000\n",
       "75%          NaN  2.018061e+07     NaN    NaN    NaN   1625.000000\n",
       "max          NaN  2.018061e+07     NaN    NaN    NaN   2282.000000"
      ]
     },
     "execution_count": 173,
     "metadata": {},
     "output_type": "execute_result"
    }
   ],
   "source": [
    "# include='all': 카테고리형 변수도 정보 제공\n",
    "f18.describe(include='all') "
   ]
  },
  {
   "cell_type": "markdown",
   "metadata": {},
   "source": [
    "#### describe 점검 포인트:\n",
    "- unique 번호가 11673개이며 최대 7번까지 기록되었음\n",
    "- 기간이 수치로 인식되고 있음\n",
    "- unique 지역 개수가 229이어서 너무 많음\n",
    "- unique 상표 개수가 9개이므로 적절함\n",
    "- unique 셀프여부 개수가 2개이며, 셀프여부는 각각 절반정도 비중을 차지함\n",
    "- 휘발유 min이 0임"
   ]
  },
  {
   "cell_type": "code",
   "execution_count": 174,
   "metadata": {},
   "outputs": [],
   "source": [
    "# 기간을 datetime 형태로 변환\n",
    "f18['기간'] = f18['기간'].apply(lambda x:pd.to_datetime(str(int(x)))) "
   ]
  },
  {
   "cell_type": "code",
   "execution_count": 175,
   "metadata": {},
   "outputs": [
    {
     "data": {
      "text/plain": [
       "1       2018-06-01\n",
       "2       2018-06-02\n",
       "3       2018-06-03\n",
       "4       2018-06-04\n",
       "5       2018-06-05\n",
       "           ...    \n",
       "81462   2018-06-03\n",
       "81463   2018-06-04\n",
       "81464   2018-06-05\n",
       "81465   2018-06-06\n",
       "81466   2018-06-07\n",
       "Name: 기간, Length: 81466, dtype: datetime64[ns]"
      ]
     },
     "execution_count": 175,
     "metadata": {},
     "output_type": "execute_result"
    }
   ],
   "source": [
    "f18['기간']"
   ]
  },
  {
   "cell_type": "code",
   "execution_count": 176,
   "metadata": {},
   "outputs": [
    {
     "name": "stdout",
     "output_type": "stream",
     "text": [
      "min: 1,max: 2\n"
     ]
    }
   ],
   "source": [
    "# 지역 변수 중 첫 지역 구분만 컬럼 형성\n",
    "region_len = f18['지역'].apply(lambda x: len(x.split())) \n",
    "print(f\"min: {min(region_len)},max: {max(region_len)}\")"
   ]
  },
  {
   "cell_type": "code",
   "execution_count": 177,
   "metadata": {},
   "outputs": [
    {
     "data": {
      "text/plain": [
       "Counter({'강원': 4691,\n",
       "         '경기': 16341,\n",
       "         '경남': 8049,\n",
       "         '경북': 8918,\n",
       "         '광주': 1984,\n",
       "         '대구': 2555,\n",
       "         '대전': 1721,\n",
       "         '부산': 2936,\n",
       "         '서울': 3589,\n",
       "         '세종시': 448,\n",
       "         '울산': 1706,\n",
       "         '인천': 2345,\n",
       "         '전남': 6260,\n",
       "         '전북': 6278,\n",
       "         '제주': 1351,\n",
       "         '충남': 7158,\n",
       "         '충북': 5136})"
      ]
     },
     "execution_count": 177,
     "metadata": {},
     "output_type": "execute_result"
    }
   ],
   "source": [
    "f18['지역2'] = f18['지역'].apply(lambda x:x.split()[0])\n",
    "import collections\n",
    "collections.Counter(f18['지역2'])"
   ]
  },
  {
   "cell_type": "code",
   "execution_count": 178,
   "metadata": {},
   "outputs": [
    {
     "data": {
      "text/html": [
       "<div>\n",
       "<style scoped>\n",
       "    .dataframe tbody tr th:only-of-type {\n",
       "        vertical-align: middle;\n",
       "    }\n",
       "\n",
       "    .dataframe tbody tr th {\n",
       "        vertical-align: top;\n",
       "    }\n",
       "\n",
       "    .dataframe thead th {\n",
       "        text-align: right;\n",
       "    }\n",
       "</style>\n",
       "<table border=\"1\" class=\"dataframe\">\n",
       "  <thead>\n",
       "    <tr style=\"text-align: right;\">\n",
       "      <th></th>\n",
       "      <th>번호</th>\n",
       "      <th>기간</th>\n",
       "      <th>지역</th>\n",
       "      <th>상표</th>\n",
       "      <th>셀프여부</th>\n",
       "      <th>휘발유</th>\n",
       "      <th>지역2</th>\n",
       "    </tr>\n",
       "  </thead>\n",
       "  <tbody>\n",
       "    <tr>\n",
       "      <th>1019</th>\n",
       "      <td>A0010629</td>\n",
       "      <td>2018-06-07</td>\n",
       "      <td>강원 삼척시</td>\n",
       "      <td>현대오일뱅크</td>\n",
       "      <td>일반</td>\n",
       "      <td>0.0</td>\n",
       "      <td>강원</td>\n",
       "    </tr>\n",
       "    <tr>\n",
       "      <th>1159</th>\n",
       "      <td>A0010700</td>\n",
       "      <td>2018-06-07</td>\n",
       "      <td>강원 삼척시</td>\n",
       "      <td>현대오일뱅크</td>\n",
       "      <td>셀프</td>\n",
       "      <td>0.0</td>\n",
       "      <td>강원</td>\n",
       "    </tr>\n",
       "    <tr>\n",
       "      <th>1370</th>\n",
       "      <td>A0010458</td>\n",
       "      <td>2018-06-01</td>\n",
       "      <td>강원 양구군</td>\n",
       "      <td>SK에너지</td>\n",
       "      <td>일반</td>\n",
       "      <td>0.0</td>\n",
       "      <td>강원</td>\n",
       "    </tr>\n",
       "    <tr>\n",
       "      <th>1371</th>\n",
       "      <td>A0010458</td>\n",
       "      <td>2018-06-02</td>\n",
       "      <td>강원 양구군</td>\n",
       "      <td>SK에너지</td>\n",
       "      <td>일반</td>\n",
       "      <td>0.0</td>\n",
       "      <td>강원</td>\n",
       "    </tr>\n",
       "    <tr>\n",
       "      <th>1372</th>\n",
       "      <td>A0010458</td>\n",
       "      <td>2018-06-03</td>\n",
       "      <td>강원 양구군</td>\n",
       "      <td>SK에너지</td>\n",
       "      <td>일반</td>\n",
       "      <td>0.0</td>\n",
       "      <td>강원</td>\n",
       "    </tr>\n",
       "    <tr>\n",
       "      <th>1373</th>\n",
       "      <td>A0010458</td>\n",
       "      <td>2018-06-04</td>\n",
       "      <td>강원 양구군</td>\n",
       "      <td>SK에너지</td>\n",
       "      <td>일반</td>\n",
       "      <td>0.0</td>\n",
       "      <td>강원</td>\n",
       "    </tr>\n",
       "    <tr>\n",
       "      <th>1374</th>\n",
       "      <td>A0010458</td>\n",
       "      <td>2018-06-05</td>\n",
       "      <td>강원 양구군</td>\n",
       "      <td>SK에너지</td>\n",
       "      <td>일반</td>\n",
       "      <td>0.0</td>\n",
       "      <td>강원</td>\n",
       "    </tr>\n",
       "    <tr>\n",
       "      <th>1375</th>\n",
       "      <td>A0010458</td>\n",
       "      <td>2018-06-06</td>\n",
       "      <td>강원 양구군</td>\n",
       "      <td>SK에너지</td>\n",
       "      <td>일반</td>\n",
       "      <td>0.0</td>\n",
       "      <td>강원</td>\n",
       "    </tr>\n",
       "    <tr>\n",
       "      <th>1376</th>\n",
       "      <td>A0010458</td>\n",
       "      <td>2018-06-07</td>\n",
       "      <td>강원 양구군</td>\n",
       "      <td>SK에너지</td>\n",
       "      <td>일반</td>\n",
       "      <td>0.0</td>\n",
       "      <td>강원</td>\n",
       "    </tr>\n",
       "    <tr>\n",
       "      <th>1575</th>\n",
       "      <td>A0011234</td>\n",
       "      <td>2018-06-03</td>\n",
       "      <td>강원 영월군</td>\n",
       "      <td>SK에너지</td>\n",
       "      <td>일반</td>\n",
       "      <td>0.0</td>\n",
       "      <td>강원</td>\n",
       "    </tr>\n",
       "  </tbody>\n",
       "</table>\n",
       "</div>"
      ],
      "text/plain": [
       "            번호         기간      지역      상표 셀프여부  휘발유 지역2\n",
       "1019  A0010629 2018-06-07  강원 삼척시  현대오일뱅크   일반  0.0  강원\n",
       "1159  A0010700 2018-06-07  강원 삼척시  현대오일뱅크   셀프  0.0  강원\n",
       "1370  A0010458 2018-06-01  강원 양구군   SK에너지   일반  0.0  강원\n",
       "1371  A0010458 2018-06-02  강원 양구군   SK에너지   일반  0.0  강원\n",
       "1372  A0010458 2018-06-03  강원 양구군   SK에너지   일반  0.0  강원\n",
       "1373  A0010458 2018-06-04  강원 양구군   SK에너지   일반  0.0  강원\n",
       "1374  A0010458 2018-06-05  강원 양구군   SK에너지   일반  0.0  강원\n",
       "1375  A0010458 2018-06-06  강원 양구군   SK에너지   일반  0.0  강원\n",
       "1376  A0010458 2018-06-07  강원 양구군   SK에너지   일반  0.0  강원\n",
       "1575  A0011234 2018-06-03  강원 영월군   SK에너지   일반  0.0  강원"
      ]
     },
     "execution_count": 178,
     "metadata": {},
     "output_type": "execute_result"
    }
   ],
   "source": [
    "# 휘발유값 0인 ROW 확인\n",
    "f18.loc[f18['휘발유']==0].head(10) "
   ]
  },
  {
   "cell_type": "code",
   "execution_count": 179,
   "metadata": {},
   "outputs": [
    {
     "data": {
      "text/html": [
       "<div>\n",
       "<style scoped>\n",
       "    .dataframe tbody tr th:only-of-type {\n",
       "        vertical-align: middle;\n",
       "    }\n",
       "\n",
       "    .dataframe tbody tr th {\n",
       "        vertical-align: top;\n",
       "    }\n",
       "\n",
       "    .dataframe thead th {\n",
       "        text-align: right;\n",
       "    }\n",
       "</style>\n",
       "<table border=\"1\" class=\"dataframe\">\n",
       "  <thead>\n",
       "    <tr style=\"text-align: right;\">\n",
       "      <th></th>\n",
       "      <th>번호</th>\n",
       "      <th>기간</th>\n",
       "      <th>지역</th>\n",
       "      <th>상표</th>\n",
       "      <th>셀프여부</th>\n",
       "      <th>휘발유</th>\n",
       "      <th>지역2</th>\n",
       "    </tr>\n",
       "  </thead>\n",
       "  <tbody>\n",
       "    <tr>\n",
       "      <th>1013</th>\n",
       "      <td>A0010629</td>\n",
       "      <td>2018-06-01</td>\n",
       "      <td>강원 삼척시</td>\n",
       "      <td>현대오일뱅크</td>\n",
       "      <td>일반</td>\n",
       "      <td>1595.0</td>\n",
       "      <td>강원</td>\n",
       "    </tr>\n",
       "    <tr>\n",
       "      <th>1014</th>\n",
       "      <td>A0010629</td>\n",
       "      <td>2018-06-02</td>\n",
       "      <td>강원 삼척시</td>\n",
       "      <td>현대오일뱅크</td>\n",
       "      <td>일반</td>\n",
       "      <td>1595.0</td>\n",
       "      <td>강원</td>\n",
       "    </tr>\n",
       "    <tr>\n",
       "      <th>1015</th>\n",
       "      <td>A0010629</td>\n",
       "      <td>2018-06-03</td>\n",
       "      <td>강원 삼척시</td>\n",
       "      <td>현대오일뱅크</td>\n",
       "      <td>일반</td>\n",
       "      <td>1595.0</td>\n",
       "      <td>강원</td>\n",
       "    </tr>\n",
       "    <tr>\n",
       "      <th>1016</th>\n",
       "      <td>A0010629</td>\n",
       "      <td>2018-06-04</td>\n",
       "      <td>강원 삼척시</td>\n",
       "      <td>현대오일뱅크</td>\n",
       "      <td>일반</td>\n",
       "      <td>1595.0</td>\n",
       "      <td>강원</td>\n",
       "    </tr>\n",
       "    <tr>\n",
       "      <th>1017</th>\n",
       "      <td>A0010629</td>\n",
       "      <td>2018-06-05</td>\n",
       "      <td>강원 삼척시</td>\n",
       "      <td>현대오일뱅크</td>\n",
       "      <td>일반</td>\n",
       "      <td>1595.0</td>\n",
       "      <td>강원</td>\n",
       "    </tr>\n",
       "    <tr>\n",
       "      <th>1018</th>\n",
       "      <td>A0010629</td>\n",
       "      <td>2018-06-06</td>\n",
       "      <td>강원 삼척시</td>\n",
       "      <td>현대오일뱅크</td>\n",
       "      <td>일반</td>\n",
       "      <td>1595.0</td>\n",
       "      <td>강원</td>\n",
       "    </tr>\n",
       "    <tr>\n",
       "      <th>1019</th>\n",
       "      <td>A0010629</td>\n",
       "      <td>2018-06-07</td>\n",
       "      <td>강원 삼척시</td>\n",
       "      <td>현대오일뱅크</td>\n",
       "      <td>일반</td>\n",
       "      <td>0.0</td>\n",
       "      <td>강원</td>\n",
       "    </tr>\n",
       "  </tbody>\n",
       "</table>\n",
       "</div>"
      ],
      "text/plain": [
       "            번호         기간      지역      상표 셀프여부     휘발유 지역2\n",
       "1013  A0010629 2018-06-01  강원 삼척시  현대오일뱅크   일반  1595.0  강원\n",
       "1014  A0010629 2018-06-02  강원 삼척시  현대오일뱅크   일반  1595.0  강원\n",
       "1015  A0010629 2018-06-03  강원 삼척시  현대오일뱅크   일반  1595.0  강원\n",
       "1016  A0010629 2018-06-04  강원 삼척시  현대오일뱅크   일반  1595.0  강원\n",
       "1017  A0010629 2018-06-05  강원 삼척시  현대오일뱅크   일반  1595.0  강원\n",
       "1018  A0010629 2018-06-06  강원 삼척시  현대오일뱅크   일반  1595.0  강원\n",
       "1019  A0010629 2018-06-07  강원 삼척시  현대오일뱅크   일반     0.0  강원"
      ]
     },
     "execution_count": 179,
     "metadata": {},
     "output_type": "execute_result"
    }
   ],
   "source": [
    "f18.loc[f18['번호']=='A0010629']"
   ]
  },
  {
   "cell_type": "code",
   "execution_count": 180,
   "metadata": {},
   "outputs": [],
   "source": [
    "# 휘발유값 0인 ROW 제거\n",
    "f18 = f18.loc[f18['휘발유']!=0,:]"
   ]
  },
  {
   "cell_type": "code",
   "execution_count": 181,
   "metadata": {},
   "outputs": [
    {
     "data": {
      "text/html": [
       "<div>\n",
       "<style scoped>\n",
       "    .dataframe tbody tr th:only-of-type {\n",
       "        vertical-align: middle;\n",
       "    }\n",
       "\n",
       "    .dataframe tbody tr th {\n",
       "        vertical-align: top;\n",
       "    }\n",
       "\n",
       "    .dataframe thead th {\n",
       "        text-align: right;\n",
       "    }\n",
       "</style>\n",
       "<table border=\"1\" class=\"dataframe\">\n",
       "  <thead>\n",
       "    <tr style=\"text-align: right;\">\n",
       "      <th></th>\n",
       "      <th>번호</th>\n",
       "      <th>기간</th>\n",
       "      <th>지역</th>\n",
       "      <th>상표</th>\n",
       "      <th>셀프여부</th>\n",
       "      <th>휘발유</th>\n",
       "      <th>지역2</th>\n",
       "    </tr>\n",
       "  </thead>\n",
       "  <tbody>\n",
       "    <tr>\n",
       "      <th>count</th>\n",
       "      <td>81167</td>\n",
       "      <td>81167</td>\n",
       "      <td>81167</td>\n",
       "      <td>81167</td>\n",
       "      <td>81167</td>\n",
       "      <td>81167.000000</td>\n",
       "      <td>81167</td>\n",
       "    </tr>\n",
       "    <tr>\n",
       "      <th>unique</th>\n",
       "      <td>11641</td>\n",
       "      <td>NaN</td>\n",
       "      <td>229</td>\n",
       "      <td>9</td>\n",
       "      <td>2</td>\n",
       "      <td>NaN</td>\n",
       "      <td>17</td>\n",
       "    </tr>\n",
       "    <tr>\n",
       "      <th>top</th>\n",
       "      <td>A0017671</td>\n",
       "      <td>NaN</td>\n",
       "      <td>충북 청주시</td>\n",
       "      <td>SK에너지</td>\n",
       "      <td>일반</td>\n",
       "      <td>NaN</td>\n",
       "      <td>경기</td>\n",
       "    </tr>\n",
       "    <tr>\n",
       "      <th>freq</th>\n",
       "      <td>7</td>\n",
       "      <td>NaN</td>\n",
       "      <td>1567</td>\n",
       "      <td>24444</td>\n",
       "      <td>49590</td>\n",
       "      <td>NaN</td>\n",
       "      <td>16306</td>\n",
       "    </tr>\n",
       "    <tr>\n",
       "      <th>mean</th>\n",
       "      <td>NaN</td>\n",
       "      <td>2018-06-03 23:57:25.651557888</td>\n",
       "      <td>NaN</td>\n",
       "      <td>NaN</td>\n",
       "      <td>NaN</td>\n",
       "      <td>1609.486922</td>\n",
       "      <td>NaN</td>\n",
       "    </tr>\n",
       "    <tr>\n",
       "      <th>min</th>\n",
       "      <td>NaN</td>\n",
       "      <td>2018-06-01 00:00:00</td>\n",
       "      <td>NaN</td>\n",
       "      <td>NaN</td>\n",
       "      <td>NaN</td>\n",
       "      <td>1500.000000</td>\n",
       "      <td>NaN</td>\n",
       "    </tr>\n",
       "    <tr>\n",
       "      <th>25%</th>\n",
       "      <td>NaN</td>\n",
       "      <td>2018-06-02 00:00:00</td>\n",
       "      <td>NaN</td>\n",
       "      <td>NaN</td>\n",
       "      <td>NaN</td>\n",
       "      <td>1579.000000</td>\n",
       "      <td>NaN</td>\n",
       "    </tr>\n",
       "    <tr>\n",
       "      <th>50%</th>\n",
       "      <td>NaN</td>\n",
       "      <td>2018-06-04 00:00:00</td>\n",
       "      <td>NaN</td>\n",
       "      <td>NaN</td>\n",
       "      <td>NaN</td>\n",
       "      <td>1598.000000</td>\n",
       "      <td>NaN</td>\n",
       "    </tr>\n",
       "    <tr>\n",
       "      <th>75%</th>\n",
       "      <td>NaN</td>\n",
       "      <td>2018-06-06 00:00:00</td>\n",
       "      <td>NaN</td>\n",
       "      <td>NaN</td>\n",
       "      <td>NaN</td>\n",
       "      <td>1625.000000</td>\n",
       "      <td>NaN</td>\n",
       "    </tr>\n",
       "    <tr>\n",
       "      <th>max</th>\n",
       "      <td>NaN</td>\n",
       "      <td>2018-06-07 00:00:00</td>\n",
       "      <td>NaN</td>\n",
       "      <td>NaN</td>\n",
       "      <td>NaN</td>\n",
       "      <td>2282.000000</td>\n",
       "      <td>NaN</td>\n",
       "    </tr>\n",
       "    <tr>\n",
       "      <th>std</th>\n",
       "      <td>NaN</td>\n",
       "      <td>NaN</td>\n",
       "      <td>NaN</td>\n",
       "      <td>NaN</td>\n",
       "      <td>NaN</td>\n",
       "      <td>57.135670</td>\n",
       "      <td>NaN</td>\n",
       "    </tr>\n",
       "  </tbody>\n",
       "</table>\n",
       "</div>"
      ],
      "text/plain": [
       "              번호                             기간      지역     상표   셀프여부  \\\n",
       "count      81167                          81167   81167  81167  81167   \n",
       "unique     11641                            NaN     229      9      2   \n",
       "top     A0017671                            NaN  충북 청주시  SK에너지     일반   \n",
       "freq           7                            NaN    1567  24444  49590   \n",
       "mean         NaN  2018-06-03 23:57:25.651557888     NaN    NaN    NaN   \n",
       "min          NaN            2018-06-01 00:00:00     NaN    NaN    NaN   \n",
       "25%          NaN            2018-06-02 00:00:00     NaN    NaN    NaN   \n",
       "50%          NaN            2018-06-04 00:00:00     NaN    NaN    NaN   \n",
       "75%          NaN            2018-06-06 00:00:00     NaN    NaN    NaN   \n",
       "max          NaN            2018-06-07 00:00:00     NaN    NaN    NaN   \n",
       "std          NaN                            NaN     NaN    NaN    NaN   \n",
       "\n",
       "                 휘발유    지역2  \n",
       "count   81167.000000  81167  \n",
       "unique           NaN     17  \n",
       "top              NaN     경기  \n",
       "freq             NaN  16306  \n",
       "mean     1609.486922    NaN  \n",
       "min      1500.000000    NaN  \n",
       "25%      1579.000000    NaN  \n",
       "50%      1598.000000    NaN  \n",
       "75%      1625.000000    NaN  \n",
       "max      2282.000000    NaN  \n",
       "std        57.135670    NaN  "
      ]
     },
     "execution_count": 181,
     "metadata": {},
     "output_type": "execute_result"
    }
   ],
   "source": [
    "f18.describe(include='all',datetime_is_numeric=True)"
   ]
  },
  {
   "cell_type": "code",
   "execution_count": 182,
   "metadata": {},
   "outputs": [
    {
     "data": {
      "text/html": [
       "<div>\n",
       "<style scoped>\n",
       "    .dataframe tbody tr th:only-of-type {\n",
       "        vertical-align: middle;\n",
       "    }\n",
       "\n",
       "    .dataframe tbody tr th {\n",
       "        vertical-align: top;\n",
       "    }\n",
       "\n",
       "    .dataframe thead th {\n",
       "        text-align: right;\n",
       "    }\n",
       "</style>\n",
       "<table border=\"1\" class=\"dataframe\">\n",
       "  <thead>\n",
       "    <tr style=\"text-align: right;\">\n",
       "      <th></th>\n",
       "      <th>지역</th>\n",
       "      <th>상표</th>\n",
       "      <th>셀프여부</th>\n",
       "    </tr>\n",
       "    <tr>\n",
       "      <th>번호</th>\n",
       "      <th></th>\n",
       "      <th></th>\n",
       "      <th></th>\n",
       "    </tr>\n",
       "  </thead>\n",
       "  <tbody>\n",
       "    <tr>\n",
       "      <th>A0000004</th>\n",
       "      <td>1</td>\n",
       "      <td>1</td>\n",
       "      <td>1</td>\n",
       "    </tr>\n",
       "    <tr>\n",
       "      <th>A0000011</th>\n",
       "      <td>1</td>\n",
       "      <td>1</td>\n",
       "      <td>1</td>\n",
       "    </tr>\n",
       "    <tr>\n",
       "      <th>A0000012</th>\n",
       "      <td>1</td>\n",
       "      <td>1</td>\n",
       "      <td>1</td>\n",
       "    </tr>\n",
       "    <tr>\n",
       "      <th>A0000014</th>\n",
       "      <td>1</td>\n",
       "      <td>1</td>\n",
       "      <td>1</td>\n",
       "    </tr>\n",
       "    <tr>\n",
       "      <th>A0000015</th>\n",
       "      <td>1</td>\n",
       "      <td>1</td>\n",
       "      <td>1</td>\n",
       "    </tr>\n",
       "  </tbody>\n",
       "</table>\n",
       "</div>"
      ],
      "text/plain": [
       "          지역  상표  셀프여부\n",
       "번호                    \n",
       "A0000004   1   1     1\n",
       "A0000011   1   1     1\n",
       "A0000012   1   1     1\n",
       "A0000014   1   1     1\n",
       "A0000015   1   1     1"
      ]
     },
     "execution_count": 182,
     "metadata": {},
     "output_type": "execute_result"
    }
   ],
   "source": [
    "#주유소별 데이터 정합성 확인(7일동안 변화 없었다는 전제)\n",
    "unique_count = f18.groupby('번호')[['지역','상표','셀프여부']].nunique()\n",
    "unique_count.head()"
   ]
  },
  {
   "cell_type": "code",
   "execution_count": 183,
   "metadata": {},
   "outputs": [
    {
     "data": {
      "text/html": [
       "<div>\n",
       "<style scoped>\n",
       "    .dataframe tbody tr th:only-of-type {\n",
       "        vertical-align: middle;\n",
       "    }\n",
       "\n",
       "    .dataframe tbody tr th {\n",
       "        vertical-align: top;\n",
       "    }\n",
       "\n",
       "    .dataframe thead th {\n",
       "        text-align: right;\n",
       "    }\n",
       "</style>\n",
       "<table border=\"1\" class=\"dataframe\">\n",
       "  <thead>\n",
       "    <tr style=\"text-align: right;\">\n",
       "      <th></th>\n",
       "      <th>지역</th>\n",
       "      <th>상표</th>\n",
       "      <th>셀프여부</th>\n",
       "    </tr>\n",
       "    <tr>\n",
       "      <th>번호</th>\n",
       "      <th></th>\n",
       "      <th></th>\n",
       "      <th></th>\n",
       "    </tr>\n",
       "  </thead>\n",
       "  <tbody>\n",
       "    <tr>\n",
       "      <th>A0012639</th>\n",
       "      <td>1</td>\n",
       "      <td>2</td>\n",
       "      <td>1</td>\n",
       "    </tr>\n",
       "    <tr>\n",
       "      <th>A0016076</th>\n",
       "      <td>1</td>\n",
       "      <td>2</td>\n",
       "      <td>1</td>\n",
       "    </tr>\n",
       "  </tbody>\n",
       "</table>\n",
       "</div>"
      ],
      "text/plain": [
       "          지역  상표  셀프여부\n",
       "번호                    \n",
       "A0012639   1   2     1\n",
       "A0016076   1   2     1"
      ]
     },
     "execution_count": 183,
     "metadata": {},
     "output_type": "execute_result"
    }
   ],
   "source": [
    "target = unique_count.loc[(unique_count!=1).sum(axis=1)!=0]\n",
    "target"
   ]
  },
  {
   "cell_type": "code",
   "execution_count": 184,
   "metadata": {},
   "outputs": [
    {
     "data": {
      "text/html": [
       "<div>\n",
       "<style scoped>\n",
       "    .dataframe tbody tr th:only-of-type {\n",
       "        vertical-align: middle;\n",
       "    }\n",
       "\n",
       "    .dataframe tbody tr th {\n",
       "        vertical-align: top;\n",
       "    }\n",
       "\n",
       "    .dataframe thead th {\n",
       "        text-align: right;\n",
       "    }\n",
       "</style>\n",
       "<table border=\"1\" class=\"dataframe\">\n",
       "  <thead>\n",
       "    <tr style=\"text-align: right;\">\n",
       "      <th></th>\n",
       "      <th>번호</th>\n",
       "      <th>기간</th>\n",
       "      <th>지역</th>\n",
       "      <th>상표</th>\n",
       "      <th>셀프여부</th>\n",
       "      <th>휘발유</th>\n",
       "      <th>지역2</th>\n",
       "    </tr>\n",
       "  </thead>\n",
       "  <tbody>\n",
       "    <tr>\n",
       "      <th>73033</th>\n",
       "      <td>A0016076</td>\n",
       "      <td>2018-06-01</td>\n",
       "      <td>충남 아산시</td>\n",
       "      <td>현대오일뱅크</td>\n",
       "      <td>일반</td>\n",
       "      <td>1565.0</td>\n",
       "      <td>충남</td>\n",
       "    </tr>\n",
       "    <tr>\n",
       "      <th>73034</th>\n",
       "      <td>A0016076</td>\n",
       "      <td>2018-06-02</td>\n",
       "      <td>충남 아산시</td>\n",
       "      <td>현대오일뱅크</td>\n",
       "      <td>일반</td>\n",
       "      <td>1565.0</td>\n",
       "      <td>충남</td>\n",
       "    </tr>\n",
       "    <tr>\n",
       "      <th>73039</th>\n",
       "      <td>A0016076</td>\n",
       "      <td>2018-06-07</td>\n",
       "      <td>충남 아산시</td>\n",
       "      <td>자가상표</td>\n",
       "      <td>일반</td>\n",
       "      <td>1595.0</td>\n",
       "      <td>충남</td>\n",
       "    </tr>\n",
       "    <tr>\n",
       "      <th>77335</th>\n",
       "      <td>A0012639</td>\n",
       "      <td>2018-06-01</td>\n",
       "      <td>충북 옥천군</td>\n",
       "      <td>현대오일뱅크</td>\n",
       "      <td>일반</td>\n",
       "      <td>1619.0</td>\n",
       "      <td>충북</td>\n",
       "    </tr>\n",
       "    <tr>\n",
       "      <th>77336</th>\n",
       "      <td>A0012639</td>\n",
       "      <td>2018-06-02</td>\n",
       "      <td>충북 옥천군</td>\n",
       "      <td>현대오일뱅크</td>\n",
       "      <td>일반</td>\n",
       "      <td>1619.0</td>\n",
       "      <td>충북</td>\n",
       "    </tr>\n",
       "    <tr>\n",
       "      <th>77337</th>\n",
       "      <td>A0012639</td>\n",
       "      <td>2018-06-03</td>\n",
       "      <td>충북 옥천군</td>\n",
       "      <td>현대오일뱅크</td>\n",
       "      <td>일반</td>\n",
       "      <td>1619.0</td>\n",
       "      <td>충북</td>\n",
       "    </tr>\n",
       "    <tr>\n",
       "      <th>77338</th>\n",
       "      <td>A0012639</td>\n",
       "      <td>2018-06-04</td>\n",
       "      <td>충북 옥천군</td>\n",
       "      <td>현대오일뱅크</td>\n",
       "      <td>일반</td>\n",
       "      <td>1619.0</td>\n",
       "      <td>충북</td>\n",
       "    </tr>\n",
       "    <tr>\n",
       "      <th>77339</th>\n",
       "      <td>A0012639</td>\n",
       "      <td>2018-06-05</td>\n",
       "      <td>충북 옥천군</td>\n",
       "      <td>현대오일뱅크</td>\n",
       "      <td>일반</td>\n",
       "      <td>1619.0</td>\n",
       "      <td>충북</td>\n",
       "    </tr>\n",
       "    <tr>\n",
       "      <th>77340</th>\n",
       "      <td>A0012639</td>\n",
       "      <td>2018-06-06</td>\n",
       "      <td>충북 옥천군</td>\n",
       "      <td>현대오일뱅크</td>\n",
       "      <td>일반</td>\n",
       "      <td>1619.0</td>\n",
       "      <td>충북</td>\n",
       "    </tr>\n",
       "    <tr>\n",
       "      <th>77341</th>\n",
       "      <td>A0012639</td>\n",
       "      <td>2018-06-07</td>\n",
       "      <td>충북 옥천군</td>\n",
       "      <td>S-OIL</td>\n",
       "      <td>일반</td>\n",
       "      <td>1619.0</td>\n",
       "      <td>충북</td>\n",
       "    </tr>\n",
       "  </tbody>\n",
       "</table>\n",
       "</div>"
      ],
      "text/plain": [
       "             번호         기간      지역      상표 셀프여부     휘발유 지역2\n",
       "73033  A0016076 2018-06-01  충남 아산시  현대오일뱅크   일반  1565.0  충남\n",
       "73034  A0016076 2018-06-02  충남 아산시  현대오일뱅크   일반  1565.0  충남\n",
       "73039  A0016076 2018-06-07  충남 아산시    자가상표   일반  1595.0  충남\n",
       "77335  A0012639 2018-06-01  충북 옥천군  현대오일뱅크   일반  1619.0  충북\n",
       "77336  A0012639 2018-06-02  충북 옥천군  현대오일뱅크   일반  1619.0  충북\n",
       "77337  A0012639 2018-06-03  충북 옥천군  현대오일뱅크   일반  1619.0  충북\n",
       "77338  A0012639 2018-06-04  충북 옥천군  현대오일뱅크   일반  1619.0  충북\n",
       "77339  A0012639 2018-06-05  충북 옥천군  현대오일뱅크   일반  1619.0  충북\n",
       "77340  A0012639 2018-06-06  충북 옥천군  현대오일뱅크   일반  1619.0  충북\n",
       "77341  A0012639 2018-06-07  충북 옥천군   S-OIL   일반  1619.0  충북"
      ]
     },
     "execution_count": 184,
     "metadata": {},
     "output_type": "execute_result"
    }
   ],
   "source": [
    "f18.loc[f18['번호'].isin(target.index)]"
   ]
  },
  {
   "cell_type": "code",
   "execution_count": 189,
   "metadata": {},
   "outputs": [
    {
     "data": {
      "text/plain": [
       "Index(['A0012639', 'A0016076'], dtype='object', name='번호')"
      ]
     },
     "execution_count": 189,
     "metadata": {},
     "output_type": "execute_result"
    }
   ],
   "source": [
    "target.index"
   ]
  },
  {
   "cell_type": "code",
   "execution_count": 187,
   "metadata": {},
   "outputs": [],
   "source": [
    "f18 = f18.loc[~f18['번호'].isin(target.index)]"
   ]
  },
  {
   "cell_type": "code",
   "execution_count": 190,
   "metadata": {},
   "outputs": [],
   "source": [
    "# 주유소별 데이터 통합\n",
    "f18 = f18.groupby('번호')\\\n",
    "    .agg({'지역':'first','지역2':'first','상표':'first','셀프여부':'first','휘발유':'mean'})\\\n",
    "    .reset_index() "
   ]
  },
  {
   "cell_type": "code",
   "execution_count": 191,
   "metadata": {},
   "outputs": [
    {
     "data": {
      "text/html": [
       "<div>\n",
       "<style scoped>\n",
       "    .dataframe tbody tr th:only-of-type {\n",
       "        vertical-align: middle;\n",
       "    }\n",
       "\n",
       "    .dataframe tbody tr th {\n",
       "        vertical-align: top;\n",
       "    }\n",
       "\n",
       "    .dataframe thead th {\n",
       "        text-align: right;\n",
       "    }\n",
       "</style>\n",
       "<table border=\"1\" class=\"dataframe\">\n",
       "  <thead>\n",
       "    <tr style=\"text-align: right;\">\n",
       "      <th></th>\n",
       "      <th>번호</th>\n",
       "      <th>지역</th>\n",
       "      <th>지역2</th>\n",
       "      <th>상표</th>\n",
       "      <th>셀프여부</th>\n",
       "      <th>휘발유</th>\n",
       "    </tr>\n",
       "  </thead>\n",
       "  <tbody>\n",
       "    <tr>\n",
       "      <th>0</th>\n",
       "      <td>A0000004</td>\n",
       "      <td>경기 광명시</td>\n",
       "      <td>경기</td>\n",
       "      <td>GS칼텍스</td>\n",
       "      <td>일반</td>\n",
       "      <td>1599.000000</td>\n",
       "    </tr>\n",
       "    <tr>\n",
       "      <th>1</th>\n",
       "      <td>A0000011</td>\n",
       "      <td>서울 양천구</td>\n",
       "      <td>서울</td>\n",
       "      <td>GS칼텍스</td>\n",
       "      <td>일반</td>\n",
       "      <td>1594.000000</td>\n",
       "    </tr>\n",
       "    <tr>\n",
       "      <th>2</th>\n",
       "      <td>A0000012</td>\n",
       "      <td>경기 용인시</td>\n",
       "      <td>경기</td>\n",
       "      <td>GS칼텍스</td>\n",
       "      <td>일반</td>\n",
       "      <td>1594.000000</td>\n",
       "    </tr>\n",
       "    <tr>\n",
       "      <th>3</th>\n",
       "      <td>A0000014</td>\n",
       "      <td>강원 인제군</td>\n",
       "      <td>강원</td>\n",
       "      <td>GS칼텍스</td>\n",
       "      <td>일반</td>\n",
       "      <td>1609.000000</td>\n",
       "    </tr>\n",
       "    <tr>\n",
       "      <th>4</th>\n",
       "      <td>A0000015</td>\n",
       "      <td>서울 송파구</td>\n",
       "      <td>서울</td>\n",
       "      <td>현대오일뱅크</td>\n",
       "      <td>셀프</td>\n",
       "      <td>1589.000000</td>\n",
       "    </tr>\n",
       "    <tr>\n",
       "      <th>...</th>\n",
       "      <td>...</td>\n",
       "      <td>...</td>\n",
       "      <td>...</td>\n",
       "      <td>...</td>\n",
       "      <td>...</td>\n",
       "      <td>...</td>\n",
       "    </tr>\n",
       "    <tr>\n",
       "      <th>11634</th>\n",
       "      <td>A0033277</td>\n",
       "      <td>경기 화성시</td>\n",
       "      <td>경기</td>\n",
       "      <td>알뜰(ex)</td>\n",
       "      <td>셀프</td>\n",
       "      <td>1617.571429</td>\n",
       "    </tr>\n",
       "    <tr>\n",
       "      <th>11635</th>\n",
       "      <td>A0033278</td>\n",
       "      <td>경기 오산시</td>\n",
       "      <td>경기</td>\n",
       "      <td>현대오일뱅크</td>\n",
       "      <td>셀프</td>\n",
       "      <td>1576.000000</td>\n",
       "    </tr>\n",
       "    <tr>\n",
       "      <th>11636</th>\n",
       "      <td>A0033279</td>\n",
       "      <td>전남 나주시</td>\n",
       "      <td>전남</td>\n",
       "      <td>S-OIL</td>\n",
       "      <td>셀프</td>\n",
       "      <td>1559.000000</td>\n",
       "    </tr>\n",
       "    <tr>\n",
       "      <th>11637</th>\n",
       "      <td>A0033280</td>\n",
       "      <td>경기 용인시</td>\n",
       "      <td>경기</td>\n",
       "      <td>GS칼텍스</td>\n",
       "      <td>셀프</td>\n",
       "      <td>1589.000000</td>\n",
       "    </tr>\n",
       "    <tr>\n",
       "      <th>11638</th>\n",
       "      <td>A0033281</td>\n",
       "      <td>경북 영천시</td>\n",
       "      <td>경북</td>\n",
       "      <td>GS칼텍스</td>\n",
       "      <td>셀프</td>\n",
       "      <td>1569.000000</td>\n",
       "    </tr>\n",
       "  </tbody>\n",
       "</table>\n",
       "<p>11639 rows × 6 columns</p>\n",
       "</div>"
      ],
      "text/plain": [
       "             번호      지역 지역2      상표 셀프여부          휘발유\n",
       "0      A0000004  경기 광명시  경기   GS칼텍스   일반  1599.000000\n",
       "1      A0000011  서울 양천구  서울   GS칼텍스   일반  1594.000000\n",
       "2      A0000012  경기 용인시  경기   GS칼텍스   일반  1594.000000\n",
       "3      A0000014  강원 인제군  강원   GS칼텍스   일반  1609.000000\n",
       "4      A0000015  서울 송파구  서울  현대오일뱅크   셀프  1589.000000\n",
       "...         ...     ...  ..     ...  ...          ...\n",
       "11634  A0033277  경기 화성시  경기  알뜰(ex)   셀프  1617.571429\n",
       "11635  A0033278  경기 오산시  경기  현대오일뱅크   셀프  1576.000000\n",
       "11636  A0033279  전남 나주시  전남   S-OIL   셀프  1559.000000\n",
       "11637  A0033280  경기 용인시  경기   GS칼텍스   셀프  1589.000000\n",
       "11638  A0033281  경북 영천시  경북   GS칼텍스   셀프  1569.000000\n",
       "\n",
       "[11639 rows x 6 columns]"
      ]
     },
     "execution_count": 191,
     "metadata": {},
     "output_type": "execute_result"
    }
   ],
   "source": [
    "f18"
   ]
  },
  {
   "cell_type": "code",
   "execution_count": 192,
   "metadata": {},
   "outputs": [
    {
     "data": {
      "text/html": [
       "<div>\n",
       "<style scoped>\n",
       "    .dataframe tbody tr th:only-of-type {\n",
       "        vertical-align: middle;\n",
       "    }\n",
       "\n",
       "    .dataframe tbody tr th {\n",
       "        vertical-align: top;\n",
       "    }\n",
       "\n",
       "    .dataframe thead th {\n",
       "        text-align: right;\n",
       "    }\n",
       "</style>\n",
       "<table border=\"1\" class=\"dataframe\">\n",
       "  <thead>\n",
       "    <tr style=\"text-align: right;\">\n",
       "      <th></th>\n",
       "      <th>번호</th>\n",
       "      <th>지역</th>\n",
       "      <th>지역2</th>\n",
       "      <th>상표</th>\n",
       "      <th>셀프여부</th>\n",
       "      <th>휘발유</th>\n",
       "    </tr>\n",
       "  </thead>\n",
       "  <tbody>\n",
       "    <tr>\n",
       "      <th>count</th>\n",
       "      <td>11639</td>\n",
       "      <td>11639</td>\n",
       "      <td>11639</td>\n",
       "      <td>11639</td>\n",
       "      <td>11639</td>\n",
       "      <td>11639.000000</td>\n",
       "    </tr>\n",
       "    <tr>\n",
       "      <th>unique</th>\n",
       "      <td>11639</td>\n",
       "      <td>229</td>\n",
       "      <td>17</td>\n",
       "      <td>9</td>\n",
       "      <td>2</td>\n",
       "      <td>NaN</td>\n",
       "    </tr>\n",
       "    <tr>\n",
       "      <th>top</th>\n",
       "      <td>A0017671</td>\n",
       "      <td>충북 청주시</td>\n",
       "      <td>경기</td>\n",
       "      <td>SK에너지</td>\n",
       "      <td>일반</td>\n",
       "      <td>NaN</td>\n",
       "    </tr>\n",
       "    <tr>\n",
       "      <th>freq</th>\n",
       "      <td>1</td>\n",
       "      <td>224</td>\n",
       "      <td>2343</td>\n",
       "      <td>3505</td>\n",
       "      <td>7106</td>\n",
       "      <td>NaN</td>\n",
       "    </tr>\n",
       "    <tr>\n",
       "      <th>mean</th>\n",
       "      <td>NaN</td>\n",
       "      <td>NaN</td>\n",
       "      <td>NaN</td>\n",
       "      <td>NaN</td>\n",
       "      <td>NaN</td>\n",
       "      <td>1609.491097</td>\n",
       "    </tr>\n",
       "    <tr>\n",
       "      <th>std</th>\n",
       "      <td>NaN</td>\n",
       "      <td>NaN</td>\n",
       "      <td>NaN</td>\n",
       "      <td>NaN</td>\n",
       "      <td>NaN</td>\n",
       "      <td>56.959482</td>\n",
       "    </tr>\n",
       "    <tr>\n",
       "      <th>min</th>\n",
       "      <td>NaN</td>\n",
       "      <td>NaN</td>\n",
       "      <td>NaN</td>\n",
       "      <td>NaN</td>\n",
       "      <td>NaN</td>\n",
       "      <td>1525.000000</td>\n",
       "    </tr>\n",
       "    <tr>\n",
       "      <th>25%</th>\n",
       "      <td>NaN</td>\n",
       "      <td>NaN</td>\n",
       "      <td>NaN</td>\n",
       "      <td>NaN</td>\n",
       "      <td>NaN</td>\n",
       "      <td>1579.000000</td>\n",
       "    </tr>\n",
       "    <tr>\n",
       "      <th>50%</th>\n",
       "      <td>NaN</td>\n",
       "      <td>NaN</td>\n",
       "      <td>NaN</td>\n",
       "      <td>NaN</td>\n",
       "      <td>NaN</td>\n",
       "      <td>1598.000000</td>\n",
       "    </tr>\n",
       "    <tr>\n",
       "      <th>75%</th>\n",
       "      <td>NaN</td>\n",
       "      <td>NaN</td>\n",
       "      <td>NaN</td>\n",
       "      <td>NaN</td>\n",
       "      <td>NaN</td>\n",
       "      <td>1625.000000</td>\n",
       "    </tr>\n",
       "    <tr>\n",
       "      <th>max</th>\n",
       "      <td>NaN</td>\n",
       "      <td>NaN</td>\n",
       "      <td>NaN</td>\n",
       "      <td>NaN</td>\n",
       "      <td>NaN</td>\n",
       "      <td>2281.428571</td>\n",
       "    </tr>\n",
       "  </tbody>\n",
       "</table>\n",
       "</div>"
      ],
      "text/plain": [
       "              번호      지역    지역2     상표   셀프여부           휘발유\n",
       "count      11639   11639  11639  11639  11639  11639.000000\n",
       "unique     11639     229     17      9      2           NaN\n",
       "top     A0017671  충북 청주시     경기  SK에너지     일반           NaN\n",
       "freq           1     224   2343   3505   7106           NaN\n",
       "mean         NaN     NaN    NaN    NaN    NaN   1609.491097\n",
       "std          NaN     NaN    NaN    NaN    NaN     56.959482\n",
       "min          NaN     NaN    NaN    NaN    NaN   1525.000000\n",
       "25%          NaN     NaN    NaN    NaN    NaN   1579.000000\n",
       "50%          NaN     NaN    NaN    NaN    NaN   1598.000000\n",
       "75%          NaN     NaN    NaN    NaN    NaN   1625.000000\n",
       "max          NaN     NaN    NaN    NaN    NaN   2281.428571"
      ]
     },
     "execution_count": 192,
     "metadata": {},
     "output_type": "execute_result"
    }
   ],
   "source": [
    "f18.describe(include='all')"
   ]
  },
  {
   "cell_type": "markdown",
   "metadata": {},
   "source": [
    "### 1.2. Cleansing 및 Feature Engineering 함수 생성 및 전체 년도 데이터 적용"
   ]
  },
  {
   "cell_type": "code",
   "execution_count": 226,
   "metadata": {},
   "outputs": [
    {
     "data": {
      "text/html": [
       "<div>\n",
       "<style scoped>\n",
       "    .dataframe tbody tr th:only-of-type {\n",
       "        vertical-align: middle;\n",
       "    }\n",
       "\n",
       "    .dataframe tbody tr th {\n",
       "        vertical-align: top;\n",
       "    }\n",
       "\n",
       "    .dataframe thead th {\n",
       "        text-align: right;\n",
       "    }\n",
       "</style>\n",
       "<table border=\"1\" class=\"dataframe\">\n",
       "  <thead>\n",
       "    <tr style=\"text-align: right;\">\n",
       "      <th></th>\n",
       "      <th>번호</th>\n",
       "      <th>지역</th>\n",
       "      <th>지역2</th>\n",
       "      <th>상표</th>\n",
       "      <th>셀프여부</th>\n",
       "      <th>휘발유</th>\n",
       "    </tr>\n",
       "  </thead>\n",
       "  <tbody>\n",
       "    <tr>\n",
       "      <th>1</th>\n",
       "      <td>A0000011</td>\n",
       "      <td>서울 양천구</td>\n",
       "      <td>서울</td>\n",
       "      <td>GS칼텍스</td>\n",
       "      <td>일반</td>\n",
       "      <td>1594.000000</td>\n",
       "    </tr>\n",
       "    <tr>\n",
       "      <th>2</th>\n",
       "      <td>A0000012</td>\n",
       "      <td>경기 용인시</td>\n",
       "      <td>경기</td>\n",
       "      <td>GS칼텍스</td>\n",
       "      <td>일반</td>\n",
       "      <td>1594.000000</td>\n",
       "    </tr>\n",
       "    <tr>\n",
       "      <th>3</th>\n",
       "      <td>A0000014</td>\n",
       "      <td>강원 인제군</td>\n",
       "      <td>강원</td>\n",
       "      <td>GS칼텍스</td>\n",
       "      <td>일반</td>\n",
       "      <td>1609.000000</td>\n",
       "    </tr>\n",
       "    <tr>\n",
       "      <th>4</th>\n",
       "      <td>A0000015</td>\n",
       "      <td>서울 송파구</td>\n",
       "      <td>서울</td>\n",
       "      <td>현대오일뱅크</td>\n",
       "      <td>셀프</td>\n",
       "      <td>1589.000000</td>\n",
       "    </tr>\n",
       "    <tr>\n",
       "      <th>5</th>\n",
       "      <td>A0000020</td>\n",
       "      <td>경기 이천시</td>\n",
       "      <td>경기</td>\n",
       "      <td>GS칼텍스</td>\n",
       "      <td>셀프</td>\n",
       "      <td>1568.000000</td>\n",
       "    </tr>\n",
       "    <tr>\n",
       "      <th>...</th>\n",
       "      <td>...</td>\n",
       "      <td>...</td>\n",
       "      <td>...</td>\n",
       "      <td>...</td>\n",
       "      <td>...</td>\n",
       "      <td>...</td>\n",
       "    </tr>\n",
       "    <tr>\n",
       "      <th>11634</th>\n",
       "      <td>A0033277</td>\n",
       "      <td>경기 화성시</td>\n",
       "      <td>경기</td>\n",
       "      <td>알뜰(ex)</td>\n",
       "      <td>셀프</td>\n",
       "      <td>1617.571429</td>\n",
       "    </tr>\n",
       "    <tr>\n",
       "      <th>11635</th>\n",
       "      <td>A0033278</td>\n",
       "      <td>경기 오산시</td>\n",
       "      <td>경기</td>\n",
       "      <td>현대오일뱅크</td>\n",
       "      <td>셀프</td>\n",
       "      <td>1576.000000</td>\n",
       "    </tr>\n",
       "    <tr>\n",
       "      <th>11636</th>\n",
       "      <td>A0033279</td>\n",
       "      <td>전남 나주시</td>\n",
       "      <td>전남</td>\n",
       "      <td>S-OIL</td>\n",
       "      <td>셀프</td>\n",
       "      <td>1559.000000</td>\n",
       "    </tr>\n",
       "    <tr>\n",
       "      <th>11637</th>\n",
       "      <td>A0033280</td>\n",
       "      <td>경기 용인시</td>\n",
       "      <td>경기</td>\n",
       "      <td>GS칼텍스</td>\n",
       "      <td>셀프</td>\n",
       "      <td>1589.000000</td>\n",
       "    </tr>\n",
       "    <tr>\n",
       "      <th>11638</th>\n",
       "      <td>A0033281</td>\n",
       "      <td>경북 영천시</td>\n",
       "      <td>경북</td>\n",
       "      <td>GS칼텍스</td>\n",
       "      <td>셀프</td>\n",
       "      <td>1569.000000</td>\n",
       "    </tr>\n",
       "  </tbody>\n",
       "</table>\n",
       "<p>11638 rows × 6 columns</p>\n",
       "</div>"
      ],
      "text/plain": [
       "             번호      지역 지역2      상표 셀프여부          휘발유\n",
       "1      A0000011  서울 양천구  서울   GS칼텍스   일반  1594.000000\n",
       "2      A0000012  경기 용인시  경기   GS칼텍스   일반  1594.000000\n",
       "3      A0000014  강원 인제군  강원   GS칼텍스   일반  1609.000000\n",
       "4      A0000015  서울 송파구  서울  현대오일뱅크   셀프  1589.000000\n",
       "5      A0000020  경기 이천시  경기   GS칼텍스   셀프  1568.000000\n",
       "...         ...     ...  ..     ...  ...          ...\n",
       "11634  A0033277  경기 화성시  경기  알뜰(ex)   셀프  1617.571429\n",
       "11635  A0033278  경기 오산시  경기  현대오일뱅크   셀프  1576.000000\n",
       "11636  A0033279  전남 나주시  전남   S-OIL   셀프  1559.000000\n",
       "11637  A0033280  경기 용인시  경기   GS칼텍스   셀프  1589.000000\n",
       "11638  A0033281  경북 영천시  경북   GS칼텍스   셀프  1569.000000\n",
       "\n",
       "[11638 rows x 6 columns]"
      ]
     },
     "execution_count": 226,
     "metadata": {},
     "output_type": "execute_result"
    }
   ],
   "source": [
    "f18.drop(0)"
   ]
  },
  {
   "cell_type": "code",
   "execution_count": 227,
   "metadata": {},
   "outputs": [],
   "source": [
    "def preprocess(df):\n",
    "    df_copy=df.copy() # 필터링 전\n",
    "    \n",
    "    df = df.drop(0)\n",
    "    df['기간'] = df['기간'].apply(lambda x:pd.to_datetime(str(int(x))))\n",
    "    df['지역2'] = df['지역'].apply(lambda x:x.split()[0])\n",
    "    df = df.loc[df['휘발유']!=0,:]\n",
    "    unique_count = df.groupby('번호')[['번호','지역','상표','셀프여부']].nunique()\n",
    "    target = unique_count.loc[(unique_count!=1).sum(axis=1)!=0,:]\n",
    "    df = df.loc[~df['번호'].isin(target.index),:]\n",
    "    df = df.groupby('번호')\\\n",
    "        .agg({'지역':'first','지역2':'first','상표':'first','셀프여부':'first','휘발유':'mean'})\\\n",
    "        .reset_index()\n",
    "    \n",
    "    out = set(df_copy['번호']).difference(set(df['번호'])) # 필터링 후 \n",
    "    return(df,out)"
   ]
  },
  {
   "cell_type": "code",
   "execution_count": 228,
   "metadata": {},
   "outputs": [],
   "source": [
    "f_dict = dict()\n",
    "out_all = set() # 이상치 발견한 주유소 번호 저장\n",
    "\n",
    "for year in range(2018,2022):\n",
    "    df = pd.read_csv(f'./data/과거_판매가격(주유소)_{year}.csv')\n",
    "    f_dict[year], out = preprocess(df)\n",
    "    out_all.update(out)"
   ]
  },
  {
   "cell_type": "markdown",
   "metadata": {},
   "source": [
    "### 1.3. 연도별 데이터 Outer Join"
   ]
  },
  {
   "cell_type": "code",
   "execution_count": 229,
   "metadata": {},
   "outputs": [
    {
     "name": "stdout",
     "output_type": "stream",
     "text": [
      "['번호', '지역', '지역2', '상표', '셀프여부']\n"
     ]
    }
   ],
   "source": [
    "key = list(f_dict[2018].columns)\n",
    "key.remove('휘발유')\n",
    "print(key)"
   ]
  },
  {
   "cell_type": "code",
   "execution_count": 230,
   "metadata": {},
   "outputs": [],
   "source": [
    "m1 = pd.merge(f_dict[2018],f_dict[2019],on=key,how='outer',suffixes=('_2018', '_2019'))\n",
    "m2 = pd.merge(f_dict[2020],f_dict[2021],on=key,how='outer',suffixes=('_2020', '_2021'))\n",
    "m = pd.merge(m1,m2,on=key,how='outer')"
   ]
  },
  {
   "cell_type": "code",
   "execution_count": 231,
   "metadata": {},
   "outputs": [
    {
     "data": {
      "text/html": [
       "<div>\n",
       "<style scoped>\n",
       "    .dataframe tbody tr th:only-of-type {\n",
       "        vertical-align: middle;\n",
       "    }\n",
       "\n",
       "    .dataframe tbody tr th {\n",
       "        vertical-align: top;\n",
       "    }\n",
       "\n",
       "    .dataframe thead th {\n",
       "        text-align: right;\n",
       "    }\n",
       "</style>\n",
       "<table border=\"1\" class=\"dataframe\">\n",
       "  <thead>\n",
       "    <tr style=\"text-align: right;\">\n",
       "      <th></th>\n",
       "      <th>번호</th>\n",
       "      <th>지역</th>\n",
       "      <th>지역2</th>\n",
       "      <th>상표</th>\n",
       "      <th>셀프여부</th>\n",
       "      <th>휘발유_2018</th>\n",
       "      <th>휘발유_2019</th>\n",
       "      <th>휘발유_2020</th>\n",
       "      <th>휘발유_2021</th>\n",
       "    </tr>\n",
       "  </thead>\n",
       "  <tbody>\n",
       "    <tr>\n",
       "      <th>0</th>\n",
       "      <td>A0000004</td>\n",
       "      <td>경기 광명시</td>\n",
       "      <td>경기</td>\n",
       "      <td>GS칼텍스</td>\n",
       "      <td>일반</td>\n",
       "      <td>1599.0</td>\n",
       "      <td>1529.000000</td>\n",
       "      <td>1289.714286</td>\n",
       "      <td>1545.857143</td>\n",
       "    </tr>\n",
       "    <tr>\n",
       "      <th>1</th>\n",
       "      <td>A0000011</td>\n",
       "      <td>서울 양천구</td>\n",
       "      <td>서울</td>\n",
       "      <td>GS칼텍스</td>\n",
       "      <td>일반</td>\n",
       "      <td>1594.0</td>\n",
       "      <td>1524.000000</td>\n",
       "      <td>1283.571429</td>\n",
       "      <td>1542.428571</td>\n",
       "    </tr>\n",
       "    <tr>\n",
       "      <th>2</th>\n",
       "      <td>A0000012</td>\n",
       "      <td>경기 용인시</td>\n",
       "      <td>경기</td>\n",
       "      <td>GS칼텍스</td>\n",
       "      <td>일반</td>\n",
       "      <td>1594.0</td>\n",
       "      <td>1529.000000</td>\n",
       "      <td>1287.285714</td>\n",
       "      <td>1552.142857</td>\n",
       "    </tr>\n",
       "    <tr>\n",
       "      <th>3</th>\n",
       "      <td>A0000014</td>\n",
       "      <td>강원 인제군</td>\n",
       "      <td>강원</td>\n",
       "      <td>GS칼텍스</td>\n",
       "      <td>일반</td>\n",
       "      <td>1609.0</td>\n",
       "      <td>1549.000000</td>\n",
       "      <td>1314.000000</td>\n",
       "      <td>1575.000000</td>\n",
       "    </tr>\n",
       "    <tr>\n",
       "      <th>4</th>\n",
       "      <td>A0000015</td>\n",
       "      <td>서울 송파구</td>\n",
       "      <td>서울</td>\n",
       "      <td>현대오일뱅크</td>\n",
       "      <td>셀프</td>\n",
       "      <td>1589.0</td>\n",
       "      <td>1512.428571</td>\n",
       "      <td>1289.285714</td>\n",
       "      <td>1575.714286</td>\n",
       "    </tr>\n",
       "  </tbody>\n",
       "</table>\n",
       "</div>"
      ],
      "text/plain": [
       "         번호      지역 지역2      상표 셀프여부  휘발유_2018     휘발유_2019     휘발유_2020  \\\n",
       "0  A0000004  경기 광명시  경기   GS칼텍스   일반    1599.0  1529.000000  1289.714286   \n",
       "1  A0000011  서울 양천구  서울   GS칼텍스   일반    1594.0  1524.000000  1283.571429   \n",
       "2  A0000012  경기 용인시  경기   GS칼텍스   일반    1594.0  1529.000000  1287.285714   \n",
       "3  A0000014  강원 인제군  강원   GS칼텍스   일반    1609.0  1549.000000  1314.000000   \n",
       "4  A0000015  서울 송파구  서울  현대오일뱅크   셀프    1589.0  1512.428571  1289.285714   \n",
       "\n",
       "      휘발유_2021  \n",
       "0  1545.857143  \n",
       "1  1542.428571  \n",
       "2  1552.142857  \n",
       "3  1575.000000  \n",
       "4  1575.714286  "
      ]
     },
     "execution_count": 231,
     "metadata": {},
     "output_type": "execute_result"
    }
   ],
   "source": [
    "m.head()"
   ]
  },
  {
   "cell_type": "code",
   "execution_count": 232,
   "metadata": {},
   "outputs": [
    {
     "data": {
      "text/plain": [
       "번호\n",
       "A0019752    4\n",
       "A0016166    3\n",
       "A0018959    3\n",
       "A0033031    3\n",
       "A0011875    3\n",
       "dtype: int64"
      ]
     },
     "execution_count": 232,
     "metadata": {},
     "output_type": "execute_result"
    }
   ],
   "source": [
    "m.groupby('번호').size().sort_values(ascending=False).head()"
   ]
  },
  {
   "cell_type": "code",
   "execution_count": 233,
   "metadata": {},
   "outputs": [
    {
     "data": {
      "text/html": [
       "<div>\n",
       "<style scoped>\n",
       "    .dataframe tbody tr th:only-of-type {\n",
       "        vertical-align: middle;\n",
       "    }\n",
       "\n",
       "    .dataframe tbody tr th {\n",
       "        vertical-align: top;\n",
       "    }\n",
       "\n",
       "    .dataframe thead th {\n",
       "        text-align: right;\n",
       "    }\n",
       "</style>\n",
       "<table border=\"1\" class=\"dataframe\">\n",
       "  <thead>\n",
       "    <tr style=\"text-align: right;\">\n",
       "      <th></th>\n",
       "      <th>번호</th>\n",
       "      <th>지역</th>\n",
       "      <th>지역2</th>\n",
       "      <th>상표</th>\n",
       "      <th>셀프여부</th>\n",
       "      <th>휘발유_2018</th>\n",
       "      <th>휘발유_2019</th>\n",
       "      <th>휘발유_2020</th>\n",
       "      <th>휘발유_2021</th>\n",
       "    </tr>\n",
       "  </thead>\n",
       "  <tbody>\n",
       "    <tr>\n",
       "      <th>6660</th>\n",
       "      <td>A0019752</td>\n",
       "      <td>광주 북구</td>\n",
       "      <td>광주</td>\n",
       "      <td>현대오일뱅크</td>\n",
       "      <td>셀프</td>\n",
       "      <td>1596.0</td>\n",
       "      <td>NaN</td>\n",
       "      <td>NaN</td>\n",
       "      <td>NaN</td>\n",
       "    </tr>\n",
       "    <tr>\n",
       "      <th>11965</th>\n",
       "      <td>A0019752</td>\n",
       "      <td>광주 북구</td>\n",
       "      <td>광주</td>\n",
       "      <td>GS칼텍스</td>\n",
       "      <td>셀프</td>\n",
       "      <td>NaN</td>\n",
       "      <td>1536.0</td>\n",
       "      <td>NaN</td>\n",
       "      <td>NaN</td>\n",
       "    </tr>\n",
       "    <tr>\n",
       "      <th>12728</th>\n",
       "      <td>A0019752</td>\n",
       "      <td>광주 북구</td>\n",
       "      <td>광주</td>\n",
       "      <td>자가상표</td>\n",
       "      <td>셀프</td>\n",
       "      <td>NaN</td>\n",
       "      <td>NaN</td>\n",
       "      <td>1239.0</td>\n",
       "      <td>NaN</td>\n",
       "    </tr>\n",
       "    <tr>\n",
       "      <th>13314</th>\n",
       "      <td>A0019752</td>\n",
       "      <td>광주 북구</td>\n",
       "      <td>광주</td>\n",
       "      <td>알뜰주유소</td>\n",
       "      <td>셀프</td>\n",
       "      <td>NaN</td>\n",
       "      <td>NaN</td>\n",
       "      <td>NaN</td>\n",
       "      <td>1509.714286</td>\n",
       "    </tr>\n",
       "  </tbody>\n",
       "</table>\n",
       "</div>"
      ],
      "text/plain": [
       "             번호     지역 지역2      상표 셀프여부  휘발유_2018  휘발유_2019  휘발유_2020  \\\n",
       "6660   A0019752  광주 북구  광주  현대오일뱅크   셀프    1596.0       NaN       NaN   \n",
       "11965  A0019752  광주 북구  광주   GS칼텍스   셀프       NaN    1536.0       NaN   \n",
       "12728  A0019752  광주 북구  광주    자가상표   셀프       NaN       NaN    1239.0   \n",
       "13314  A0019752  광주 북구  광주   알뜰주유소   셀프       NaN       NaN       NaN   \n",
       "\n",
       "          휘발유_2021  \n",
       "6660           NaN  \n",
       "11965          NaN  \n",
       "12728          NaN  \n",
       "13314  1509.714286  "
      ]
     },
     "execution_count": 233,
     "metadata": {},
     "output_type": "execute_result"
    }
   ],
   "source": [
    "m.loc[m['번호']=='A0019752']"
   ]
  },
  {
   "cell_type": "code",
   "execution_count": 234,
   "metadata": {},
   "outputs": [
    {
     "data": {
      "text/plain": [
       "1338"
      ]
     },
     "execution_count": 234,
     "metadata": {},
     "output_type": "execute_result"
    }
   ],
   "source": [
    "(m.groupby('번호').size()>1).sum()"
   ]
  },
  {
   "cell_type": "code",
   "execution_count": 235,
   "metadata": {},
   "outputs": [
    {
     "data": {
      "text/plain": [
       "['번호', '지역', '지역2', '셀프여부']"
      ]
     },
     "execution_count": 235,
     "metadata": {},
     "output_type": "execute_result"
    }
   ],
   "source": [
    "key.remove('상표')\n",
    "key"
   ]
  },
  {
   "cell_type": "code",
   "execution_count": 236,
   "metadata": {},
   "outputs": [],
   "source": [
    "m1 = pd.merge(f_dict[2018],f_dict[2019],on=key,how='outer',suffixes=('_2018', '_2019'))\n",
    "m2 = pd.merge(f_dict[2020],f_dict[2021],on=key,how='outer',suffixes=('_2020', '_2021'))\n",
    "m = pd.merge(m1,m2,on=key,how='outer')"
   ]
  },
  {
   "cell_type": "code",
   "execution_count": 237,
   "metadata": {},
   "outputs": [
    {
     "data": {
      "text/html": [
       "<div>\n",
       "<style scoped>\n",
       "    .dataframe tbody tr th:only-of-type {\n",
       "        vertical-align: middle;\n",
       "    }\n",
       "\n",
       "    .dataframe tbody tr th {\n",
       "        vertical-align: top;\n",
       "    }\n",
       "\n",
       "    .dataframe thead th {\n",
       "        text-align: right;\n",
       "    }\n",
       "</style>\n",
       "<table border=\"1\" class=\"dataframe\">\n",
       "  <thead>\n",
       "    <tr style=\"text-align: right;\">\n",
       "      <th></th>\n",
       "      <th>번호</th>\n",
       "      <th>지역</th>\n",
       "      <th>지역2</th>\n",
       "      <th>상표_2018</th>\n",
       "      <th>셀프여부</th>\n",
       "      <th>휘발유_2018</th>\n",
       "      <th>상표_2019</th>\n",
       "      <th>휘발유_2019</th>\n",
       "      <th>상표_2020</th>\n",
       "      <th>휘발유_2020</th>\n",
       "      <th>상표_2021</th>\n",
       "      <th>휘발유_2021</th>\n",
       "    </tr>\n",
       "  </thead>\n",
       "  <tbody>\n",
       "    <tr>\n",
       "      <th>0</th>\n",
       "      <td>A0000004</td>\n",
       "      <td>경기 광명시</td>\n",
       "      <td>경기</td>\n",
       "      <td>GS칼텍스</td>\n",
       "      <td>일반</td>\n",
       "      <td>1599.0</td>\n",
       "      <td>GS칼텍스</td>\n",
       "      <td>1529.000000</td>\n",
       "      <td>GS칼텍스</td>\n",
       "      <td>1289.714286</td>\n",
       "      <td>GS칼텍스</td>\n",
       "      <td>1545.857143</td>\n",
       "    </tr>\n",
       "    <tr>\n",
       "      <th>1</th>\n",
       "      <td>A0000011</td>\n",
       "      <td>서울 양천구</td>\n",
       "      <td>서울</td>\n",
       "      <td>GS칼텍스</td>\n",
       "      <td>일반</td>\n",
       "      <td>1594.0</td>\n",
       "      <td>GS칼텍스</td>\n",
       "      <td>1524.000000</td>\n",
       "      <td>GS칼텍스</td>\n",
       "      <td>1283.571429</td>\n",
       "      <td>GS칼텍스</td>\n",
       "      <td>1542.428571</td>\n",
       "    </tr>\n",
       "    <tr>\n",
       "      <th>2</th>\n",
       "      <td>A0000012</td>\n",
       "      <td>경기 용인시</td>\n",
       "      <td>경기</td>\n",
       "      <td>GS칼텍스</td>\n",
       "      <td>일반</td>\n",
       "      <td>1594.0</td>\n",
       "      <td>GS칼텍스</td>\n",
       "      <td>1529.000000</td>\n",
       "      <td>GS칼텍스</td>\n",
       "      <td>1287.285714</td>\n",
       "      <td>GS칼텍스</td>\n",
       "      <td>1552.142857</td>\n",
       "    </tr>\n",
       "    <tr>\n",
       "      <th>3</th>\n",
       "      <td>A0000014</td>\n",
       "      <td>강원 인제군</td>\n",
       "      <td>강원</td>\n",
       "      <td>GS칼텍스</td>\n",
       "      <td>일반</td>\n",
       "      <td>1609.0</td>\n",
       "      <td>GS칼텍스</td>\n",
       "      <td>1549.000000</td>\n",
       "      <td>GS칼텍스</td>\n",
       "      <td>1314.000000</td>\n",
       "      <td>GS칼텍스</td>\n",
       "      <td>1575.000000</td>\n",
       "    </tr>\n",
       "    <tr>\n",
       "      <th>4</th>\n",
       "      <td>A0000015</td>\n",
       "      <td>서울 송파구</td>\n",
       "      <td>서울</td>\n",
       "      <td>현대오일뱅크</td>\n",
       "      <td>셀프</td>\n",
       "      <td>1589.0</td>\n",
       "      <td>현대오일뱅크</td>\n",
       "      <td>1512.428571</td>\n",
       "      <td>현대오일뱅크</td>\n",
       "      <td>1289.285714</td>\n",
       "      <td>현대오일뱅크</td>\n",
       "      <td>1575.714286</td>\n",
       "    </tr>\n",
       "  </tbody>\n",
       "</table>\n",
       "</div>"
      ],
      "text/plain": [
       "         번호      지역 지역2 상표_2018 셀프여부  휘발유_2018 상표_2019     휘발유_2019 상표_2020  \\\n",
       "0  A0000004  경기 광명시  경기   GS칼텍스   일반    1599.0   GS칼텍스  1529.000000   GS칼텍스   \n",
       "1  A0000011  서울 양천구  서울   GS칼텍스   일반    1594.0   GS칼텍스  1524.000000   GS칼텍스   \n",
       "2  A0000012  경기 용인시  경기   GS칼텍스   일반    1594.0   GS칼텍스  1529.000000   GS칼텍스   \n",
       "3  A0000014  강원 인제군  강원   GS칼텍스   일반    1609.0   GS칼텍스  1549.000000   GS칼텍스   \n",
       "4  A0000015  서울 송파구  서울  현대오일뱅크   셀프    1589.0  현대오일뱅크  1512.428571  현대오일뱅크   \n",
       "\n",
       "      휘발유_2020 상표_2021     휘발유_2021  \n",
       "0  1289.714286   GS칼텍스  1545.857143  \n",
       "1  1283.571429   GS칼텍스  1542.428571  \n",
       "2  1287.285714   GS칼텍스  1552.142857  \n",
       "3  1314.000000   GS칼텍스  1575.000000  \n",
       "4  1289.285714  현대오일뱅크  1575.714286  "
      ]
     },
     "execution_count": 237,
     "metadata": {},
     "output_type": "execute_result"
    }
   ],
   "source": [
    "m.head()"
   ]
  },
  {
   "cell_type": "code",
   "execution_count": 211,
   "metadata": {},
   "outputs": [
    {
     "data": {
      "text/plain": [
       "번호\n",
       "A0033348    2\n",
       "A0002532    2\n",
       "A0007535    2\n",
       "A0033180    2\n",
       "A0023051    1\n",
       "dtype: int64"
      ]
     },
     "execution_count": 211,
     "metadata": {},
     "output_type": "execute_result"
    }
   ],
   "source": [
    "size = m.groupby('번호').size().sort_values(ascending=False)\n",
    "size.head()"
   ]
  },
  {
   "cell_type": "code",
   "execution_count": 212,
   "metadata": {},
   "outputs": [
    {
     "data": {
      "text/html": [
       "<div>\n",
       "<style scoped>\n",
       "    .dataframe tbody tr th:only-of-type {\n",
       "        vertical-align: middle;\n",
       "    }\n",
       "\n",
       "    .dataframe tbody tr th {\n",
       "        vertical-align: top;\n",
       "    }\n",
       "\n",
       "    .dataframe thead th {\n",
       "        text-align: right;\n",
       "    }\n",
       "</style>\n",
       "<table border=\"1\" class=\"dataframe\">\n",
       "  <thead>\n",
       "    <tr style=\"text-align: right;\">\n",
       "      <th></th>\n",
       "      <th>번호</th>\n",
       "      <th>지역</th>\n",
       "      <th>지역2</th>\n",
       "      <th>상표_2018</th>\n",
       "      <th>셀프여부</th>\n",
       "      <th>휘발유_2018</th>\n",
       "      <th>상표_2019</th>\n",
       "      <th>휘발유_2019</th>\n",
       "      <th>상표_2020</th>\n",
       "      <th>휘발유_2020</th>\n",
       "      <th>상표_2021</th>\n",
       "      <th>휘발유_2021</th>\n",
       "    </tr>\n",
       "  </thead>\n",
       "  <tbody>\n",
       "    <tr>\n",
       "      <th>763</th>\n",
       "      <td>A0002532</td>\n",
       "      <td>경기 수원시</td>\n",
       "      <td>경기</td>\n",
       "      <td>S-OIL</td>\n",
       "      <td>셀프</td>\n",
       "      <td>1601.571429</td>\n",
       "      <td>S-OIL</td>\n",
       "      <td>1511.714286</td>\n",
       "      <td>NaN</td>\n",
       "      <td>NaN</td>\n",
       "      <td>NaN</td>\n",
       "      <td>NaN</td>\n",
       "    </tr>\n",
       "    <tr>\n",
       "      <th>11944</th>\n",
       "      <td>A0002532</td>\n",
       "      <td>경기 용인시</td>\n",
       "      <td>경기</td>\n",
       "      <td>NaN</td>\n",
       "      <td>셀프</td>\n",
       "      <td>NaN</td>\n",
       "      <td>NaN</td>\n",
       "      <td>NaN</td>\n",
       "      <td>S-OIL</td>\n",
       "      <td>1278.285714</td>\n",
       "      <td>S-OIL</td>\n",
       "      <td>1515.857143</td>\n",
       "    </tr>\n",
       "    <tr>\n",
       "      <th>2331</th>\n",
       "      <td>A0007535</td>\n",
       "      <td>경기 수원시</td>\n",
       "      <td>경기</td>\n",
       "      <td>SK에너지</td>\n",
       "      <td>일반</td>\n",
       "      <td>1609.000000</td>\n",
       "      <td>SK에너지</td>\n",
       "      <td>1524.000000</td>\n",
       "      <td>NaN</td>\n",
       "      <td>NaN</td>\n",
       "      <td>NaN</td>\n",
       "      <td>NaN</td>\n",
       "    </tr>\n",
       "    <tr>\n",
       "      <th>11951</th>\n",
       "      <td>A0007535</td>\n",
       "      <td>경기 용인시</td>\n",
       "      <td>경기</td>\n",
       "      <td>NaN</td>\n",
       "      <td>일반</td>\n",
       "      <td>NaN</td>\n",
       "      <td>NaN</td>\n",
       "      <td>NaN</td>\n",
       "      <td>SK에너지</td>\n",
       "      <td>1304.000000</td>\n",
       "      <td>SK에너지</td>\n",
       "      <td>1534.428571</td>\n",
       "    </tr>\n",
       "    <tr>\n",
       "      <th>11551</th>\n",
       "      <td>A0033180</td>\n",
       "      <td>경북 구미시</td>\n",
       "      <td>경북</td>\n",
       "      <td>SK에너지</td>\n",
       "      <td>일반</td>\n",
       "      <td>1590.571429</td>\n",
       "      <td>SK에너지</td>\n",
       "      <td>1511.142857</td>\n",
       "      <td>NaN</td>\n",
       "      <td>NaN</td>\n",
       "      <td>NaN</td>\n",
       "      <td>NaN</td>\n",
       "    </tr>\n",
       "    <tr>\n",
       "      <th>12008</th>\n",
       "      <td>A0033180</td>\n",
       "      <td>경북 의성군</td>\n",
       "      <td>경북</td>\n",
       "      <td>NaN</td>\n",
       "      <td>일반</td>\n",
       "      <td>NaN</td>\n",
       "      <td>NaN</td>\n",
       "      <td>NaN</td>\n",
       "      <td>SK에너지</td>\n",
       "      <td>1225.428571</td>\n",
       "      <td>SK에너지</td>\n",
       "      <td>1526.428571</td>\n",
       "    </tr>\n",
       "    <tr>\n",
       "      <th>11918</th>\n",
       "      <td>A0033348</td>\n",
       "      <td>강원 강릉시</td>\n",
       "      <td>강원</td>\n",
       "      <td>NaN</td>\n",
       "      <td>일반</td>\n",
       "      <td>NaN</td>\n",
       "      <td>NH-OIL</td>\n",
       "      <td>1500.000000</td>\n",
       "      <td>NaN</td>\n",
       "      <td>NaN</td>\n",
       "      <td>NaN</td>\n",
       "      <td>NaN</td>\n",
       "    </tr>\n",
       "    <tr>\n",
       "      <th>12011</th>\n",
       "      <td>A0033348</td>\n",
       "      <td>강원 삼척시</td>\n",
       "      <td>강원</td>\n",
       "      <td>NaN</td>\n",
       "      <td>일반</td>\n",
       "      <td>NaN</td>\n",
       "      <td>NaN</td>\n",
       "      <td>NaN</td>\n",
       "      <td>NH-OIL</td>\n",
       "      <td>1250.000000</td>\n",
       "      <td>NH-OIL</td>\n",
       "      <td>1540.000000</td>\n",
       "    </tr>\n",
       "  </tbody>\n",
       "</table>\n",
       "</div>"
      ],
      "text/plain": [
       "             번호      지역 지역2 상표_2018 셀프여부     휘발유_2018 상표_2019     휘발유_2019  \\\n",
       "763    A0002532  경기 수원시  경기   S-OIL   셀프  1601.571429   S-OIL  1511.714286   \n",
       "11944  A0002532  경기 용인시  경기     NaN   셀프          NaN     NaN          NaN   \n",
       "2331   A0007535  경기 수원시  경기   SK에너지   일반  1609.000000   SK에너지  1524.000000   \n",
       "11951  A0007535  경기 용인시  경기     NaN   일반          NaN     NaN          NaN   \n",
       "11551  A0033180  경북 구미시  경북   SK에너지   일반  1590.571429   SK에너지  1511.142857   \n",
       "12008  A0033180  경북 의성군  경북     NaN   일반          NaN     NaN          NaN   \n",
       "11918  A0033348  강원 강릉시  강원     NaN   일반          NaN  NH-OIL  1500.000000   \n",
       "12011  A0033348  강원 삼척시  강원     NaN   일반          NaN     NaN          NaN   \n",
       "\n",
       "      상표_2020     휘발유_2020 상표_2021     휘발유_2021  \n",
       "763       NaN          NaN     NaN          NaN  \n",
       "11944   S-OIL  1278.285714   S-OIL  1515.857143  \n",
       "2331      NaN          NaN     NaN          NaN  \n",
       "11951   SK에너지  1304.000000   SK에너지  1534.428571  \n",
       "11551     NaN          NaN     NaN          NaN  \n",
       "12008   SK에너지  1225.428571   SK에너지  1526.428571  \n",
       "11918     NaN          NaN     NaN          NaN  \n",
       "12011  NH-OIL  1250.000000  NH-OIL  1540.000000  "
      ]
     },
     "execution_count": 212,
     "metadata": {},
     "output_type": "execute_result"
    }
   ],
   "source": [
    "target = size[size>1].index\n",
    "m.loc[m['번호'].isin(target)].sort_values('번호')"
   ]
  },
  {
   "cell_type": "code",
   "execution_count": 213,
   "metadata": {},
   "outputs": [
    {
     "data": {
      "text/plain": [
       "번호\n",
       "A0000004    1\n",
       "A0023144    1\n",
       "A0023125    1\n",
       "A0023126    1\n",
       "A0023127    1\n",
       "dtype: int64"
      ]
     },
     "execution_count": 213,
     "metadata": {},
     "output_type": "execute_result"
    }
   ],
   "source": [
    "m = m.loc[~m['번호'].isin(target)]\n",
    "m.groupby('번호').size().sort_values(ascending=False).head()"
   ]
  },
  {
   "cell_type": "code",
   "execution_count": 214,
   "metadata": {},
   "outputs": [],
   "source": [
    "# 이상치 발견되었던 주유소 필터링\n",
    "m = m.loc[[x not in out_all for x in m['번호']]]"
   ]
  },
  {
   "cell_type": "code",
   "execution_count": 215,
   "metadata": {},
   "outputs": [
    {
     "data": {
      "text/html": [
       "<div>\n",
       "<style scoped>\n",
       "    .dataframe tbody tr th:only-of-type {\n",
       "        vertical-align: middle;\n",
       "    }\n",
       "\n",
       "    .dataframe tbody tr th {\n",
       "        vertical-align: top;\n",
       "    }\n",
       "\n",
       "    .dataframe thead th {\n",
       "        text-align: right;\n",
       "    }\n",
       "</style>\n",
       "<table border=\"1\" class=\"dataframe\">\n",
       "  <thead>\n",
       "    <tr style=\"text-align: right;\">\n",
       "      <th></th>\n",
       "      <th>번호</th>\n",
       "      <th>지역</th>\n",
       "      <th>지역2</th>\n",
       "      <th>상표_2018</th>\n",
       "      <th>셀프여부</th>\n",
       "      <th>휘발유_2018</th>\n",
       "      <th>상표_2019</th>\n",
       "      <th>휘발유_2019</th>\n",
       "      <th>상표_2020</th>\n",
       "      <th>휘발유_2020</th>\n",
       "      <th>상표_2021</th>\n",
       "      <th>휘발유_2021</th>\n",
       "    </tr>\n",
       "  </thead>\n",
       "  <tbody>\n",
       "    <tr>\n",
       "      <th>0</th>\n",
       "      <td>A0000004</td>\n",
       "      <td>경기 광명시</td>\n",
       "      <td>경기</td>\n",
       "      <td>GS칼텍스</td>\n",
       "      <td>일반</td>\n",
       "      <td>1599.0</td>\n",
       "      <td>GS칼텍스</td>\n",
       "      <td>1529.000000</td>\n",
       "      <td>GS칼텍스</td>\n",
       "      <td>1289.714286</td>\n",
       "      <td>GS칼텍스</td>\n",
       "      <td>1545.857143</td>\n",
       "    </tr>\n",
       "    <tr>\n",
       "      <th>1</th>\n",
       "      <td>A0000011</td>\n",
       "      <td>서울 양천구</td>\n",
       "      <td>서울</td>\n",
       "      <td>GS칼텍스</td>\n",
       "      <td>일반</td>\n",
       "      <td>1594.0</td>\n",
       "      <td>GS칼텍스</td>\n",
       "      <td>1524.000000</td>\n",
       "      <td>GS칼텍스</td>\n",
       "      <td>1283.571429</td>\n",
       "      <td>GS칼텍스</td>\n",
       "      <td>1542.428571</td>\n",
       "    </tr>\n",
       "    <tr>\n",
       "      <th>2</th>\n",
       "      <td>A0000012</td>\n",
       "      <td>경기 용인시</td>\n",
       "      <td>경기</td>\n",
       "      <td>GS칼텍스</td>\n",
       "      <td>일반</td>\n",
       "      <td>1594.0</td>\n",
       "      <td>GS칼텍스</td>\n",
       "      <td>1529.000000</td>\n",
       "      <td>GS칼텍스</td>\n",
       "      <td>1287.285714</td>\n",
       "      <td>GS칼텍스</td>\n",
       "      <td>1552.142857</td>\n",
       "    </tr>\n",
       "    <tr>\n",
       "      <th>3</th>\n",
       "      <td>A0000014</td>\n",
       "      <td>강원 인제군</td>\n",
       "      <td>강원</td>\n",
       "      <td>GS칼텍스</td>\n",
       "      <td>일반</td>\n",
       "      <td>1609.0</td>\n",
       "      <td>GS칼텍스</td>\n",
       "      <td>1549.000000</td>\n",
       "      <td>GS칼텍스</td>\n",
       "      <td>1314.000000</td>\n",
       "      <td>GS칼텍스</td>\n",
       "      <td>1575.000000</td>\n",
       "    </tr>\n",
       "    <tr>\n",
       "      <th>4</th>\n",
       "      <td>A0000015</td>\n",
       "      <td>서울 송파구</td>\n",
       "      <td>서울</td>\n",
       "      <td>현대오일뱅크</td>\n",
       "      <td>셀프</td>\n",
       "      <td>1589.0</td>\n",
       "      <td>현대오일뱅크</td>\n",
       "      <td>1512.428571</td>\n",
       "      <td>현대오일뱅크</td>\n",
       "      <td>1289.285714</td>\n",
       "      <td>현대오일뱅크</td>\n",
       "      <td>1575.714286</td>\n",
       "    </tr>\n",
       "  </tbody>\n",
       "</table>\n",
       "</div>"
      ],
      "text/plain": [
       "         번호      지역 지역2 상표_2018 셀프여부  휘발유_2018 상표_2019     휘발유_2019 상표_2020  \\\n",
       "0  A0000004  경기 광명시  경기   GS칼텍스   일반    1599.0   GS칼텍스  1529.000000   GS칼텍스   \n",
       "1  A0000011  서울 양천구  서울   GS칼텍스   일반    1594.0   GS칼텍스  1524.000000   GS칼텍스   \n",
       "2  A0000012  경기 용인시  경기   GS칼텍스   일반    1594.0   GS칼텍스  1529.000000   GS칼텍스   \n",
       "3  A0000014  강원 인제군  강원   GS칼텍스   일반    1609.0   GS칼텍스  1549.000000   GS칼텍스   \n",
       "4  A0000015  서울 송파구  서울  현대오일뱅크   셀프    1589.0  현대오일뱅크  1512.428571  현대오일뱅크   \n",
       "\n",
       "      휘발유_2020 상표_2021     휘발유_2021  \n",
       "0  1289.714286   GS칼텍스  1545.857143  \n",
       "1  1283.571429   GS칼텍스  1542.428571  \n",
       "2  1287.285714   GS칼텍스  1552.142857  \n",
       "3  1314.000000   GS칼텍스  1575.000000  \n",
       "4  1289.285714  현대오일뱅크  1575.714286  "
      ]
     },
     "execution_count": 215,
     "metadata": {},
     "output_type": "execute_result"
    }
   ],
   "source": [
    "m.head()"
   ]
  },
  {
   "cell_type": "markdown",
   "metadata": {},
   "source": [
    "---"
   ]
  },
  {
   "cell_type": "markdown",
   "metadata": {},
   "source": [
    "## 2. 주유소 개폐업 현황 분석: 연도별 주유소 ID 비교를 통한 개폐업 현황 분석\n"
   ]
  },
  {
   "cell_type": "markdown",
   "metadata": {},
   "source": [
    "### 2.1. 연도별 개폐업 수치 분석"
   ]
  },
  {
   "cell_type": "code",
   "execution_count": 238,
   "metadata": {},
   "outputs": [],
   "source": [
    "id_dict=dict()\n",
    "for year in range(2018,2022):\n",
    "    id_dict[year] = set(m.loc[~m[f'상표_{year}'].isna()]['번호'].unique())"
   ]
  },
  {
   "cell_type": "code",
   "execution_count": 239,
   "metadata": {},
   "outputs": [],
   "source": [
    "diff_dict=dict()\n",
    "for year in range(2018,2021):\n",
    "    opened = len(id_dict[year+1].difference(id_dict[year]))\n",
    "    closed = len(id_dict[year].difference(id_dict[year+1]))\n",
    "    diff_dict[f'{year}_{year+1}']=[opened,closed]\n",
    "diff_df = pd.DataFrame(diff_dict,index=['OPENED','CLOSED'])  "
   ]
  },
  {
   "cell_type": "code",
   "execution_count": 240,
   "metadata": {},
   "outputs": [
    {
     "data": {
      "text/html": [
       "<div>\n",
       "<style scoped>\n",
       "    .dataframe tbody tr th:only-of-type {\n",
       "        vertical-align: middle;\n",
       "    }\n",
       "\n",
       "    .dataframe tbody tr th {\n",
       "        vertical-align: top;\n",
       "    }\n",
       "\n",
       "    .dataframe thead th {\n",
       "        text-align: right;\n",
       "    }\n",
       "</style>\n",
       "<table border=\"1\" class=\"dataframe\">\n",
       "  <thead>\n",
       "    <tr style=\"text-align: right;\">\n",
       "      <th></th>\n",
       "      <th>2018_2019</th>\n",
       "      <th>2019_2020</th>\n",
       "      <th>2020_2021</th>\n",
       "    </tr>\n",
       "  </thead>\n",
       "  <tbody>\n",
       "    <tr>\n",
       "      <th>OPENED</th>\n",
       "      <td>301</td>\n",
       "      <td>293</td>\n",
       "      <td>246</td>\n",
       "    </tr>\n",
       "    <tr>\n",
       "      <th>CLOSED</th>\n",
       "      <td>469</td>\n",
       "      <td>374</td>\n",
       "      <td>409</td>\n",
       "    </tr>\n",
       "  </tbody>\n",
       "</table>\n",
       "</div>"
      ],
      "text/plain": [
       "        2018_2019  2019_2020  2020_2021\n",
       "OPENED        301        293        246\n",
       "CLOSED        469        374        409"
      ]
     },
     "execution_count": 240,
     "metadata": {},
     "output_type": "execute_result"
    }
   ],
   "source": [
    "diff_df"
   ]
  },
  {
   "cell_type": "code",
   "execution_count": 243,
   "metadata": {},
   "outputs": [
    {
     "data": {
      "text/plain": [
       "<AxesSubplot:>"
      ]
     },
     "execution_count": 243,
     "metadata": {},
     "output_type": "execute_result"
    },
    {
     "data": {
      "image/png": "[encoded data removed]",
      "text/plain": [
       "<Figure size 432x288 with 1 Axes>"
      ]
     },
     "metadata": {},
     "output_type": "display_data"
    }
   ],
   "source": [
    "diff_df.plot()"
   ]
  },
  {
   "cell_type": "code",
   "execution_count": 244,
   "metadata": {},
   "outputs": [
    {
     "data": {
      "text/plain": [
       "<AxesSubplot:>"
      ]
     },
     "execution_count": 244,
     "metadata": {},
     "output_type": "execute_result"
    },
    {
     "data": {
      "image/png": "[encoded data removed]",
      "text/plain": [
       "<Figure size 432x288 with 1 Axes>"
      ]
     },
     "metadata": {},
     "output_type": "display_data"
    }
   ],
   "source": [
    "diff_df.T.plot(color=['r','b'])"
   ]
  },
  {
   "cell_type": "markdown",
   "metadata": {},
   "source": [
    "#### 퀴즈 1. 2020년에 신규 개업한 셀프 주유소의 개수를 구하시오."
   ]
  },
  {
   "cell_type": "code",
   "execution_count": 245,
   "metadata": {},
   "outputs": [
    {
     "data": {
      "text/html": [
       "<div>\n",
       "<style scoped>\n",
       "    .dataframe tbody tr th:only-of-type {\n",
       "        vertical-align: middle;\n",
       "    }\n",
       "\n",
       "    .dataframe tbody tr th {\n",
       "        vertical-align: top;\n",
       "    }\n",
       "\n",
       "    .dataframe thead th {\n",
       "        text-align: right;\n",
       "    }\n",
       "</style>\n",
       "<table border=\"1\" class=\"dataframe\">\n",
       "  <thead>\n",
       "    <tr style=\"text-align: right;\">\n",
       "      <th></th>\n",
       "      <th>2018_2019</th>\n",
       "      <th>2019_2020</th>\n",
       "      <th>2020_2021</th>\n",
       "    </tr>\n",
       "  </thead>\n",
       "  <tbody>\n",
       "    <tr>\n",
       "      <th>OPENED</th>\n",
       "      <td>189</td>\n",
       "      <td>182</td>\n",
       "      <td>147</td>\n",
       "    </tr>\n",
       "    <tr>\n",
       "      <th>CLOSED</th>\n",
       "      <td>148</td>\n",
       "      <td>127</td>\n",
       "      <td>154</td>\n",
       "    </tr>\n",
       "  </tbody>\n",
       "</table>\n",
       "</div>"
      ],
      "text/plain": [
       "        2018_2019  2019_2020  2020_2021\n",
       "OPENED        189        182        147\n",
       "CLOSED        148        127        154"
      ]
     },
     "execution_count": 245,
     "metadata": {},
     "output_type": "execute_result"
    }
   ],
   "source": [
    "id_dict=dict()\n",
    "for year in range(2018,2022):\n",
    "    id_dict[year] = set(m.loc[(~m[f'상표_{year}'].isna())&(m['셀프여부']=='셀프')]['번호'].unique())\n",
    "diff_dict=dict()\n",
    "for year in range(2018,2021):\n",
    "    opened = len(id_dict[year+1].difference(id_dict[year]))\n",
    "    closed = len(id_dict[year].difference(id_dict[year+1]))\n",
    "    diff_dict[f'{year}_{year+1}']=[opened,closed]\n",
    "diff_df = pd.DataFrame(diff_dict,index=['OPENED','CLOSED'])    \n",
    "diff_df"
   ]
  },
  {
   "cell_type": "code",
   "execution_count": 246,
   "metadata": {},
   "outputs": [],
   "source": [
    "#  2020년에 신규 개업한 셀프 주유소의 개수를 구하여 quiz_1 변수에 저장합니다.\n",
    "# 숫자형으로 저장합니다.\n",
    "quiz_1 = None"
   ]
  },
  {
   "cell_type": "markdown",
   "metadata": {},
   "source": [
    "---"
   ]
  },
  {
   "cell_type": "markdown",
   "metadata": {},
   "source": [
    "## 3. 브랜드 분석: 브랜드별 가격경쟁력 및 시장점유율 분석\n"
   ]
  },
  {
   "cell_type": "markdown",
   "metadata": {},
   "source": [
    "### 3.1. 주요 브랜드별 가격 Line Plot 분석"
   ]
  },
  {
   "cell_type": "code",
   "execution_count": 247,
   "metadata": {},
   "outputs": [],
   "source": [
    "brand_price_dict=dict()\n",
    "for year in range(2018,2022):\n",
    "    brand_price_dict[str(year)]=m.groupby(f'상표_{year}')[f'휘발유_{year}'].mean()"
   ]
  },
  {
   "cell_type": "code",
   "execution_count": 248,
   "metadata": {},
   "outputs": [
    {
     "data": {
      "text/html": [
       "<div>\n",
       "<style scoped>\n",
       "    .dataframe tbody tr th:only-of-type {\n",
       "        vertical-align: middle;\n",
       "    }\n",
       "\n",
       "    .dataframe tbody tr th {\n",
       "        vertical-align: top;\n",
       "    }\n",
       "\n",
       "    .dataframe thead th {\n",
       "        text-align: right;\n",
       "    }\n",
       "</style>\n",
       "<table border=\"1\" class=\"dataframe\">\n",
       "  <thead>\n",
       "    <tr style=\"text-align: right;\">\n",
       "      <th></th>\n",
       "      <th>2018</th>\n",
       "      <th>2019</th>\n",
       "      <th>2020</th>\n",
       "      <th>2021</th>\n",
       "    </tr>\n",
       "  </thead>\n",
       "  <tbody>\n",
       "    <tr>\n",
       "      <th>GS칼텍스</th>\n",
       "      <td>1613.219725</td>\n",
       "      <td>1541.010792</td>\n",
       "      <td>1293.482263</td>\n",
       "      <td>1565.812879</td>\n",
       "    </tr>\n",
       "    <tr>\n",
       "      <th>NC오일</th>\n",
       "      <td>1582.178571</td>\n",
       "      <td>1499.959184</td>\n",
       "      <td>1256.357143</td>\n",
       "      <td>1542.619048</td>\n",
       "    </tr>\n",
       "    <tr>\n",
       "      <th>NH-OIL</th>\n",
       "      <td>1588.411114</td>\n",
       "      <td>1515.969900</td>\n",
       "      <td>1246.260271</td>\n",
       "      <td>1541.555405</td>\n",
       "    </tr>\n",
       "    <tr>\n",
       "      <th>S-OIL</th>\n",
       "      <td>1602.446666</td>\n",
       "      <td>1529.861556</td>\n",
       "      <td>1282.027239</td>\n",
       "      <td>1556.341659</td>\n",
       "    </tr>\n",
       "    <tr>\n",
       "      <th>SK가스</th>\n",
       "      <td>NaN</td>\n",
       "      <td>1488.000000</td>\n",
       "      <td>NaN</td>\n",
       "      <td>NaN</td>\n",
       "    </tr>\n",
       "    <tr>\n",
       "      <th>SK에너지</th>\n",
       "      <td>1625.905319</td>\n",
       "      <td>1548.060857</td>\n",
       "      <td>1293.798193</td>\n",
       "      <td>1565.489302</td>\n",
       "    </tr>\n",
       "    <tr>\n",
       "      <th>알뜰(ex)</th>\n",
       "      <td>1581.561576</td>\n",
       "      <td>1494.770733</td>\n",
       "      <td>1213.862668</td>\n",
       "      <td>1503.712733</td>\n",
       "    </tr>\n",
       "    <tr>\n",
       "      <th>알뜰주유소</th>\n",
       "      <td>1580.998449</td>\n",
       "      <td>1501.828792</td>\n",
       "      <td>1243.560574</td>\n",
       "      <td>1528.261848</td>\n",
       "    </tr>\n",
       "    <tr>\n",
       "      <th>자가상표</th>\n",
       "      <td>1591.675824</td>\n",
       "      <td>1520.151211</td>\n",
       "      <td>1267.698413</td>\n",
       "      <td>1541.880952</td>\n",
       "    </tr>\n",
       "    <tr>\n",
       "      <th>현대오일뱅크</th>\n",
       "      <td>1600.756774</td>\n",
       "      <td>1528.852620</td>\n",
       "      <td>1284.359599</td>\n",
       "      <td>1559.717130</td>\n",
       "    </tr>\n",
       "  </tbody>\n",
       "</table>\n",
       "</div>"
      ],
      "text/plain": [
       "               2018         2019         2020         2021\n",
       "GS칼텍스   1613.219725  1541.010792  1293.482263  1565.812879\n",
       "NC오일    1582.178571  1499.959184  1256.357143  1542.619048\n",
       "NH-OIL  1588.411114  1515.969900  1246.260271  1541.555405\n",
       "S-OIL   1602.446666  1529.861556  1282.027239  1556.341659\n",
       "SK가스            NaN  1488.000000          NaN          NaN\n",
       "SK에너지   1625.905319  1548.060857  1293.798193  1565.489302\n",
       "알뜰(ex)  1581.561576  1494.770733  1213.862668  1503.712733\n",
       "알뜰주유소   1580.998449  1501.828792  1243.560574  1528.261848\n",
       "자가상표    1591.675824  1520.151211  1267.698413  1541.880952\n",
       "현대오일뱅크  1600.756774  1528.852620  1284.359599  1559.717130"
      ]
     },
     "execution_count": 248,
     "metadata": {},
     "output_type": "execute_result"
    }
   ],
   "source": [
    "brand_price_df = pd.DataFrame(brand_price_dict)\n",
    "brand_price_df"
   ]
  },
  {
   "cell_type": "code",
   "execution_count": 249,
   "metadata": {},
   "outputs": [
    {
     "data": {
      "text/plain": [
       "<AxesSubplot:>"
      ]
     },
     "execution_count": 249,
     "metadata": {},
     "output_type": "execute_result"
    },
    {
     "data": {
      "image/png": "[encoded data removed]",
      "text/plain": [
       "<Figure size 720x360 with 1 Axes>"
      ]
     },
     "metadata": {},
     "output_type": "display_data"
    }
   ],
   "source": [
    "brand_price_df = brand_price_df.drop('SK가스')\n",
    "brand_price_df.T.plot(figsize=(10,5))"
   ]
  },
  {
   "cell_type": "markdown",
   "metadata": {},
   "source": [
    "### 3.2. 주요 브랜드별 지난 4년간 시장 점유율 Stacked Bar Plot 및 Heatmap"
   ]
  },
  {
   "cell_type": "code",
   "execution_count": 250,
   "metadata": {},
   "outputs": [],
   "source": [
    "brand_share_dict=dict()\n",
    "for year in range(2018,2022):\n",
    "    brand_share_dict[str(year)]=m.groupby(f'상표_{year}').size()"
   ]
  },
  {
   "cell_type": "code",
   "execution_count": 251,
   "metadata": {},
   "outputs": [
    {
     "data": {
      "text/html": [
       "<div>\n",
       "<style scoped>\n",
       "    .dataframe tbody tr th:only-of-type {\n",
       "        vertical-align: middle;\n",
       "    }\n",
       "\n",
       "    .dataframe tbody tr th {\n",
       "        vertical-align: top;\n",
       "    }\n",
       "\n",
       "    .dataframe thead th {\n",
       "        text-align: right;\n",
       "    }\n",
       "</style>\n",
       "<table border=\"1\" class=\"dataframe\">\n",
       "  <thead>\n",
       "    <tr style=\"text-align: right;\">\n",
       "      <th></th>\n",
       "      <th>2018</th>\n",
       "      <th>2019</th>\n",
       "      <th>2020</th>\n",
       "      <th>2021</th>\n",
       "    </tr>\n",
       "  </thead>\n",
       "  <tbody>\n",
       "    <tr>\n",
       "      <th>GS칼텍스</th>\n",
       "      <td>2438.0</td>\n",
       "      <td>2396</td>\n",
       "      <td>2343.0</td>\n",
       "      <td>2299.0</td>\n",
       "    </tr>\n",
       "    <tr>\n",
       "      <th>NC오일</th>\n",
       "      <td>8.0</td>\n",
       "      <td>7</td>\n",
       "      <td>4.0</td>\n",
       "      <td>3.0</td>\n",
       "    </tr>\n",
       "    <tr>\n",
       "      <th>NH-OIL</th>\n",
       "      <td>581.0</td>\n",
       "      <td>598</td>\n",
       "      <td>612.0</td>\n",
       "      <td>633.0</td>\n",
       "    </tr>\n",
       "    <tr>\n",
       "      <th>S-OIL</th>\n",
       "      <td>2108.0</td>\n",
       "      <td>2104</td>\n",
       "      <td>2145.0</td>\n",
       "      <td>2132.0</td>\n",
       "    </tr>\n",
       "    <tr>\n",
       "      <th>SK가스</th>\n",
       "      <td>NaN</td>\n",
       "      <td>1</td>\n",
       "      <td>NaN</td>\n",
       "      <td>NaN</td>\n",
       "    </tr>\n",
       "    <tr>\n",
       "      <th>SK에너지</th>\n",
       "      <td>3505.0</td>\n",
       "      <td>3414</td>\n",
       "      <td>3088.0</td>\n",
       "      <td>3008.0</td>\n",
       "    </tr>\n",
       "    <tr>\n",
       "      <th>알뜰(ex)</th>\n",
       "      <td>174.0</td>\n",
       "      <td>178</td>\n",
       "      <td>181.0</td>\n",
       "      <td>184.0</td>\n",
       "    </tr>\n",
       "    <tr>\n",
       "      <th>알뜰주유소</th>\n",
       "      <td>399.0</td>\n",
       "      <td>388</td>\n",
       "      <td>408.0</td>\n",
       "      <td>419.0</td>\n",
       "    </tr>\n",
       "    <tr>\n",
       "      <th>자가상표</th>\n",
       "      <td>208.0</td>\n",
       "      <td>171</td>\n",
       "      <td>153.0</td>\n",
       "      <td>138.0</td>\n",
       "    </tr>\n",
       "    <tr>\n",
       "      <th>현대오일뱅크</th>\n",
       "      <td>2218.0</td>\n",
       "      <td>2214</td>\n",
       "      <td>2456.0</td>\n",
       "      <td>2411.0</td>\n",
       "    </tr>\n",
       "  </tbody>\n",
       "</table>\n",
       "</div>"
      ],
      "text/plain": [
       "          2018  2019    2020    2021\n",
       "GS칼텍스   2438.0  2396  2343.0  2299.0\n",
       "NC오일       8.0     7     4.0     3.0\n",
       "NH-OIL   581.0   598   612.0   633.0\n",
       "S-OIL   2108.0  2104  2145.0  2132.0\n",
       "SK가스       NaN     1     NaN     NaN\n",
       "SK에너지   3505.0  3414  3088.0  3008.0\n",
       "알뜰(ex)   174.0   178   181.0   184.0\n",
       "알뜰주유소    399.0   388   408.0   419.0\n",
       "자가상표     208.0   171   153.0   138.0\n",
       "현대오일뱅크  2218.0  2214  2456.0  2411.0"
      ]
     },
     "execution_count": 251,
     "metadata": {},
     "output_type": "execute_result"
    }
   ],
   "source": [
    "brand_share_df = pd.DataFrame(brand_share_dict)\n",
    "brand_share_df"
   ]
  },
  {
   "cell_type": "code",
   "execution_count": 252,
   "metadata": {},
   "outputs": [],
   "source": [
    "brand_share_df = brand_share_df.drop('SK가스')\n",
    "brand_ratio_df = brand_share_df.apply(lambda x:x/brand_share_df.sum(),axis=1)\n",
    "brand_ratio_df = brand_ratio_df.sort_values('2018',ascending=False)"
   ]
  },
  {
   "cell_type": "code",
   "execution_count": 253,
   "metadata": {},
   "outputs": [
    {
     "data": {
      "text/html": [
       "<div>\n",
       "<style scoped>\n",
       "    .dataframe tbody tr th:only-of-type {\n",
       "        vertical-align: middle;\n",
       "    }\n",
       "\n",
       "    .dataframe tbody tr th {\n",
       "        vertical-align: top;\n",
       "    }\n",
       "\n",
       "    .dataframe thead th {\n",
       "        text-align: right;\n",
       "    }\n",
       "</style>\n",
       "<table border=\"1\" class=\"dataframe\">\n",
       "  <thead>\n",
       "    <tr style=\"text-align: right;\">\n",
       "      <th></th>\n",
       "      <th>2018</th>\n",
       "      <th>2019</th>\n",
       "      <th>2020</th>\n",
       "      <th>2021</th>\n",
       "    </tr>\n",
       "  </thead>\n",
       "  <tbody>\n",
       "    <tr>\n",
       "      <th>SK에너지</th>\n",
       "      <td>0.301143</td>\n",
       "      <td>0.297646</td>\n",
       "      <td>0.271115</td>\n",
       "      <td>0.267926</td>\n",
       "    </tr>\n",
       "    <tr>\n",
       "      <th>GS칼텍스</th>\n",
       "      <td>0.209468</td>\n",
       "      <td>0.208893</td>\n",
       "      <td>0.205707</td>\n",
       "      <td>0.204774</td>\n",
       "    </tr>\n",
       "    <tr>\n",
       "      <th>현대오일뱅크</th>\n",
       "      <td>0.190566</td>\n",
       "      <td>0.193025</td>\n",
       "      <td>0.215628</td>\n",
       "      <td>0.214750</td>\n",
       "    </tr>\n",
       "    <tr>\n",
       "      <th>S-OIL</th>\n",
       "      <td>0.181115</td>\n",
       "      <td>0.183435</td>\n",
       "      <td>0.188323</td>\n",
       "      <td>0.189899</td>\n",
       "    </tr>\n",
       "    <tr>\n",
       "      <th>NH-OIL</th>\n",
       "      <td>0.049918</td>\n",
       "      <td>0.052136</td>\n",
       "      <td>0.053731</td>\n",
       "      <td>0.056382</td>\n",
       "    </tr>\n",
       "    <tr>\n",
       "      <th>알뜰주유소</th>\n",
       "      <td>0.034281</td>\n",
       "      <td>0.033827</td>\n",
       "      <td>0.035821</td>\n",
       "      <td>0.037321</td>\n",
       "    </tr>\n",
       "    <tr>\n",
       "      <th>자가상표</th>\n",
       "      <td>0.017871</td>\n",
       "      <td>0.014908</td>\n",
       "      <td>0.013433</td>\n",
       "      <td>0.012292</td>\n",
       "    </tr>\n",
       "    <tr>\n",
       "      <th>알뜰(ex)</th>\n",
       "      <td>0.014950</td>\n",
       "      <td>0.015519</td>\n",
       "      <td>0.015891</td>\n",
       "      <td>0.016389</td>\n",
       "    </tr>\n",
       "    <tr>\n",
       "      <th>NC오일</th>\n",
       "      <td>0.000687</td>\n",
       "      <td>0.000610</td>\n",
       "      <td>0.000351</td>\n",
       "      <td>0.000267</td>\n",
       "    </tr>\n",
       "  </tbody>\n",
       "</table>\n",
       "</div>"
      ],
      "text/plain": [
       "            2018      2019      2020      2021\n",
       "SK에너지   0.301143  0.297646  0.271115  0.267926\n",
       "GS칼텍스   0.209468  0.208893  0.205707  0.204774\n",
       "현대오일뱅크  0.190566  0.193025  0.215628  0.214750\n",
       "S-OIL   0.181115  0.183435  0.188323  0.189899\n",
       "NH-OIL  0.049918  0.052136  0.053731  0.056382\n",
       "알뜰주유소   0.034281  0.033827  0.035821  0.037321\n",
       "자가상표    0.017871  0.014908  0.013433  0.012292\n",
       "알뜰(ex)  0.014950  0.015519  0.015891  0.016389\n",
       "NC오일    0.000687  0.000610  0.000351  0.000267"
      ]
     },
     "execution_count": 253,
     "metadata": {},
     "output_type": "execute_result"
    }
   ],
   "source": [
    "brand_ratio_df"
   ]
  },
  {
   "cell_type": "code",
   "execution_count": 56,
   "metadata": {},
   "outputs": [
    {
     "data": {
      "text/plain": [
       "<matplotlib.legend.Legend at 0x7f4ebd0ff730>"
      ]
     },
     "execution_count": 56,
     "metadata": {},
     "output_type": "execute_result"
    },
    {
     "data": {
      "image/png": "[encoded data removed]",
      "text/plain": [
       "<Figure size 720x360 with 1 Axes>"
      ]
     },
     "metadata": {},
     "output_type": "display_data"
    }
   ],
   "source": [
    "brand_ratio_df.T.plot(kind='bar',stacked=True,rot=0,figsize=(10,5))\n",
    "plt.legend(bbox_to_anchor=(1, 1))"
   ]
  },
  {
   "cell_type": "code",
   "execution_count": 258,
   "metadata": {},
   "outputs": [
    {
     "data": {
      "text/plain": [
       "<AxesSubplot:>"
      ]
     },
     "execution_count": 258,
     "metadata": {},
     "output_type": "execute_result"
    },
    {
     "data": {
      "image/png": "[encoded data removed]",
      "text/plain": [
       "<Figure size 432x288 with 2 Axes>"
      ]
     },
     "metadata": {},
     "output_type": "display_data"
    }
   ],
   "source": [
    "sns.heatmap(brand_ratio_df, cmap= 'RdBu_r', linewidths=1, linecolor='black',annot=True)"
   ]
  },
  {
   "cell_type": "code",
   "execution_count": 57,
   "metadata": {},
   "outputs": [
    {
     "data": {
      "text/plain": [
       "<AxesSubplot:>"
      ]
     },
     "execution_count": 57,
     "metadata": {},
     "output_type": "execute_result"
    },
    {
     "data": {
      "image/png": "[encoded data removed]",
      "text/plain": [
       "<Figure size 720x360 with 2 Axes>"
      ]
     },
     "metadata": {},
     "output_type": "display_data"
    }
   ],
   "source": [
    "plt.figure(figsize=(10,5))\n",
    "sns.heatmap(brand_ratio_df, cmap= 'RdBu_r', linewidths=1, linecolor='black',annot=True)"
   ]
  },
  {
   "cell_type": "markdown",
   "metadata": {},
   "source": [
    "#### 퀴즈 2. 2019년 주유소를 셀프 및 일반 주유소로 구분하고 일반 주유소가 차지하는 비율을 구하시오"
   ]
  },
  {
   "cell_type": "code",
   "execution_count": 262,
   "metadata": {},
   "outputs": [
    {
     "data": {
      "text/plain": [
       "셀프여부\n",
       "셀프    0.398745\n",
       "일반    0.601255\n",
       "dtype: float64"
      ]
     },
     "execution_count": 262,
     "metadata": {},
     "output_type": "execute_result"
    }
   ],
   "source": [
    "self_share_dict = m.loc[~m['상표_2019'].isna()].groupby('셀프여부').size()\n",
    "self_ratio_dict = self_share_dict/self_share_dict.sum()\n",
    "self_ratio_dict"
   ]
  },
  {
   "cell_type": "code",
   "execution_count": 263,
   "metadata": {},
   "outputs": [],
   "source": [
    "# 2019년 기준 셀프주유소의 시장 점유율을 quiz_2 변수에 저장합니다.\n",
    "# 비율은 소숫점 둘째자리 까지 반올림하여 숫자형으로 제출합니다.\n",
    "quiz_2 = self_ratio_dict"
   ]
  },
  {
   "cell_type": "markdown",
   "metadata": {},
   "source": [
    "---"
   ]
  },
  {
   "cell_type": "markdown",
   "metadata": {},
   "source": [
    "## 4. **가격 분석:** 주유소 및 지역 별 가격 편차 분석"
   ]
  },
  {
   "cell_type": "markdown",
   "metadata": {},
   "source": [
    "### 4.1. 가격 분포 Boxplot"
   ]
  },
  {
   "cell_type": "code",
   "execution_count": 264,
   "metadata": {},
   "outputs": [
    {
     "data": {
      "text/plain": [
       "<AxesSubplot:xlabel='휘발유_2021'>"
      ]
     },
     "execution_count": 264,
     "metadata": {},
     "output_type": "execute_result"
    },
    {
     "data": {
      "image/png": "[encoded data removed]",
      "text/plain": [
       "<Figure size 432x288 with 1 Axes>"
      ]
     },
     "metadata": {},
     "output_type": "display_data"
    }
   ],
   "source": [
    "sns.boxplot(x=m['휘발유_2021'])"
   ]
  },
  {
   "cell_type": "markdown",
   "metadata": {},
   "source": [
    "- Boxplot 설명:\n",
    "https://towardsdatascience.com/understanding-boxplots-5e2df7bcbd51"
   ]
  },
  {
   "cell_type": "markdown",
   "metadata": {},
   "source": [
    "### 4.2. 지역별 가격 분포 Boxplot (Multiple Columns)"
   ]
  },
  {
   "cell_type": "code",
   "execution_count": 265,
   "metadata": {},
   "outputs": [
    {
     "data": {
      "text/plain": [
       "<AxesSubplot:xlabel='지역2', ylabel='휘발유_2021'>"
      ]
     },
     "execution_count": 265,
     "metadata": {},
     "output_type": "execute_result"
    },
    {
     "data": {
      "image/png": "[encoded data removed]",
      "text/plain": [
       "<Figure size 1080x504 with 1 Axes>"
      ]
     },
     "metadata": {},
     "output_type": "display_data"
    }
   ],
   "source": [
    "boxplot_order = m.groupby('지역2')['휘발유_2021'].median().sort_values(ascending=False).index\n",
    "plt.figure(figsize=(15,7))\n",
    "sns.boxplot(x=\"지역2\", y=\"휘발유_2021\", data=m, orient=\"v\", order=boxplot_order)"
   ]
  },
  {
   "cell_type": "markdown",
   "metadata": {
    "id": "Ox1MnSSlwUB1"
   },
   "source": [
    " ---"
   ]
  },
  {
   "cell_type": "markdown",
   "metadata": {
    "id": "vqQPeXc_wUB7"
   },
   "source": [
    "<span style=\"color:rgb(120, 120, 120)\">본 학습 자료를 포함한 사이트 내 모든 자료의 저작권은 엘리스에 있으며 외부로의 무단 복제, 배포 및 전송을 불허합니다.\n",
    "\n",
    "Copyright @ elice all rights reserved</span>"
   ]
  }
 ],
 "metadata": {
  "colab": {
   "name": "[p1] 코로나 데이터 분석 프로젝트-정답.ipynb",
   "provenance": []
  },
  "kernelspec": {
   "display_name": "Python 3",
   "language": "python",
   "name": "python3"
  },
  "language_info": {
   "codemirror_mode": {
    "name": "ipython",
    "version": 3
   },
   "file_extension": ".py",
   "mimetype": "text/x-python",
   "name": "python",
   "nbconvert_exporter": "python",
   "pygments_lexer": "ipython3",
   "version": "3.8.6"
  },
  "toc": {
   "base_numbering": 1,
   "nav_menu": {},
   "number_sections": false,
   "sideBar": true,
   "skip_h1_title": false,
   "title_cell": "Table of Contents",
   "title_sidebar": "Contents",
   "toc_cell": false,
   "toc_position": {
    "height": "calc(100% - 180px)",
    "left": "10px",
    "top": "150px",
    "width": "307.2px"
   },
   "toc_section_display": true,
   "toc_window_display": true
  }
 },
 "nbformat": 4,
 "nbformat_minor": 1
}
