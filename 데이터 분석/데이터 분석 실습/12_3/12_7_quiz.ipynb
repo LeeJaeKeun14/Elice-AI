{
  "cells": [
    {
      "cell_type": "markdown",
      "metadata": {
        "id": "txvd-2x55oj6"
      },
      "source": [
        "## 1. numpy & pandas 자체 퀴즈"
      ]
    },
    {
      "cell_type": "markdown",
      "metadata": {
        "id": "HBLSSZjk6Gwh"
      },
      "source": [
        "### 1-1. numpy"
      ]
    },
    {
      "cell_type": "code",
      "execution_count": 4,
      "metadata": {
        "id": "-FXqmYj30cKk"
      },
      "outputs": [
        {
          "name": "stdout",
          "output_type": "stream",
          "text": [
            "[ 0  1  2  3  4  5  6  7  8  9 10 11]\n",
            "1\n",
            "(12,)\n"
          ]
        }
      ],
      "source": [
        "import numpy as np\n",
        "import pandas as pd\n",
        "\n",
        "## Numpy.\n",
        "x = np.arange(12)\n",
        "print(x)\n",
        "\n",
        "# 1. x의 차원 수와 shape는 무엇인가\n",
        "print(x.ndim)\n",
        "print(x.shape)"
      ]
    },
    {
      "cell_type": "code",
      "execution_count": 5,
      "metadata": {
        "id": "bBzmCoGd6LGq"
      },
      "outputs": [
        {
          "name": "stdout",
          "output_type": "stream",
          "text": [
            "(2, 6)\n"
          ]
        }
      ],
      "source": [
        "# 2. 행의 크기는 2로 고정 & 열의 크기는 x 원소의 개수에 따라 유동적으로 설정되도록 x를 reshape 하시오. (reshape 함수 사용)\n",
        "x2 = x.reshape(2, -1)\n",
        "print(x2.shape)"
      ]
    },
    {
      "cell_type": "code",
      "execution_count": 6,
      "metadata": {
        "id": "WbBoNwth6LbC"
      },
      "outputs": [
        {
          "name": "stdout",
          "output_type": "stream",
          "text": [
            "(2, 3, 2)\n"
          ]
        }
      ],
      "source": [
        "# 3. x를 (2,3,2)의 배열로 변환 (reshape 사용)\n",
        "x3 = x.reshape(2, 3, 2)\n",
        "print(x3.shape)"
      ]
    },
    {
      "cell_type": "code",
      "execution_count": 35,
      "metadata": {
        "id": "sMtQLUXf6VSu"
      },
      "outputs": [
        {
          "name": "stdout",
          "output_type": "stream",
          "text": [
            "[ 7  9 11]\n"
          ]
        }
      ],
      "source": [
        "# 4. x3의 2개의 (3,2) 행렬 중 두번째 행렬의 두번째 행을 구하세요.\n",
        "print(x3[1, : ,1])"
      ]
    },
    {
      "cell_type": "code",
      "execution_count": 16,
      "metadata": {
        "id": "Hi_6E-ms6LYA"
      },
      "outputs": [
        {
          "data": {
            "text/plain": [
              "array([[1, 2, 3],\n",
              "       [5, 6, 7],\n",
              "       [6, 8, 9]])"
            ]
          },
          "execution_count": 16,
          "metadata": {},
          "output_type": "execute_result"
        }
      ],
      "source": [
        "# 5. 아래 두 array의 shape를 각각 말하시오. 또한 a에 대해 b를 행의 방향으로 추가한 후 해당 데이터를 변수 c에 할당하시오\n",
        "a = np.array([[1,2,3],[5,6,7]])\n",
        "b = np.array([[6,8,9]])\n",
        "\n",
        "# Q) np.concatenate((a,b),axis=1) 가능할까요? \n",
        "# np.concatenate((a, b), axis=1) 놉\n",
        "np.concatenate((a, b), axis=0)"
      ]
    },
    {
      "cell_type": "markdown",
      "metadata": {
        "id": "0vDBauSJ6L4x"
      },
      "source": [
        "### 1-2. Pandas"
      ]
    },
    {
      "cell_type": "code",
      "execution_count": 18,
      "metadata": {
        "colab": {
          "base_uri": "https://localhost:8080/",
          "height": 171
        },
        "id": "Gf73Shqx9nVB",
        "outputId": "95000be2-e6b7-47ce-fc3d-bb4ede316f2f"
      },
      "outputs": [
        {
          "data": {
            "text/html": [
              "<div>\n",
              "<style scoped>\n",
              "    .dataframe tbody tr th:only-of-type {\n",
              "        vertical-align: middle;\n",
              "    }\n",
              "\n",
              "    .dataframe tbody tr th {\n",
              "        vertical-align: top;\n",
              "    }\n",
              "\n",
              "    .dataframe thead th {\n",
              "        text-align: right;\n",
              "    }\n",
              "</style>\n",
              "<table border=\"1\" class=\"dataframe\">\n",
              "  <thead>\n",
              "    <tr style=\"text-align: right;\">\n",
              "      <th></th>\n",
              "      <th>age</th>\n",
              "      <th>adults</th>\n",
              "      <th>money</th>\n",
              "    </tr>\n",
              "  </thead>\n",
              "  <tbody>\n",
              "    <tr>\n",
              "      <th>0</th>\n",
              "      <td>12</td>\n",
              "      <td>5</td>\n",
              "      <td>1000</td>\n",
              "    </tr>\n",
              "    <tr>\n",
              "      <th>1</th>\n",
              "      <td>4</td>\n",
              "      <td>6</td>\n",
              "      <td>200</td>\n",
              "    </tr>\n",
              "    <tr>\n",
              "      <th>2</th>\n",
              "      <td>7</td>\n",
              "      <td>2</td>\n",
              "      <td>350</td>\n",
              "    </tr>\n",
              "    <tr>\n",
              "      <th>3</th>\n",
              "      <td>19</td>\n",
              "      <td>3</td>\n",
              "      <td>800</td>\n",
              "    </tr>\n",
              "  </tbody>\n",
              "</table>\n",
              "</div>"
            ],
            "text/plain": [
              "   age  adults  money\n",
              "0   12       5   1000\n",
              "1    4       6    200\n",
              "2    7       2    350\n",
              "3   19       3    800"
            ]
          },
          "execution_count": 18,
          "metadata": {},
          "output_type": "execute_result"
        }
      ],
      "source": [
        "## Pandas\n",
        "A = pd.DataFrame({'age':[12,4,7,19],'adults':[5,6,2,3],'money':[1000,200,350,800]})\n",
        "A"
      ]
    },
    {
      "cell_type": "code",
      "execution_count": 23,
      "metadata": {
        "id": "9ixNvZ0x6LU8"
      },
      "outputs": [
        {
          "name": "stdout",
          "output_type": "stream",
          "text": [
            "   age  money\n",
            "0   12   1000\n",
            "1    4    200\n",
            "2    7    350\n",
            "3   19    800\n",
            "   age  money\n",
            "0   12   1000\n",
            "1    4    200\n",
            "2    7    350\n",
            "3   19    800\n"
          ]
        }
      ],
      "source": [
        "# 1. loc와 iloc를 활용하여 'age'와 'money'에 해당하는 데이터 뽑기 (loc 버전 & iloc 버전 모두)\n",
        "print(A.loc[:,[\"age\", \"money\"]])\n",
        "print(A.iloc[:,[0, 2]])"
      ]
    },
    {
      "cell_type": "code",
      "execution_count": 36,
      "metadata": {
        "id": "qS1x6MU49cI0"
      },
      "outputs": [],
      "source": [
        "# 2. 새로운 데이터 minsu를 'minsu'라는 명칭으로 A의 행에 추가\n",
        "minsu = [15,4,700]\n",
        "A.loc[\"minsu\"] = minsu"
      ]
    },
    {
      "cell_type": "code",
      "execution_count": 37,
      "metadata": {},
      "outputs": [
        {
          "data": {
            "text/html": [
              "<div>\n",
              "<style scoped>\n",
              "    .dataframe tbody tr th:only-of-type {\n",
              "        vertical-align: middle;\n",
              "    }\n",
              "\n",
              "    .dataframe tbody tr th {\n",
              "        vertical-align: top;\n",
              "    }\n",
              "\n",
              "    .dataframe thead th {\n",
              "        text-align: right;\n",
              "    }\n",
              "</style>\n",
              "<table border=\"1\" class=\"dataframe\">\n",
              "  <thead>\n",
              "    <tr style=\"text-align: right;\">\n",
              "      <th></th>\n",
              "      <th>age</th>\n",
              "      <th>adults</th>\n",
              "      <th>money</th>\n",
              "    </tr>\n",
              "  </thead>\n",
              "  <tbody>\n",
              "    <tr>\n",
              "      <th>0</th>\n",
              "      <td>12</td>\n",
              "      <td>5</td>\n",
              "      <td>1000</td>\n",
              "    </tr>\n",
              "    <tr>\n",
              "      <th>1</th>\n",
              "      <td>4</td>\n",
              "      <td>6</td>\n",
              "      <td>200</td>\n",
              "    </tr>\n",
              "    <tr>\n",
              "      <th>2</th>\n",
              "      <td>7</td>\n",
              "      <td>2</td>\n",
              "      <td>350</td>\n",
              "    </tr>\n",
              "    <tr>\n",
              "      <th>3</th>\n",
              "      <td>19</td>\n",
              "      <td>3</td>\n",
              "      <td>800</td>\n",
              "    </tr>\n",
              "    <tr>\n",
              "      <th>minsu</th>\n",
              "      <td>15</td>\n",
              "      <td>4</td>\n",
              "      <td>700</td>\n",
              "    </tr>\n",
              "  </tbody>\n",
              "</table>\n",
              "</div>"
            ],
            "text/plain": [
              "       age  adults  money\n",
              "0       12       5   1000\n",
              "1        4       6    200\n",
              "2        7       2    350\n",
              "3       19       3    800\n",
              "minsu   15       4    700"
            ]
          },
          "execution_count": 37,
          "metadata": {},
          "output_type": "execute_result"
        }
      ],
      "source": [
        "A"
      ]
    },
    {
      "cell_type": "code",
      "execution_count": 44,
      "metadata": {
        "id": "P5EiSpHm9cAd"
      },
      "outputs": [
        {
          "name": "stdout",
          "output_type": "stream",
          "text": [
            "   age  adults  money\n",
            "0   12       5   1000\n",
            "2    7       2    350\n",
            "3   19       3    800\n",
            "       adults  money\n",
            "0           5   1000\n",
            "1           6    200\n",
            "2           2    350\n",
            "3           3    800\n",
            "minsu       4    700\n"
          ]
        }
      ],
      "source": [
        "# 3. A에서 2번째와 5번째('minsu')에 해당하는 행 삭제\n",
        "\n",
        "print(A.drop([\"minsu\", 1]))\n",
        "print(A.drop(\"age\", axis=1))"
      ]
    },
    {
      "cell_type": "code",
      "execution_count": 46,
      "metadata": {
        "id": "Ta-SQIVejFFh"
      },
      "outputs": [
        {
          "name": "stdout",
          "output_type": "stream",
          "text": [
            "   age  money\n",
            "0   12   1000\n",
            "2    7    350\n",
            "   age  money\n",
            "0   12   1000\n",
            "2    7    350\n"
          ]
        }
      ],
      "source": [
        "# Quiz) A.iloc[[0,2],['age','money']] 가능? \n",
        "# A.iloc[[0, 2], [\"age\", \"money\"]]\n",
        "print(A.loc[[0, 2], [\"age\", \"money\"]])\n",
        "print(A.iloc[[0, 2], [0, 2]])"
      ]
    },
    {
      "cell_type": "markdown",
      "metadata": {
        "id": "53u-HPGLRebk"
      },
      "source": [
        "## 2. matplotlib 실습2의 multibar"
      ]
    },
    {
      "cell_type": "code",
      "execution_count": null,
      "metadata": {
        "id": "dWy2XHq7C04v"
      },
      "outputs": [],
      "source": [
        "import matplotlib.pyplot as plt\n",
        "import numpy as np"
      ]
    },
    {
      "cell_type": "code",
      "execution_count": null,
      "metadata": {
        "colab": {
          "base_uri": "https://localhost:8080/",
          "height": 264
        },
        "id": "-JEiYYqVC8m9",
        "outputId": "1ef4b561-9518-4860-9685-0efd785c2b7d"
      },
      "outputs": [
        {
          "data": {
            "image/png": "[encoded data removed]",
            "text/plain": [
              "<Figure size 432x288 with 3 Axes>"
            ]
          },
          "metadata": {
            "needs_background": "light"
          },
          "output_type": "display_data"
        }
      ],
      "source": [
        "fig, axes = plt.subplots(3,1) \n",
        "\n",
        "x = np.array([3,2,1])\n",
        "y = np.array([2,3,2])\n",
        "z = np.array([1,3,4])\n",
        "data1 =  [x, y, z]\n",
        "\n",
        "x_ax =  np.arange(3) # np.array([0,1,2])\n",
        "colors = ['b','orange','g']\n",
        "\n",
        "# 누적 막대 그래프 -> 막대를 여러번 쌓는 것. for문을 통해 bar 그래프를 여러번 쌓음\n",
        "for i in x_ax:\n",
        "    # figure의 (1,0) 위치에 Bar 그래프를 그립니다.\n",
        "    # x 데이터는 x_ax, y 데이터는 각각 x,y,z로 설정합니다.\n",
        "    axes[i].bar(\n",
        "        x_ax, data1[i], color = colors[i],\n",
        "        bottom=np.sum(data1[:i], axis=0) # bottom: 해당 barplot을 어느정도 높이에서 그릴지 설정 가능\n",
        "    ) \n",
        "    axes[i].set_xticks(x_ax)\n",
        "    axes[i].set_xticklabels(['A','B','C']) # label을 x_ax값인 [0,1,2]에서 ['A','B','C']로 바꿔줌 \n",
        "    axes[i].set_ylim(0,9)\n",
        "\n",
        "# 파란색 그래프는 x_ax인 np.array([0,1,2])의 각 값에 해당하는 x의 값을 bar graph로 그려놓은거임\n",
        "# 주황색 그래프는 x_ax인 np.array([0,1,2])의 각 값에 해당하는 y의 값을 bar graph로 그려놓은거임. 이때 bottom을 통해 x_ax별로 대응하는 x값만큼 띄운 후 그 위에 y의 값에 해당하는 그래프를 그림. \n",
        "# 초록색 그래프는 x_ax인 np.array([0,1,2])의 각 값에 해당하는 z의 값을 bar graph로 그려놓은거임. 이때 bottom을 통해 x_ax별로 대응하는 x+y값만큼 띄운 후 그 위에 z의 값에 해당하는 그래프를 그림. "
      ]
    },
    {
      "cell_type": "code",
      "execution_count": null,
      "metadata": {
        "colab": {
          "base_uri": "https://localhost:8080/",
          "height": 264
        },
        "id": "XeA8uNBN2KlF",
        "outputId": "d9c3f5d1-9783-44c4-cb1c-6c4273467d85"
      },
      "outputs": [
        {
          "data": {
            "image/png": "[encoded data removed]",
            "text/plain": [
              "<Figure size 432x288 with 1 Axes>"
            ]
          },
          "metadata": {
            "needs_background": "light"
          },
          "output_type": "display_data"
        }
      ],
      "source": [
        "# 다 합쳐서 그리면 아래와 같음\n",
        "fig, ax = plt.subplots()\n",
        "for i in x_ax:\n",
        "    ax.bar(\n",
        "        x_ax, data1[i],\n",
        "        bottom=np.sum(data1[:i], axis=0)\n",
        "    ) \n",
        "plt.show()"
      ]
    },
    {
      "cell_type": "markdown",
      "metadata": {
        "id": "FeeiEV0qcE4F"
      },
      "source": [
        "## 3. 12/3 실습 퀴즈 (numpy, pandas)\n",
        "- 머릿속에서 풀어보시고 코드 돌려보세요!"
      ]
    },
    {
      "cell_type": "markdown",
      "metadata": {
        "id": "WQuuJP2YcIWT"
      },
      "source": [
        "### 3-1. numpy 실습 퀴즈"
      ]
    },
    {
      "cell_type": "markdown",
      "metadata": {
        "id": "Ciwx9C9XfGOk"
      },
      "source": [
        "배열 a,b를 합쳐서 배열 c를 만드는 코드로 알맞은 것을 고르세요"
      ]
    },
    {
      "cell_type": "code",
      "execution_count": 59,
      "metadata": {
        "id": "r-jRVLVIcDd-"
      },
      "outputs": [
        {
          "name": "stdout",
          "output_type": "stream",
          "text": [
            "[[1 2]\n",
            " [2 3]\n",
            " [1 2]]\n",
            "\n",
            "[[1 2 1]\n",
            " [2 3 2]]\n",
            "[[2 4]\n",
            " [3 5]]\n",
            "[[1 2 1]\n",
            " [2 3 2]]\n"
          ]
        }
      ],
      "source": [
        "# 물음표에 들어갈 코드로 알맞은 것을 고르세요.\n",
        "import numpy as np\n",
        "\n",
        "a = np.array([[1,2],[2,3]])\n",
        "b = np.array([[1,2]])\n",
        "\n",
        "c = np.r_[a, b]\n",
        "print(c)\n",
        "\n",
        "# 결과창\n",
        "# [[ 1,  2]\n",
        "# [2, 3]\n",
        "# [1, 2]]\n",
        "\n",
        "# 답안들\n",
        "# 1. np.r_[a,b]\n",
        "print()\n",
        "\n",
        "# 2. np.c_[a,b.reshape((-1,1))]\n",
        "print(np.c_[a,b.reshape((-1,1))])\n",
        "\n",
        "# 3. a+b\n",
        "print(a+b)\n",
        "\n",
        "# 4. np.concatenate((a,b.reshape((-1,1))), axis=1)\n",
        "print(np.concatenate((a,b.reshape((-1,1))), axis=1))"
      ]
    },
    {
      "cell_type": "code",
      "execution_count": null,
      "metadata": {
        "id": "A6zsytPaC4_b"
      },
      "outputs": [],
      "source": [
        "# 머릿속에서 풀어본 후 돌려보기"
      ]
    },
    {
      "cell_type": "code",
      "execution_count": null,
      "metadata": {
        "id": "uJR1EDx5z6A8"
      },
      "outputs": [],
      "source": [
        "a = np.array([[1,2],[2,3]])\n",
        "b = np.array([[1,2]])"
      ]
    },
    {
      "cell_type": "code",
      "execution_count": null,
      "metadata": {
        "id": "samBr4cpgkOV"
      },
      "outputs": [],
      "source": [
        "# a의 shape는? b의 shape는?\n",
        "print(a,'\\n')\n",
        "print(b)"
      ]
    },
    {
      "cell_type": "code",
      "execution_count": null,
      "metadata": {
        "id": "YHW_Er8LC8ke"
      },
      "outputs": [],
      "source": [
        "np.r_[a,b]"
      ]
    },
    {
      "cell_type": "code",
      "execution_count": null,
      "metadata": {
        "id": "DOE6ex4qC8gj"
      },
      "outputs": [],
      "source": [
        "np.c_[a,b.reshape((-1,1))] # b.reshape(-1,1)의 shape는?"
      ]
    },
    {
      "cell_type": "code",
      "execution_count": 73,
      "metadata": {
        "id": "RwaLagA1fbdV"
      },
      "outputs": [
        {
          "data": {
            "text/plain": [
              "array([[2, 4],\n",
              "       [3, 5]])"
            ]
          },
          "execution_count": 73,
          "metadata": {},
          "output_type": "execute_result"
        }
      ],
      "source": [
        "a+b\n",
        "# 그냥 더하지말고 expend? 사용"
      ]
    },
    {
      "cell_type": "code",
      "execution_count": null,
      "metadata": {
        "id": "k7vQUKbhfbw6"
      },
      "outputs": [],
      "source": [
        "np.concatenate((a,b.reshape((-1,1))), axis=1)"
      ]
    },
    {
      "cell_type": "markdown",
      "metadata": {
        "id": "XMEDHkEIfccy"
      },
      "source": [
        "### 3-2. pandas 실습 퀴즈"
      ]
    },
    {
      "cell_type": "markdown",
      "metadata": {
        "id": "WavAK6Mufkek"
      },
      "source": [
        "결과 창과 동일한 출력하기 위한 코드로 올바른 것을 고르세요."
      ]
    },
    {
      "cell_type": "code",
      "execution_count": null,
      "metadata": {
        "id": "fQXP9iAcfkyY"
      },
      "outputs": [],
      "source": [
        "# 물음표에 들어갈 코드로 알맞은 것을 고르세요.\n",
        "\n",
        "data = [[1, 2], \n",
        "        [3, 4]]\n",
        "df = pd.DataFrame(?)\n",
        "\n",
        "print(df)\n",
        "\n",
        "# 결과창\n",
        "   a  b\n",
        "0  1  3\n",
        "1  2  4\n",
        "\n",
        "# 답안들\n",
        "1. {\"a\" : [1 ,3], \"b\" : [2, 4]}\n",
        "\n",
        "2. {\"a\" : data[0], \"b\" : data[1]}, index = [0,1]\n",
        "\n",
        "3. data, columns = ['a', 'b']\n",
        "\n",
        "4. data, index = [0, 1], columns = ['a', 'b']"
      ]
    },
    {
      "cell_type": "code",
      "execution_count": null,
      "metadata": {
        "id": "AsKi0L1dC8TW"
      },
      "outputs": [],
      "source": [
        "# 머릿속에서 풀어본 후 돌려보기"
      ]
    },
    {
      "cell_type": "code",
      "execution_count": 71,
      "metadata": {
        "id": "Wb5-tXZf1kq9"
      },
      "outputs": [],
      "source": [
        "data = [[1, 2], [3, 4]]"
      ]
    },
    {
      "cell_type": "code",
      "execution_count": 63,
      "metadata": {
        "id": "3K7J1Me6flD0"
      },
      "outputs": [
        {
          "data": {
            "text/html": [
              "<div>\n",
              "<style scoped>\n",
              "    .dataframe tbody tr th:only-of-type {\n",
              "        vertical-align: middle;\n",
              "    }\n",
              "\n",
              "    .dataframe tbody tr th {\n",
              "        vertical-align: top;\n",
              "    }\n",
              "\n",
              "    .dataframe thead th {\n",
              "        text-align: right;\n",
              "    }\n",
              "</style>\n",
              "<table border=\"1\" class=\"dataframe\">\n",
              "  <thead>\n",
              "    <tr style=\"text-align: right;\">\n",
              "      <th></th>\n",
              "      <th>a</th>\n",
              "      <th>b</th>\n",
              "    </tr>\n",
              "  </thead>\n",
              "  <tbody>\n",
              "    <tr>\n",
              "      <th>0</th>\n",
              "      <td>1</td>\n",
              "      <td>2</td>\n",
              "    </tr>\n",
              "    <tr>\n",
              "      <th>1</th>\n",
              "      <td>3</td>\n",
              "      <td>4</td>\n",
              "    </tr>\n",
              "  </tbody>\n",
              "</table>\n",
              "</div>"
            ],
            "text/plain": [
              "   a  b\n",
              "0  1  2\n",
              "1  3  4"
            ]
          },
          "execution_count": 63,
          "metadata": {},
          "output_type": "execute_result"
        }
      ],
      "source": [
        "pd.DataFrame({\"a\" : [1 ,3], \"b\" : [2, 4]})"
      ]
    },
    {
      "cell_type": "code",
      "execution_count": 64,
      "metadata": {
        "id": "kv-IiesTflRa"
      },
      "outputs": [
        {
          "data": {
            "text/html": [
              "<div>\n",
              "<style scoped>\n",
              "    .dataframe tbody tr th:only-of-type {\n",
              "        vertical-align: middle;\n",
              "    }\n",
              "\n",
              "    .dataframe tbody tr th {\n",
              "        vertical-align: top;\n",
              "    }\n",
              "\n",
              "    .dataframe thead th {\n",
              "        text-align: right;\n",
              "    }\n",
              "</style>\n",
              "<table border=\"1\" class=\"dataframe\">\n",
              "  <thead>\n",
              "    <tr style=\"text-align: right;\">\n",
              "      <th></th>\n",
              "      <th>a</th>\n",
              "      <th>b</th>\n",
              "    </tr>\n",
              "  </thead>\n",
              "  <tbody>\n",
              "    <tr>\n",
              "      <th>0</th>\n",
              "      <td>1</td>\n",
              "      <td>3</td>\n",
              "    </tr>\n",
              "    <tr>\n",
              "      <th>1</th>\n",
              "      <td>2</td>\n",
              "      <td>4</td>\n",
              "    </tr>\n",
              "  </tbody>\n",
              "</table>\n",
              "</div>"
            ],
            "text/plain": [
              "   a  b\n",
              "0  1  3\n",
              "1  2  4"
            ]
          },
          "execution_count": 64,
          "metadata": {},
          "output_type": "execute_result"
        }
      ],
      "source": [
        "pd.DataFrame({\"a\" : data[0], \"b\" : data[1]}, index = [0,1])"
      ]
    },
    {
      "cell_type": "code",
      "execution_count": 70,
      "metadata": {
        "id": "d4_ua9nmfltX"
      },
      "outputs": [
        {
          "data": {
            "text/html": [
              "<div>\n",
              "<style scoped>\n",
              "    .dataframe tbody tr th:only-of-type {\n",
              "        vertical-align: middle;\n",
              "    }\n",
              "\n",
              "    .dataframe tbody tr th {\n",
              "        vertical-align: top;\n",
              "    }\n",
              "\n",
              "    .dataframe thead th {\n",
              "        text-align: right;\n",
              "    }\n",
              "</style>\n",
              "<table border=\"1\" class=\"dataframe\">\n",
              "  <thead>\n",
              "    <tr style=\"text-align: right;\">\n",
              "      <th></th>\n",
              "      <th>a</th>\n",
              "      <th>b</th>\n",
              "    </tr>\n",
              "  </thead>\n",
              "  <tbody>\n",
              "    <tr>\n",
              "      <th>0</th>\n",
              "      <td>1</td>\n",
              "      <td>2</td>\n",
              "    </tr>\n",
              "    <tr>\n",
              "      <th>1</th>\n",
              "      <td>3</td>\n",
              "      <td>4</td>\n",
              "    </tr>\n",
              "  </tbody>\n",
              "</table>\n",
              "</div>"
            ],
            "text/plain": [
              "   a  b\n",
              "0  1  2\n",
              "1  3  4"
            ]
          },
          "execution_count": 70,
          "metadata": {},
          "output_type": "execute_result"
        }
      ],
      "source": [
        "data = np.array(data).T\n",
        "pd.DataFrame(data, columns = ['a', 'b'])"
      ]
    },
    {
      "cell_type": "code",
      "execution_count": 66,
      "metadata": {
        "id": "Dr75HI54fl7V"
      },
      "outputs": [
        {
          "data": {
            "text/html": [
              "<div>\n",
              "<style scoped>\n",
              "    .dataframe tbody tr th:only-of-type {\n",
              "        vertical-align: middle;\n",
              "    }\n",
              "\n",
              "    .dataframe tbody tr th {\n",
              "        vertical-align: top;\n",
              "    }\n",
              "\n",
              "    .dataframe thead th {\n",
              "        text-align: right;\n",
              "    }\n",
              "</style>\n",
              "<table border=\"1\" class=\"dataframe\">\n",
              "  <thead>\n",
              "    <tr style=\"text-align: right;\">\n",
              "      <th></th>\n",
              "      <th>a</th>\n",
              "      <th>b</th>\n",
              "    </tr>\n",
              "  </thead>\n",
              "  <tbody>\n",
              "    <tr>\n",
              "      <th>0</th>\n",
              "      <td>1</td>\n",
              "      <td>2</td>\n",
              "    </tr>\n",
              "    <tr>\n",
              "      <th>1</th>\n",
              "      <td>3</td>\n",
              "      <td>4</td>\n",
              "    </tr>\n",
              "  </tbody>\n",
              "</table>\n",
              "</div>"
            ],
            "text/plain": [
              "   a  b\n",
              "0  1  2\n",
              "1  3  4"
            ]
          },
          "execution_count": 66,
          "metadata": {},
          "output_type": "execute_result"
        }
      ],
      "source": [
        "pd.DataFrame(data, index = [0, 1], columns = ['a', 'b'])"
      ]
    },
    {
      "cell_type": "code",
      "execution_count": null,
      "metadata": {
        "id": "yZsxuXSZgZ35"
      },
      "outputs": [],
      "source": []
    }
  ],
  "metadata": {
    "colab": {
      "collapsed_sections": [],
      "name": "12_7_quiz.ipynb",
      "provenance": [],
      "toc_visible": true
    },
    "kernelspec": {
      "display_name": "Python 3",
      "name": "python3"
    },
    "language_info": {
      "codemirror_mode": {
        "name": "ipython",
        "version": 3
      },
      "file_extension": ".py",
      "mimetype": "text/x-python",
      "name": "python",
      "nbconvert_exporter": "python",
      "pygments_lexer": "ipython3",
      "version": "3.8.1"
    }
  },
  "nbformat": 4,
  "nbformat_minor": 0
}
