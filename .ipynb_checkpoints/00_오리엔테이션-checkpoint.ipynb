{
 "cells": [
  {
   "cell_type": "markdown",
   "metadata": {},
   "source": [
    "# OT"
   ]
  },
  {
   "cell_type": "markdown",
   "metadata": {},
   "source": [
    "## 1부\n",
    "https://kdt.elice.io/courses/15243/lectures/127160/materials/2\n",
    "### 1. 엘리스 및 AI트랙 소개\n",
    "\n",
    "- 엘리스 회사\n",
    "\n",
    "\n",
    "\n",
    "## 2부\n",
    "\n",
    "- 출석방법\n",
    "\n",
    "- 80%수료해야 한다.\n",
    "\n",
    "- 무단 결석일 수가 10일 초과\n",
    "- 훈련기간 결석 20%초과\n",
    "- 대리출석\n",
    "\n",
    "### QR체크인\n",
    "- 강의 시작 후 10까지\n",
    "- 체크아웃은 종료 10전 가능\n",
    "\n",
    "## 온라인\n",
    "\n",
    "- 로그인 로그아웃 시간 데이터 확인\n",
    "- 학습기간 기록\n",
    "  - 엘리스 플랫폼 시간 확인\n",
    "  \n",
    "### 노션\n",
    "이름\n",
    "\n",
    "https://eli.so/c/kdt3racer\n",
    "\n",
    "### 디스코드\n",
    "\n"
   ]
  }
 ],
 "metadata": {
  "kernelspec": {
   "display_name": "Python 3",
   "language": "python",
   "name": "python3"
  },
  "language_info": {
   "codemirror_mode": {
    "name": "ipython",
    "version": 3
   },
   "file_extension": ".py",
   "mimetype": "text/x-python",
   "name": "python",
   "nbconvert_exporter": "python",
   "pygments_lexer": "ipython3",
   "version": "3.7.6"
  }
 },
 "nbformat": 4,
 "nbformat_minor": 4
}
