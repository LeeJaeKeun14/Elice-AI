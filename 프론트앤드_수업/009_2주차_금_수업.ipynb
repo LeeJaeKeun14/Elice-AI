{
 "cells": [
  {
   "cell_type": "markdown",
   "source": [
    "# 흠\r\n",
    "\r\n",
    "```js\r\n",
    "    prompt()\r\n",
    "    // 입력 받기\r\n",
    "```\r\n",
    "\r\n",
    "## array\r\n",
    "\r\n",
    "(추가 기능들)[https://developer.mozilla.org/ko/docs/Web/JavaScript/Reference/Global_Objects/Array]\r\n",
    "ls.length\r\n",
    "ls.join(\", \")\r\n",
    "\r\n",
    "- `\\``\r\n",
    "\r\n",
    "```js\r\n",
    "    for(i=1; i<topics.length; i++){\r\n",
    "        console.log(`<li><a href=\"${topics[i].id}\">${topics[i].title}</a></li>`)\r\n",
    "        }\r\n",
    "```\r\n",
    "\r\n",
    "- debugger\r\n",
    "\r\n",
    "```js\r\n",
    "    ...\r\n",
    "    debugger;\r\n",
    "\r\n",
    "    ...\r\n",
    "```\r\n",
    "  - 디버거를 만나면 디버그 위치부터 코드 확인 가능\r\n",
    "\r\n",
    "https://kdt-gitlab.elice.io/Teacher\r\n",
    "\r\n",
    "복습 필요\r\n",
    "\r\n",
    "어케 내용 추가하지?\r\n"
   ],
   "metadata": {}
  },
  {
   "cell_type": "markdown",
   "source": [],
   "metadata": {}
  }
 ],
 "metadata": {
  "orig_nbformat": 4,
  "language_info": {
   "name": "python"
  }
 },
 "nbformat": 4,
 "nbformat_minor": 2
}