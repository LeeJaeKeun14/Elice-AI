{
 "cells": [
  {
   "cell_type": "markdown",
   "source": [
    "# push, concat\r\n",
    "\r\n",
    "- push 는 원본 수정\r\n",
    "- concat은 복제 후 반환"
   ],
   "metadata": {}
  }
 ],
 "metadata": {
  "orig_nbformat": 4,
  "language_info": {
   "name": "python"
  }
 },
 "nbformat": 4,
 "nbformat_minor": 2
}