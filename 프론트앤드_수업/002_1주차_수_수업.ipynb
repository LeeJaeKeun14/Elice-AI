{
 "cells": [
  {
   "cell_type": "markdown",
   "source": [
    "# HTML/CSS\r\n",
    "\r\n",
    "## 목차\r\n",
    "\r\n",
    "1. 박스모델\r\n",
    "2. Block 요소와 inline요소\r\n",
    "3. 마진 병합 현상\r\n",
    "4. 레이아웃에 영향을 미치는 속성\r\n",
    "5. 쇼핑몰 만들기\r\n",
    "\r\n",
    "### 박스모델\r\n",
    "\r\n",
    "- 마진margin\r\n",
    "  - 볼더border\r\n",
    "    - 페딩padding\r\n",
    "      - 컨텐츠content\r\n",
    "```css\r\n",
    "    <style>\r\n",
    "        div{ margin : 100px 0 0 100px;}\r\n",
    "    </style>\r\n",
    "```\r\n",
    "top right bottom left 순서로 한줄에 작성 가능\r\n",
    "\r\n",
    "## 블럭, 인라인\r\n",
    "\r\n",
    "- 블럭\r\n",
    "  - p, h1 ~, div, header, ...\r\n",
    "    - 줄바꿈, width/height 로 공간 생성 가능, margin/padding 으로 상하 좌우 조절 가능\r\n",
    "- 인라인\r\n",
    "  - a, span\r\n",
    "    - 위 설정 전부 불가 \r\n",
    "\r\n",
    "## 마진 병합현상\r\n",
    "\r\n",
    "- 형제간의 마진 병합\r\n",
    "  - margin-bottom 150, margin-top 100 일경우 250이 아닌 큰값인 150이 된다.\r\n",
    "- 부모 자식간의 마진 병합\r\n",
    "  - <main><article></article></main>\r\n",
    "  - ... <style>article{margin-top:100px} \r\n",
    "    - 일경우 자식만 마진에 영향받는것이 아닌 부모도 영향\r\n",
    "      - 예외처리는 부모에 padding-top : 20px 를 주어 처리한다.\r\n",
    "\r\n",
    "## 레이아웃 속성 변경\r\n",
    "\r\n",
    "- display\r\n",
    "  - p{ display : inline;}\r\n",
    "  - a{ display : block;}\r\n",
    "  - a{ display : block-inline;}\r\n",
    "\r\n",
    "- float\r\n",
    "  - .test_a {float: left} // 왼쪽정렬\r\n",
    "  - .test_b {float: right} // 오른쪽정렬\r\n",
    "\r\n",
    "- clear\r\n",
    "  - float 를 사용하면 뜬 상태가 되므로 다른 레이어와 겹치게 된다. 이를 해결하기위해 clear를 사용한다.\r\n",
    "    - header(float)일 경우 바로 뒤 오는 태그 clear\r\n",
    "    - footer{clear:both} // right, left 도 있지만 어차피 둘다 제거하는 both가 유용하다\r\n",
    "\r\n",
    "- 브라우져와 공간 사이의 여백 제거하기\r\n",
    "- <style>html, body{ margin:0;, padding:0;}</style>\r\n",
    "- <style>*{ margin:0;, padding:0;}</style>\r\n",
    "  - 모든 태그 * 로 설정 가능"
   ],
   "metadata": {}
  },
  {
   "cell_type": "code",
   "execution_count": null,
   "source": [],
   "outputs": [],
   "metadata": {}
  },
  {
   "cell_type": "code",
   "execution_count": null,
   "source": [],
   "outputs": [],
   "metadata": {}
  },
  {
   "cell_type": "code",
   "execution_count": null,
   "source": [],
   "outputs": [],
   "metadata": {}
  },
  {
   "cell_type": "code",
   "execution_count": null,
   "source": [],
   "outputs": [],
   "metadata": {}
  }
 ],
 "metadata": {
  "orig_nbformat": 4,
  "language_info": {
   "name": "python"
  }
 },
 "nbformat": 4,
 "nbformat_minor": 2
}