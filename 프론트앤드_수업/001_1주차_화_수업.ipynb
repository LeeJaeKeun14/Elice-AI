{
 "cells": [
  {
   "cell_type": "code",
   "execution_count": null,
   "source": [
    "  <style>\r\n",
    "\r\n",
    "    .paragraph {\r\n",
    "      border-style: solid;\r\n",
    "      border-width: 2px;\r\n",
    "      border-color: red;\r\n",
    "      background-color: yellow;\r\n",
    "      background-image: url(\"elice_logo.png\");\r\n",
    "      background-repeat: no-repeat;\r\n",
    "      background-position: center;\r\n",
    "      width: 500px;\r\n",
    "      height: 500px;\r\n",
    "      \r\n",
    "      font-size; 50px;\r\n",
    "      font-weight: bold;\r\n",
    "      font-style: italic;\r\n",
    "      font-family: Arial, times, sans-serif;\r\n",
    "\r\n",
    "    }"
   ],
   "outputs": [],
   "metadata": {}
  }
 ],
 "metadata": {
  "orig_nbformat": 4,
  "language_info": {
   "name": "python"
  }
 },
 "nbformat": 4,
 "nbformat_minor": 2
}