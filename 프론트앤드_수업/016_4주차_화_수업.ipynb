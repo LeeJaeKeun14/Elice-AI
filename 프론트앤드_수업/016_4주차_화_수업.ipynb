{
 "cells": [
  {
   "cell_type": "markdown",
   "metadata": {},
   "source": [
    "# react\n",
    "\n",
    "ctrl + 클릭 해당 함수로 이동\n",
    "\n",
    "우클릭 > 피킹 > 정의피킹 \n",
    "\n",
    "- tr : \n",
    "  - 한줄\n",
    "- th :\n",
    "  - 하나의 셀\n",
    "  - colSpan :(속성)\n",
    "    - 2칸의 셀을 사용하겠다\n",
    "- td :\n",
    "  - "
   ]
  }
 ],
 "metadata": {
  "language_info": {
   "name": "python"
  },
  "orig_nbformat": 4
 },
 "nbformat": 4,
 "nbformat_minor": 2
}
